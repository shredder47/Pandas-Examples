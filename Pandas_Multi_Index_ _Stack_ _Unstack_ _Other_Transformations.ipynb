{
  "nbformat": 4,
  "nbformat_minor": 0,
  "metadata": {
    "colab": {
      "name": "Pandas Multi-Index | Stack | Unstack | Other Transformations.ipynb",
      "provenance": [],
      "collapsed_sections": []
    },
    "kernelspec": {
      "name": "python3",
      "display_name": "Python 3"
    }
  },
  "cells": [
    {
      "cell_type": "code",
      "metadata": {
        "id": "EnfywC-4YxeT",
        "colab_type": "code",
        "colab": {}
      },
      "source": [
        "import pandas as pd\n",
        "import numpy as np"
      ],
      "execution_count": 119,
      "outputs": []
    },
    {
      "cell_type": "code",
      "metadata": {
        "id": "Yj0i62Jd21RL",
        "colab_type": "code",
        "colab": {
          "base_uri": "https://localhost:8080/",
          "height": 185
        },
        "outputId": "f6ae095e-e2dd-46ce-a5de-7d215794f3b1"
      },
      "source": [
        "# First attempt to crete multi index type of implementation!\n",
        "\n",
        "index = [ ('America','California', 2000), ('America','California', 2010),\n",
        "          ('Asia','Delhi', 2000), ('Asia','Delhi', 2010),\n",
        "          ('Asia','HK', 2000), ('Asia','HK', 2010),\n",
        "          ('America','Texas', 2000), ('America','Texas', 2010)\n",
        "        ]\n",
        "\n",
        "populations = [33871648, 37253956,18976457, 19378102,30861820, 35145561,20851820, 25145561]\n",
        "\n",
        "# Lets create a Series with index containing two informations\n",
        "\n",
        "pop = pd.Series(populations, index=index)\n",
        "pop"
      ],
      "execution_count": 120,
      "outputs": [
        {
          "output_type": "execute_result",
          "data": {
            "text/plain": [
              "(America, California, 2000)    33871648\n",
              "(America, California, 2010)    37253956\n",
              "(Asia, Delhi, 2000)            18976457\n",
              "(Asia, Delhi, 2010)            19378102\n",
              "(Asia, HK, 2000)               30861820\n",
              "(Asia, HK, 2010)               35145561\n",
              "(America, Texas, 2000)         20851820\n",
              "(America, Texas, 2010)         25145561\n",
              "dtype: int64"
            ]
          },
          "metadata": {
            "tags": []
          },
          "execution_count": 120
        }
      ]
    },
    {
      "cell_type": "code",
      "metadata": {
        "id": "uJCMNWEW3hSC",
        "colab_type": "code",
        "colab": {
          "base_uri": "https://localhost:8080/",
          "height": 36
        },
        "outputId": "e08b48cd-beab-49f9-c568-d30b33693001"
      },
      "source": [
        "# Looks like we have extra dimensions in a Series\n",
        "\n",
        "# We can get Pop of CA on 2000 like this , i.e supplying the whole Index\n",
        "\n",
        "pop[('America','California',2000)]"
      ],
      "execution_count": 121,
      "outputs": [
        {
          "output_type": "execute_result",
          "data": {
            "text/plain": [
              "33871648"
            ]
          },
          "metadata": {
            "tags": []
          },
          "execution_count": 121
        }
      ]
    },
    {
      "cell_type": "code",
      "metadata": {
        "id": "tTwmF3yrM9Bf",
        "colab_type": "code",
        "colab": {
          "base_uri": "https://localhost:8080/",
          "height": 36
        },
        "outputId": "5e3dad6f-e5c6-4482-963a-47fb3c456bb6"
      },
      "source": [
        "# same thing like\n",
        "\n",
        "pop[('America','Texas',2010)]"
      ],
      "execution_count": 122,
      "outputs": [
        {
          "output_type": "execute_result",
          "data": {
            "text/plain": [
              "25145561"
            ]
          },
          "metadata": {
            "tags": []
          },
          "execution_count": 122
        }
      ]
    },
    {
      "cell_type": "code",
      "metadata": {
        "id": "dSU9eNPoNNLs",
        "colab_type": "code",
        "colab": {
          "base_uri": "https://localhost:8080/",
          "height": 147
        },
        "outputId": "24b3a60a-b67b-434b-872d-c055e6ae87e6"
      },
      "source": [
        "# also something like using index slicing\n",
        "pop[('America','California', 2010):('America','Texas', 2000)]"
      ],
      "execution_count": 123,
      "outputs": [
        {
          "output_type": "execute_result",
          "data": {
            "text/plain": [
              "(America, California, 2010)    37253956\n",
              "(Asia, Delhi, 2000)            18976457\n",
              "(Asia, Delhi, 2010)            19378102\n",
              "(Asia, HK, 2000)               30861820\n",
              "(Asia, HK, 2010)               35145561\n",
              "(America, Texas, 2000)         20851820\n",
              "dtype: int64"
            ]
          },
          "metadata": {
            "tags": []
          },
          "execution_count": 123
        }
      ]
    },
    {
      "cell_type": "code",
      "metadata": {
        "id": "ES7EaoXVNZLT",
        "colab_type": "code",
        "colab": {
          "base_uri": "https://localhost:8080/",
          "height": 110
        },
        "outputId": "2d226037-0975-4cd4-8bf0-110825dc49a3"
      },
      "source": [
        "# But if we want something like , give me all records for year 2010 ?\n",
        "# we can do but it will require some python code intervention \n",
        "\n",
        "# Step 1\n",
        "# Extract the index as Tuples\n",
        "\n",
        "indexes = pop.index\n",
        "indexes"
      ],
      "execution_count": 124,
      "outputs": [
        {
          "output_type": "execute_result",
          "data": {
            "text/plain": [
              "Index([('America', 'California', 2000), ('America', 'California', 2010),\n",
              "               ('Asia', 'Delhi', 2000),         ('Asia', 'Delhi', 2010),\n",
              "                  ('Asia', 'HK', 2000),            ('Asia', 'HK', 2010),\n",
              "            ('America', 'Texas', 2000),      ('America', 'Texas', 2010)],\n",
              "      dtype='object')"
            ]
          },
          "metadata": {
            "tags": []
          },
          "execution_count": 124
        }
      ]
    },
    {
      "cell_type": "code",
      "metadata": {
        "id": "dWP6Uw9UNpks",
        "colab_type": "code",
        "colab": {
          "base_uri": "https://localhost:8080/",
          "height": 92
        },
        "outputId": "ba2b6cf0-7f12-4c09-df5e-df87585f4a45"
      },
      "source": [
        "# Step 2\n",
        "# Create Boolean Mask\n",
        "mask = [i for i in indexes if i[2] == 2010]\n",
        "mask"
      ],
      "execution_count": 125,
      "outputs": [
        {
          "output_type": "execute_result",
          "data": {
            "text/plain": [
              "[('America', 'California', 2010),\n",
              " ('Asia', 'Delhi', 2010),\n",
              " ('Asia', 'HK', 2010),\n",
              " ('America', 'Texas', 2010)]"
            ]
          },
          "metadata": {
            "tags": []
          },
          "execution_count": 125
        }
      ]
    },
    {
      "cell_type": "code",
      "metadata": {
        "id": "bkPpmh1XOrB5",
        "colab_type": "code",
        "colab": {
          "base_uri": "https://localhost:8080/",
          "height": 110
        },
        "outputId": "200b2b7a-1cfa-441e-bd14-540faf05b481"
      },
      "source": [
        "# Step 3 , pass the mask to pop\n",
        "pop[mask]"
      ],
      "execution_count": 126,
      "outputs": [
        {
          "output_type": "execute_result",
          "data": {
            "text/plain": [
              "(America, California, 2010)    37253956\n",
              "(Asia, Delhi, 2010)            19378102\n",
              "(Asia, HK, 2010)               35145561\n",
              "(America, Texas, 2010)         25145561\n",
              "dtype: int64"
            ]
          },
          "metadata": {
            "tags": []
          },
          "execution_count": 126
        }
      ]
    },
    {
      "cell_type": "code",
      "metadata": {
        "id": "aJ6-ztomPO_E",
        "colab_type": "code",
        "colab": {
          "base_uri": "https://localhost:8080/",
          "height": 185
        },
        "outputId": "e7b7be4f-be18-4e3e-b8d1-78718185e88e"
      },
      "source": [
        "# The above approach took few lines of code\n",
        "# Lets create MULTI INDEX\n",
        "\n",
        "new_index =  pd.MultiIndex.from_tuples(index)\n",
        "new_index"
      ],
      "execution_count": 127,
      "outputs": [
        {
          "output_type": "execute_result",
          "data": {
            "text/plain": [
              "MultiIndex([('America', 'California', 2000),\n",
              "            ('America', 'California', 2010),\n",
              "            (   'Asia',      'Delhi', 2000),\n",
              "            (   'Asia',      'Delhi', 2010),\n",
              "            (   'Asia',         'HK', 2000),\n",
              "            (   'Asia',         'HK', 2010),\n",
              "            ('America',      'Texas', 2000),\n",
              "            ('America',      'Texas', 2010)],\n",
              "           )"
            ]
          },
          "metadata": {
            "tags": []
          },
          "execution_count": 127
        }
      ]
    },
    {
      "cell_type": "code",
      "metadata": {
        "id": "2afLE6ZlPphj",
        "colab_type": "code",
        "colab": {
          "base_uri": "https://localhost:8080/",
          "height": 185
        },
        "outputId": "0b0dbf8f-b01d-421a-8097-00a2f33ac5eb"
      },
      "source": [
        "# lets reindex the existing pop DF\n",
        "\n",
        "pop = pop.reindex(new_index)\n",
        "pop"
      ],
      "execution_count": 128,
      "outputs": [
        {
          "output_type": "execute_result",
          "data": {
            "text/plain": [
              "America  California  2000    33871648\n",
              "                     2010    37253956\n",
              "Asia     Delhi       2000    18976457\n",
              "                     2010    19378102\n",
              "         HK          2000    30861820\n",
              "                     2010    35145561\n",
              "America  Texas       2000    20851820\n",
              "                     2010    25145561\n",
              "dtype: int64"
            ]
          },
          "metadata": {
            "tags": []
          },
          "execution_count": 128
        }
      ]
    },
    {
      "cell_type": "code",
      "metadata": {
        "id": "oWE-aNzaUjTt",
        "colab_type": "code",
        "colab": {
          "base_uri": "https://localhost:8080/",
          "height": 185
        },
        "outputId": "d8bf41b4-2cf2-40bd-b755-dd31ad58e056"
      },
      "source": [
        "# The above looks bit odd, we can sort the index for better understanding\n",
        "\n",
        "pop.sort_index(inplace=True)\n",
        "pop"
      ],
      "execution_count": 129,
      "outputs": [
        {
          "output_type": "execute_result",
          "data": {
            "text/plain": [
              "America  California  2000    33871648\n",
              "                     2010    37253956\n",
              "         Texas       2000    20851820\n",
              "                     2010    25145561\n",
              "Asia     Delhi       2000    18976457\n",
              "                     2010    19378102\n",
              "         HK          2000    30861820\n",
              "                     2010    35145561\n",
              "dtype: int64"
            ]
          },
          "metadata": {
            "tags": []
          },
          "execution_count": 129
        }
      ]
    },
    {
      "cell_type": "code",
      "metadata": {
        "id": "P1JrJWv2P8Rj",
        "colab_type": "code",
        "colab": {
          "base_uri": "https://localhost:8080/",
          "height": 185
        },
        "outputId": "bdfd7791-e7f7-48c3-9363-90aa6608fac8"
      },
      "source": [
        "# Now the index part of POP looks different! Now its a multi indexed index\n",
        "# THis new approach is easy to query\n",
        "# Lets do the pythonic approach with new technique\n",
        "\n",
        "pop[:2010] # very simple"
      ],
      "execution_count": 130,
      "outputs": [
        {
          "output_type": "execute_result",
          "data": {
            "text/plain": [
              "America  California  2000    33871648\n",
              "                     2010    37253956\n",
              "         Texas       2000    20851820\n",
              "                     2010    25145561\n",
              "Asia     Delhi       2000    18976457\n",
              "                     2010    19378102\n",
              "         HK          2000    30861820\n",
              "                     2010    35145561\n",
              "dtype: int64"
            ]
          },
          "metadata": {
            "tags": []
          },
          "execution_count": 130
        }
      ]
    },
    {
      "cell_type": "code",
      "metadata": {
        "id": "AiINzfAKQbw7",
        "colab_type": "code",
        "colab": {
          "base_uri": "https://localhost:8080/",
          "height": 73
        },
        "outputId": "ca823dd4-25f8-45ed-ce2d-eb1d7dbcb45a"
      },
      "source": [
        "pop[:,'California']"
      ],
      "execution_count": 131,
      "outputs": [
        {
          "output_type": "execute_result",
          "data": {
            "text/plain": [
              "America  2000    33871648\n",
              "         2010    37253956\n",
              "dtype: int64"
            ]
          },
          "metadata": {
            "tags": []
          },
          "execution_count": 131
        }
      ]
    },
    {
      "cell_type": "code",
      "metadata": {
        "id": "ZCo7L8tcQt5c",
        "colab_type": "code",
        "colab": {
          "base_uri": "https://localhost:8080/",
          "height": 73
        },
        "outputId": "8352d5eb-d5a0-4960-d15b-d08ce6445006"
      },
      "source": [
        "# When we use Muiti index, it creates a Levels.\n",
        "# In this example, There are two levels\n",
        "# Level 0 -> Continent\n",
        "# Level 1 -> City\n",
        "# Level 2 -> Year\n",
        "\n",
        "# Therefore, to get all info related to Texas we write\n",
        "\n",
        "pop['America','Texas']\n",
        "# It shows data for the levels underneath it , i.e Year"
      ],
      "execution_count": 132,
      "outputs": [
        {
          "output_type": "execute_result",
          "data": {
            "text/plain": [
              "2000    20851820\n",
              "2010    25145561\n",
              "dtype: int64"
            ]
          },
          "metadata": {
            "tags": []
          },
          "execution_count": 132
        }
      ]
    },
    {
      "cell_type": "markdown",
      "metadata": {
        "id": "Wy-wb3KYYOHz",
        "colab_type": "text"
      },
      "source": [
        ""
      ]
    },
    {
      "cell_type": "markdown",
      "metadata": {
        "id": "PT0Q4BRBYOAU",
        "colab_type": "text"
      },
      "source": [
        ""
      ]
    },
    {
      "cell_type": "code",
      "metadata": {
        "id": "M7AqFif-R48h",
        "colab_type": "code",
        "colab": {
          "base_uri": "https://localhost:8080/",
          "height": 110
        },
        "outputId": "cd5dab76-959d-4f61-c83c-b9cceb2dfc7a"
      },
      "source": [
        "# Now If we want to get all values related to a specific year, i.e Level 2\n",
        "# THerefore its like a tree, we need to specify the path above\n",
        "\n",
        "pop[:,:,2010] # Here we used : for specifying all from level 0 and 1"
      ],
      "execution_count": 133,
      "outputs": [
        {
          "output_type": "execute_result",
          "data": {
            "text/plain": [
              "America  California    37253956\n",
              "         Texas         25145561\n",
              "Asia     Delhi         19378102\n",
              "         HK            35145561\n",
              "dtype: int64"
            ]
          },
          "metadata": {
            "tags": []
          },
          "execution_count": 133
        }
      ]
    },
    {
      "cell_type": "code",
      "metadata": {
        "id": "Se4v1vLfUcXO",
        "colab_type": "code",
        "colab": {
          "base_uri": "https://localhost:8080/",
          "height": 185
        },
        "outputId": "82041688-b7d0-48d8-e4bb-0bea8cbe15cf"
      },
      "source": [
        "# Lets write some examples to understand it better\n",
        "\n",
        "idx = pd.IndexSlice\n",
        "pop.loc['America'] # as its the topmost, we dont need to speficy any path\n",
        "pop.loc['America','Texas',2010]\n",
        "\n",
        "# its better to use IndexSlice for more control as shown below.\n",
        "pop.loc[idx['America',:,2010]] # America, any state, but only 2010\n",
        "pop.loc[idx[:,'HK',2010]]\n",
        "pop.loc[idx[:,'HK',:]]\n",
        "pop.loc[idx[:,:,2000:2010]]\n",
        "\n",
        "\n"
      ],
      "execution_count": 134,
      "outputs": [
        {
          "output_type": "execute_result",
          "data": {
            "text/plain": [
              "America  California  2000    33871648\n",
              "                     2010    37253956\n",
              "         Texas       2000    20851820\n",
              "                     2010    25145561\n",
              "Asia     Delhi       2000    18976457\n",
              "                     2010    19378102\n",
              "         HK          2000    30861820\n",
              "                     2010    35145561\n",
              "dtype: int64"
            ]
          },
          "metadata": {
            "tags": []
          },
          "execution_count": 134
        }
      ]
    },
    {
      "cell_type": "code",
      "metadata": {
        "id": "J-afTz99YVsv",
        "colab_type": "code",
        "colab": {
          "base_uri": "https://localhost:8080/",
          "height": 185
        },
        "outputId": "42d49348-adf7-4f72-f13c-010947f78b7a"
      },
      "source": [
        "# Therefore its easy to retrieve items using multi index , its like selecting a brunch \n",
        "# from a tree.\n",
        "\n",
        "# Now lets explor more, Our DF looks like this now: \n",
        "\n",
        "pop"
      ],
      "execution_count": 135,
      "outputs": [
        {
          "output_type": "execute_result",
          "data": {
            "text/plain": [
              "America  California  2000    33871648\n",
              "                     2010    37253956\n",
              "         Texas       2000    20851820\n",
              "                     2010    25145561\n",
              "Asia     Delhi       2000    18976457\n",
              "                     2010    19378102\n",
              "         HK          2000    30861820\n",
              "                     2010    35145561\n",
              "dtype: int64"
            ]
          },
          "metadata": {
            "tags": []
          },
          "execution_count": 135
        }
      ]
    },
    {
      "cell_type": "markdown",
      "metadata": {
        "id": "ADTYoLsNejIp",
        "colab_type": "text"
      },
      "source": [
        "### unstack()"
      ]
    },
    {
      "cell_type": "code",
      "metadata": {
        "id": "ggIk5_ufeak5",
        "colab_type": "code",
        "colab": {
          "base_uri": "https://localhost:8080/",
          "height": 129
        },
        "outputId": "13135dca-cbf4-4e52-8beb-53432f491470"
      },
      "source": [
        "# Unstack is used to remove a level from row index and assign it a column index.lets see example\n",
        "\n",
        "df = pop.unstack()\n",
        "print(type(df)) # Therefore from MutiIndex Series, it converted to DF\n",
        "print(df) # Here the innermost (Default) level's item moved to column (year)"
      ],
      "execution_count": 136,
      "outputs": [
        {
          "output_type": "stream",
          "text": [
            "<class 'pandas.core.frame.DataFrame'>\n",
            "                        2000      2010\n",
            "America California  33871648  37253956\n",
            "        Texas       20851820  25145561\n",
            "Asia    Delhi       18976457  19378102\n",
            "        HK          30861820  35145561\n"
          ],
          "name": "stdout"
        }
      ]
    },
    {
      "cell_type": "code",
      "metadata": {
        "id": "b7j1gB6WgIPZ",
        "colab_type": "code",
        "colab": {
          "base_uri": "https://localhost:8080/",
          "height": 300
        },
        "outputId": "15c50c93-7847-4b63-bfb6-7975ca6a9604"
      },
      "source": [
        "pop.unstack(level=0)"
      ],
      "execution_count": 137,
      "outputs": [
        {
          "output_type": "execute_result",
          "data": {
            "text/html": [
              "<div>\n",
              "<style scoped>\n",
              "    .dataframe tbody tr th:only-of-type {\n",
              "        vertical-align: middle;\n",
              "    }\n",
              "\n",
              "    .dataframe tbody tr th {\n",
              "        vertical-align: top;\n",
              "    }\n",
              "\n",
              "    .dataframe thead th {\n",
              "        text-align: right;\n",
              "    }\n",
              "</style>\n",
              "<table border=\"1\" class=\"dataframe\">\n",
              "  <thead>\n",
              "    <tr style=\"text-align: right;\">\n",
              "      <th></th>\n",
              "      <th></th>\n",
              "      <th>America</th>\n",
              "      <th>Asia</th>\n",
              "    </tr>\n",
              "  </thead>\n",
              "  <tbody>\n",
              "    <tr>\n",
              "      <th rowspan=\"2\" valign=\"top\">California</th>\n",
              "      <th>2000</th>\n",
              "      <td>33871648.0</td>\n",
              "      <td>NaN</td>\n",
              "    </tr>\n",
              "    <tr>\n",
              "      <th>2010</th>\n",
              "      <td>37253956.0</td>\n",
              "      <td>NaN</td>\n",
              "    </tr>\n",
              "    <tr>\n",
              "      <th rowspan=\"2\" valign=\"top\">Delhi</th>\n",
              "      <th>2000</th>\n",
              "      <td>NaN</td>\n",
              "      <td>18976457.0</td>\n",
              "    </tr>\n",
              "    <tr>\n",
              "      <th>2010</th>\n",
              "      <td>NaN</td>\n",
              "      <td>19378102.0</td>\n",
              "    </tr>\n",
              "    <tr>\n",
              "      <th rowspan=\"2\" valign=\"top\">HK</th>\n",
              "      <th>2000</th>\n",
              "      <td>NaN</td>\n",
              "      <td>30861820.0</td>\n",
              "    </tr>\n",
              "    <tr>\n",
              "      <th>2010</th>\n",
              "      <td>NaN</td>\n",
              "      <td>35145561.0</td>\n",
              "    </tr>\n",
              "    <tr>\n",
              "      <th rowspan=\"2\" valign=\"top\">Texas</th>\n",
              "      <th>2000</th>\n",
              "      <td>20851820.0</td>\n",
              "      <td>NaN</td>\n",
              "    </tr>\n",
              "    <tr>\n",
              "      <th>2010</th>\n",
              "      <td>25145561.0</td>\n",
              "      <td>NaN</td>\n",
              "    </tr>\n",
              "  </tbody>\n",
              "</table>\n",
              "</div>"
            ],
            "text/plain": [
              "                    America        Asia\n",
              "California 2000  33871648.0         NaN\n",
              "           2010  37253956.0         NaN\n",
              "Delhi      2000         NaN  18976457.0\n",
              "           2010         NaN  19378102.0\n",
              "HK         2000         NaN  30861820.0\n",
              "           2010         NaN  35145561.0\n",
              "Texas      2000  20851820.0         NaN\n",
              "           2010  25145561.0         NaN"
            ]
          },
          "metadata": {
            "tags": []
          },
          "execution_count": 137
        }
      ]
    },
    {
      "cell_type": "code",
      "metadata": {
        "id": "_U55jofzkABZ",
        "colab_type": "code",
        "colab": {
          "base_uri": "https://localhost:8080/",
          "height": 174
        },
        "outputId": "b220530a-09e9-4413-d940-ed1afa160f99"
      },
      "source": [
        "pop.unstack(level=1)"
      ],
      "execution_count": 138,
      "outputs": [
        {
          "output_type": "execute_result",
          "data": {
            "text/html": [
              "<div>\n",
              "<style scoped>\n",
              "    .dataframe tbody tr th:only-of-type {\n",
              "        vertical-align: middle;\n",
              "    }\n",
              "\n",
              "    .dataframe tbody tr th {\n",
              "        vertical-align: top;\n",
              "    }\n",
              "\n",
              "    .dataframe thead th {\n",
              "        text-align: right;\n",
              "    }\n",
              "</style>\n",
              "<table border=\"1\" class=\"dataframe\">\n",
              "  <thead>\n",
              "    <tr style=\"text-align: right;\">\n",
              "      <th></th>\n",
              "      <th></th>\n",
              "      <th>California</th>\n",
              "      <th>Delhi</th>\n",
              "      <th>HK</th>\n",
              "      <th>Texas</th>\n",
              "    </tr>\n",
              "  </thead>\n",
              "  <tbody>\n",
              "    <tr>\n",
              "      <th rowspan=\"2\" valign=\"top\">America</th>\n",
              "      <th>2000</th>\n",
              "      <td>33871648.0</td>\n",
              "      <td>NaN</td>\n",
              "      <td>NaN</td>\n",
              "      <td>20851820.0</td>\n",
              "    </tr>\n",
              "    <tr>\n",
              "      <th>2010</th>\n",
              "      <td>37253956.0</td>\n",
              "      <td>NaN</td>\n",
              "      <td>NaN</td>\n",
              "      <td>25145561.0</td>\n",
              "    </tr>\n",
              "    <tr>\n",
              "      <th rowspan=\"2\" valign=\"top\">Asia</th>\n",
              "      <th>2000</th>\n",
              "      <td>NaN</td>\n",
              "      <td>18976457.0</td>\n",
              "      <td>30861820.0</td>\n",
              "      <td>NaN</td>\n",
              "    </tr>\n",
              "    <tr>\n",
              "      <th>2010</th>\n",
              "      <td>NaN</td>\n",
              "      <td>19378102.0</td>\n",
              "      <td>35145561.0</td>\n",
              "      <td>NaN</td>\n",
              "    </tr>\n",
              "  </tbody>\n",
              "</table>\n",
              "</div>"
            ],
            "text/plain": [
              "              California       Delhi          HK       Texas\n",
              "America 2000  33871648.0         NaN         NaN  20851820.0\n",
              "        2010  37253956.0         NaN         NaN  25145561.0\n",
              "Asia    2000         NaN  18976457.0  30861820.0         NaN\n",
              "        2010         NaN  19378102.0  35145561.0         NaN"
            ]
          },
          "metadata": {
            "tags": []
          },
          "execution_count": 138
        }
      ]
    },
    {
      "cell_type": "code",
      "metadata": {
        "id": "V3U9sBo-kHNT",
        "colab_type": "code",
        "colab": {
          "base_uri": "https://localhost:8080/",
          "height": 174
        },
        "outputId": "b65490f1-90a1-45d6-f441-f3c51d86a2c0"
      },
      "source": [
        "pop.unstack(level=2)"
      ],
      "execution_count": 139,
      "outputs": [
        {
          "output_type": "execute_result",
          "data": {
            "text/html": [
              "<div>\n",
              "<style scoped>\n",
              "    .dataframe tbody tr th:only-of-type {\n",
              "        vertical-align: middle;\n",
              "    }\n",
              "\n",
              "    .dataframe tbody tr th {\n",
              "        vertical-align: top;\n",
              "    }\n",
              "\n",
              "    .dataframe thead th {\n",
              "        text-align: right;\n",
              "    }\n",
              "</style>\n",
              "<table border=\"1\" class=\"dataframe\">\n",
              "  <thead>\n",
              "    <tr style=\"text-align: right;\">\n",
              "      <th></th>\n",
              "      <th></th>\n",
              "      <th>2000</th>\n",
              "      <th>2010</th>\n",
              "    </tr>\n",
              "  </thead>\n",
              "  <tbody>\n",
              "    <tr>\n",
              "      <th rowspan=\"2\" valign=\"top\">America</th>\n",
              "      <th>California</th>\n",
              "      <td>33871648</td>\n",
              "      <td>37253956</td>\n",
              "    </tr>\n",
              "    <tr>\n",
              "      <th>Texas</th>\n",
              "      <td>20851820</td>\n",
              "      <td>25145561</td>\n",
              "    </tr>\n",
              "    <tr>\n",
              "      <th rowspan=\"2\" valign=\"top\">Asia</th>\n",
              "      <th>Delhi</th>\n",
              "      <td>18976457</td>\n",
              "      <td>19378102</td>\n",
              "    </tr>\n",
              "    <tr>\n",
              "      <th>HK</th>\n",
              "      <td>30861820</td>\n",
              "      <td>35145561</td>\n",
              "    </tr>\n",
              "  </tbody>\n",
              "</table>\n",
              "</div>"
            ],
            "text/plain": [
              "                        2000      2010\n",
              "America California  33871648  37253956\n",
              "        Texas       20851820  25145561\n",
              "Asia    Delhi       18976457  19378102\n",
              "        HK          30861820  35145561"
            ]
          },
          "metadata": {
            "tags": []
          },
          "execution_count": 139
        }
      ]
    },
    {
      "cell_type": "markdown",
      "metadata": {
        "id": "uX9Gq6nzkX7G",
        "colab_type": "text"
      },
      "source": [
        "### stack()"
      ]
    },
    {
      "cell_type": "code",
      "metadata": {
        "id": "wqYOU0GQkVct",
        "colab_type": "code",
        "colab": {}
      },
      "source": [
        "# Stack is just opposite, it stacks column index to row index. "
      ],
      "execution_count": 140,
      "outputs": []
    },
    {
      "cell_type": "code",
      "metadata": {
        "id": "o1Lfp31akSEk",
        "colab_type": "code",
        "colab": {
          "base_uri": "https://localhost:8080/",
          "height": 143
        },
        "outputId": "bd63933e-0577-4bf7-c6e6-5dbbed5a8b28"
      },
      "source": [
        "multi_idx_col_df = pop.unstack([1,2])\n",
        "multi_idx_col_df"
      ],
      "execution_count": 141,
      "outputs": [
        {
          "output_type": "execute_result",
          "data": {
            "text/html": [
              "<div>\n",
              "<style scoped>\n",
              "    .dataframe tbody tr th:only-of-type {\n",
              "        vertical-align: middle;\n",
              "    }\n",
              "\n",
              "    .dataframe tbody tr th {\n",
              "        vertical-align: top;\n",
              "    }\n",
              "\n",
              "    .dataframe thead tr th {\n",
              "        text-align: left;\n",
              "    }\n",
              "</style>\n",
              "<table border=\"1\" class=\"dataframe\">\n",
              "  <thead>\n",
              "    <tr>\n",
              "      <th></th>\n",
              "      <th colspan=\"2\" halign=\"left\">California</th>\n",
              "      <th colspan=\"2\" halign=\"left\">Texas</th>\n",
              "      <th colspan=\"2\" halign=\"left\">Delhi</th>\n",
              "      <th colspan=\"2\" halign=\"left\">HK</th>\n",
              "    </tr>\n",
              "    <tr>\n",
              "      <th></th>\n",
              "      <th>2000</th>\n",
              "      <th>2010</th>\n",
              "      <th>2000</th>\n",
              "      <th>2010</th>\n",
              "      <th>2000</th>\n",
              "      <th>2010</th>\n",
              "      <th>2000</th>\n",
              "      <th>2010</th>\n",
              "    </tr>\n",
              "  </thead>\n",
              "  <tbody>\n",
              "    <tr>\n",
              "      <th>America</th>\n",
              "      <td>33871648.0</td>\n",
              "      <td>37253956.0</td>\n",
              "      <td>20851820.0</td>\n",
              "      <td>25145561.0</td>\n",
              "      <td>NaN</td>\n",
              "      <td>NaN</td>\n",
              "      <td>NaN</td>\n",
              "      <td>NaN</td>\n",
              "    </tr>\n",
              "    <tr>\n",
              "      <th>Asia</th>\n",
              "      <td>NaN</td>\n",
              "      <td>NaN</td>\n",
              "      <td>NaN</td>\n",
              "      <td>NaN</td>\n",
              "      <td>18976457.0</td>\n",
              "      <td>19378102.0</td>\n",
              "      <td>30861820.0</td>\n",
              "      <td>35145561.0</td>\n",
              "    </tr>\n",
              "  </tbody>\n",
              "</table>\n",
              "</div>"
            ],
            "text/plain": [
              "         California                   Texas  ...       Delhi          HK            \n",
              "               2000        2010        2000  ...        2010        2000        2010\n",
              "America  33871648.0  37253956.0  20851820.0  ...         NaN         NaN         NaN\n",
              "Asia            NaN         NaN         NaN  ...  19378102.0  30861820.0  35145561.0\n",
              "\n",
              "[2 rows x 8 columns]"
            ]
          },
          "metadata": {
            "tags": []
          },
          "execution_count": 141
        }
      ]
    },
    {
      "cell_type": "code",
      "metadata": {
        "id": "TEV0SBBjkupo",
        "colab_type": "code",
        "colab": {
          "base_uri": "https://localhost:8080/",
          "height": 174
        },
        "outputId": "6fd58564-5bbd-4f3c-e71e-4971ac554e3b"
      },
      "source": [
        "# lets stack the City Level( 0 ) to row index.\n",
        "\n",
        "multi_idx_col_df.stack(0)"
      ],
      "execution_count": 142,
      "outputs": [
        {
          "output_type": "execute_result",
          "data": {
            "text/html": [
              "<div>\n",
              "<style scoped>\n",
              "    .dataframe tbody tr th:only-of-type {\n",
              "        vertical-align: middle;\n",
              "    }\n",
              "\n",
              "    .dataframe tbody tr th {\n",
              "        vertical-align: top;\n",
              "    }\n",
              "\n",
              "    .dataframe thead th {\n",
              "        text-align: right;\n",
              "    }\n",
              "</style>\n",
              "<table border=\"1\" class=\"dataframe\">\n",
              "  <thead>\n",
              "    <tr style=\"text-align: right;\">\n",
              "      <th></th>\n",
              "      <th></th>\n",
              "      <th>2000</th>\n",
              "      <th>2010</th>\n",
              "    </tr>\n",
              "  </thead>\n",
              "  <tbody>\n",
              "    <tr>\n",
              "      <th rowspan=\"2\" valign=\"top\">America</th>\n",
              "      <th>California</th>\n",
              "      <td>33871648.0</td>\n",
              "      <td>37253956.0</td>\n",
              "    </tr>\n",
              "    <tr>\n",
              "      <th>Texas</th>\n",
              "      <td>20851820.0</td>\n",
              "      <td>25145561.0</td>\n",
              "    </tr>\n",
              "    <tr>\n",
              "      <th rowspan=\"2\" valign=\"top\">Asia</th>\n",
              "      <th>Delhi</th>\n",
              "      <td>18976457.0</td>\n",
              "      <td>19378102.0</td>\n",
              "    </tr>\n",
              "    <tr>\n",
              "      <th>HK</th>\n",
              "      <td>30861820.0</td>\n",
              "      <td>35145561.0</td>\n",
              "    </tr>\n",
              "  </tbody>\n",
              "</table>\n",
              "</div>"
            ],
            "text/plain": [
              "                          2000        2010\n",
              "America California  33871648.0  37253956.0\n",
              "        Texas       20851820.0  25145561.0\n",
              "Asia    Delhi       18976457.0  19378102.0\n",
              "        HK          30861820.0  35145561.0"
            ]
          },
          "metadata": {
            "tags": []
          },
          "execution_count": 142
        }
      ]
    },
    {
      "cell_type": "code",
      "metadata": {
        "id": "Q4dPmprWlDXK",
        "colab_type": "code",
        "colab": {
          "base_uri": "https://localhost:8080/",
          "height": 185
        },
        "outputId": "4a16b351-bcad-41e4-a644-16dd365996d6"
      },
      "source": [
        "# we can also use stack() in chains.\n",
        "\n",
        "multi_idx_col_df.stack().stack() # when all physical column index are marked for stack, DF got converted to\n",
        "                                 # multi index Series"
      ],
      "execution_count": 143,
      "outputs": [
        {
          "output_type": "execute_result",
          "data": {
            "text/plain": [
              "America  2000  California    33871648.0\n",
              "               Texas         20851820.0\n",
              "         2010  California    37253956.0\n",
              "               Texas         25145561.0\n",
              "Asia     2000  Delhi         18976457.0\n",
              "               HK            30861820.0\n",
              "         2010  Delhi         19378102.0\n",
              "               HK            35145561.0\n",
              "dtype: float64"
            ]
          },
          "metadata": {
            "tags": []
          },
          "execution_count": 143
        }
      ]
    },
    {
      "cell_type": "code",
      "metadata": {
        "id": "KJcYk7ctlRbs",
        "colab_type": "code",
        "colab": {}
      },
      "source": [
        "# Stack , Unstack are ways to transform a data representation. "
      ],
      "execution_count": 144,
      "outputs": []
    }
  ]
}