{
  "nbformat": 4,
  "nbformat_minor": 0,
  "metadata": {
    "colab": {
      "name": "Pandas Multi-Index | Stack | Unstack | Other Transformations.ipynb",
      "provenance": [],
      "collapsed_sections": []
    },
    "kernelspec": {
      "name": "python3",
      "display_name": "Python 3"
    }
  },
  "cells": [
    {
      "cell_type": "code",
      "metadata": {
        "id": "EnfywC-4YxeT",
        "colab_type": "code",
        "colab": {}
      },
      "source": [
        "import pandas as pd\n",
        "import numpy as np"
      ],
      "execution_count": 1,
      "outputs": []
    },
    {
      "cell_type": "code",
      "metadata": {
        "id": "Yj0i62Jd21RL",
        "colab_type": "code",
        "colab": {
          "base_uri": "https://localhost:8080/",
          "height": 184
        },
        "outputId": "9dbc3f69-f36d-42e5-eae8-7101da4d7921"
      },
      "source": [
        "# First attempt to crete multi index type of implementation!\n",
        "\n",
        "index = [ ('America','California', 2000), ('America','California', 2010),\n",
        "          ('Asia','Delhi', 2000), ('Asia','Delhi', 2010),\n",
        "          ('Asia','HK', 2000), ('Asia','HK', 2010),\n",
        "          ('America','Texas', 2000), ('America','Texas', 2010)\n",
        "        ]\n",
        "\n",
        "populations = [33871648, 37253956,18976457, 19378102,30861820, 35145561,20851820, 25145561]\n",
        "\n",
        "# Lets create a Series with index containing two informations\n",
        "\n",
        "pop = pd.Series(populations, index=index)\n",
        "pop"
      ],
      "execution_count": 2,
      "outputs": [
        {
          "output_type": "execute_result",
          "data": {
            "text/plain": [
              "(America, California, 2000)    33871648\n",
              "(America, California, 2010)    37253956\n",
              "(Asia, Delhi, 2000)            18976457\n",
              "(Asia, Delhi, 2010)            19378102\n",
              "(Asia, HK, 2000)               30861820\n",
              "(Asia, HK, 2010)               35145561\n",
              "(America, Texas, 2000)         20851820\n",
              "(America, Texas, 2010)         25145561\n",
              "dtype: int64"
            ]
          },
          "metadata": {
            "tags": []
          },
          "execution_count": 2
        }
      ]
    },
    {
      "cell_type": "code",
      "metadata": {
        "id": "uJCMNWEW3hSC",
        "colab_type": "code",
        "colab": {
          "base_uri": "https://localhost:8080/",
          "height": 36
        },
        "outputId": "0f613a8f-92f2-4273-8295-bd208a7f6d64"
      },
      "source": [
        "# Looks like we have extra dimensions in a Series\n",
        "\n",
        "# We can get Pop of CA on 2000 like this , i.e supplying the whole Index\n",
        "\n",
        "pop[('America','California',2000)]"
      ],
      "execution_count": 3,
      "outputs": [
        {
          "output_type": "execute_result",
          "data": {
            "text/plain": [
              "33871648"
            ]
          },
          "metadata": {
            "tags": []
          },
          "execution_count": 3
        }
      ]
    },
    {
      "cell_type": "code",
      "metadata": {
        "id": "tTwmF3yrM9Bf",
        "colab_type": "code",
        "colab": {
          "base_uri": "https://localhost:8080/",
          "height": 36
        },
        "outputId": "e5933d3a-a209-4a96-bda2-5eb1debb37cd"
      },
      "source": [
        "# same thing like\n",
        "\n",
        "pop[('America','Texas',2010)]"
      ],
      "execution_count": 4,
      "outputs": [
        {
          "output_type": "execute_result",
          "data": {
            "text/plain": [
              "25145561"
            ]
          },
          "metadata": {
            "tags": []
          },
          "execution_count": 4
        }
      ]
    },
    {
      "cell_type": "code",
      "metadata": {
        "id": "dSU9eNPoNNLs",
        "colab_type": "code",
        "colab": {
          "base_uri": "https://localhost:8080/",
          "height": 147
        },
        "outputId": "3aa2be51-6048-4e34-b176-c9c7d3898745"
      },
      "source": [
        "# also something like using index slicing\n",
        "pop[('America','California', 2010):('America','Texas', 2000)]"
      ],
      "execution_count": 5,
      "outputs": [
        {
          "output_type": "execute_result",
          "data": {
            "text/plain": [
              "(America, California, 2010)    37253956\n",
              "(Asia, Delhi, 2000)            18976457\n",
              "(Asia, Delhi, 2010)            19378102\n",
              "(Asia, HK, 2000)               30861820\n",
              "(Asia, HK, 2010)               35145561\n",
              "(America, Texas, 2000)         20851820\n",
              "dtype: int64"
            ]
          },
          "metadata": {
            "tags": []
          },
          "execution_count": 5
        }
      ]
    },
    {
      "cell_type": "code",
      "metadata": {
        "id": "ES7EaoXVNZLT",
        "colab_type": "code",
        "colab": {
          "base_uri": "https://localhost:8080/",
          "height": 110
        },
        "outputId": "f02bc950-f858-46f5-f2f2-a3743a10499d"
      },
      "source": [
        "# But if we want something like , give me all records for year 2010 ?\n",
        "# we can do but it will require some python code intervention \n",
        "\n",
        "# Step 1\n",
        "# Extract the index as Tuples\n",
        "\n",
        "indexes = pop.index\n",
        "indexes"
      ],
      "execution_count": 6,
      "outputs": [
        {
          "output_type": "execute_result",
          "data": {
            "text/plain": [
              "Index([('America', 'California', 2000), ('America', 'California', 2010),\n",
              "               ('Asia', 'Delhi', 2000),         ('Asia', 'Delhi', 2010),\n",
              "                  ('Asia', 'HK', 2000),            ('Asia', 'HK', 2010),\n",
              "            ('America', 'Texas', 2000),      ('America', 'Texas', 2010)],\n",
              "      dtype='object')"
            ]
          },
          "metadata": {
            "tags": []
          },
          "execution_count": 6
        }
      ]
    },
    {
      "cell_type": "code",
      "metadata": {
        "id": "dWP6Uw9UNpks",
        "colab_type": "code",
        "colab": {
          "base_uri": "https://localhost:8080/",
          "height": 91
        },
        "outputId": "f4e845d3-dd8a-401a-de15-3c01d2e751c6"
      },
      "source": [
        "# Step 2\n",
        "# Create Boolean Mask\n",
        "mask = [i for i in indexes if i[2] == 2010]\n",
        "mask"
      ],
      "execution_count": 7,
      "outputs": [
        {
          "output_type": "execute_result",
          "data": {
            "text/plain": [
              "[('America', 'California', 2010),\n",
              " ('Asia', 'Delhi', 2010),\n",
              " ('Asia', 'HK', 2010),\n",
              " ('America', 'Texas', 2010)]"
            ]
          },
          "metadata": {
            "tags": []
          },
          "execution_count": 7
        }
      ]
    },
    {
      "cell_type": "code",
      "metadata": {
        "id": "bkPpmh1XOrB5",
        "colab_type": "code",
        "colab": {
          "base_uri": "https://localhost:8080/",
          "height": 110
        },
        "outputId": "779027c9-8afa-4b0a-ca13-ef1e68f1ad1a"
      },
      "source": [
        "# Step 3 , pass the mask to pop\n",
        "pop[mask]"
      ],
      "execution_count": 8,
      "outputs": [
        {
          "output_type": "execute_result",
          "data": {
            "text/plain": [
              "(America, California, 2010)    37253956\n",
              "(Asia, Delhi, 2010)            19378102\n",
              "(Asia, HK, 2010)               35145561\n",
              "(America, Texas, 2010)         25145561\n",
              "dtype: int64"
            ]
          },
          "metadata": {
            "tags": []
          },
          "execution_count": 8
        }
      ]
    },
    {
      "cell_type": "code",
      "metadata": {
        "id": "aJ6-ztomPO_E",
        "colab_type": "code",
        "colab": {
          "base_uri": "https://localhost:8080/",
          "height": 184
        },
        "outputId": "efd76297-2c67-47f5-9e28-809a5059d109"
      },
      "source": [
        "# The above approach took few lines of code\n",
        "# Lets create MULTI INDEX\n",
        "\n",
        "new_index =  pd.MultiIndex.from_tuples(index)\n",
        "new_index"
      ],
      "execution_count": 9,
      "outputs": [
        {
          "output_type": "execute_result",
          "data": {
            "text/plain": [
              "MultiIndex([('America', 'California', 2000),\n",
              "            ('America', 'California', 2010),\n",
              "            (   'Asia',      'Delhi', 2000),\n",
              "            (   'Asia',      'Delhi', 2010),\n",
              "            (   'Asia',         'HK', 2000),\n",
              "            (   'Asia',         'HK', 2010),\n",
              "            ('America',      'Texas', 2000),\n",
              "            ('America',      'Texas', 2010)],\n",
              "           )"
            ]
          },
          "metadata": {
            "tags": []
          },
          "execution_count": 9
        }
      ]
    },
    {
      "cell_type": "code",
      "metadata": {
        "id": "2afLE6ZlPphj",
        "colab_type": "code",
        "colab": {
          "base_uri": "https://localhost:8080/",
          "height": 184
        },
        "outputId": "fd7ff351-8390-4deb-930a-a0f2da9b5bc5"
      },
      "source": [
        "# lets reindex the existing pop DF\n",
        "\n",
        "pop = pop.reindex(new_index)\n",
        "pop"
      ],
      "execution_count": 10,
      "outputs": [
        {
          "output_type": "execute_result",
          "data": {
            "text/plain": [
              "America  California  2000    33871648\n",
              "                     2010    37253956\n",
              "Asia     Delhi       2000    18976457\n",
              "                     2010    19378102\n",
              "         HK          2000    30861820\n",
              "                     2010    35145561\n",
              "America  Texas       2000    20851820\n",
              "                     2010    25145561\n",
              "dtype: int64"
            ]
          },
          "metadata": {
            "tags": []
          },
          "execution_count": 10
        }
      ]
    },
    {
      "cell_type": "code",
      "metadata": {
        "id": "oWE-aNzaUjTt",
        "colab_type": "code",
        "colab": {
          "base_uri": "https://localhost:8080/",
          "height": 184
        },
        "outputId": "7df665a1-ebca-4ac3-c7db-260c108edeac"
      },
      "source": [
        "# The above looks bit odd, we can sort the index for better understanding\n",
        "\n",
        "pop.sort_index(inplace=True)\n",
        "pop"
      ],
      "execution_count": 11,
      "outputs": [
        {
          "output_type": "execute_result",
          "data": {
            "text/plain": [
              "America  California  2000    33871648\n",
              "                     2010    37253956\n",
              "         Texas       2000    20851820\n",
              "                     2010    25145561\n",
              "Asia     Delhi       2000    18976457\n",
              "                     2010    19378102\n",
              "         HK          2000    30861820\n",
              "                     2010    35145561\n",
              "dtype: int64"
            ]
          },
          "metadata": {
            "tags": []
          },
          "execution_count": 11
        }
      ]
    },
    {
      "cell_type": "code",
      "metadata": {
        "id": "P1JrJWv2P8Rj",
        "colab_type": "code",
        "colab": {
          "base_uri": "https://localhost:8080/",
          "height": 184
        },
        "outputId": "6a280664-c8ce-4cf7-ac63-d7240175f898"
      },
      "source": [
        "# Now the index part of POP looks different! Now its a multi indexed index\n",
        "# THis new approach is easy to query\n",
        "# Lets do the pythonic approach with new technique\n",
        "\n",
        "pop[:2010] # very simple"
      ],
      "execution_count": 12,
      "outputs": [
        {
          "output_type": "execute_result",
          "data": {
            "text/plain": [
              "America  California  2000    33871648\n",
              "                     2010    37253956\n",
              "         Texas       2000    20851820\n",
              "                     2010    25145561\n",
              "Asia     Delhi       2000    18976457\n",
              "                     2010    19378102\n",
              "         HK          2000    30861820\n",
              "                     2010    35145561\n",
              "dtype: int64"
            ]
          },
          "metadata": {
            "tags": []
          },
          "execution_count": 12
        }
      ]
    },
    {
      "cell_type": "code",
      "metadata": {
        "id": "AiINzfAKQbw7",
        "colab_type": "code",
        "colab": {
          "base_uri": "https://localhost:8080/",
          "height": 73
        },
        "outputId": "864f336a-77fa-42ce-b7de-ef6026c76519"
      },
      "source": [
        "pop[:,'California']"
      ],
      "execution_count": 13,
      "outputs": [
        {
          "output_type": "execute_result",
          "data": {
            "text/plain": [
              "America  2000    33871648\n",
              "         2010    37253956\n",
              "dtype: int64"
            ]
          },
          "metadata": {
            "tags": []
          },
          "execution_count": 13
        }
      ]
    },
    {
      "cell_type": "code",
      "metadata": {
        "id": "ZCo7L8tcQt5c",
        "colab_type": "code",
        "colab": {
          "base_uri": "https://localhost:8080/",
          "height": 73
        },
        "outputId": "df389ad5-568f-46cc-e8b8-7dedde45e13a"
      },
      "source": [
        "# When we use Muiti index, it creates a Levels.\n",
        "# In this example, There are two levels\n",
        "# Level 0 -> Continent\n",
        "# Level 1 -> City\n",
        "# Level 2 -> Year\n",
        "\n",
        "# Therefore, to get all info related to Texas we write\n",
        "\n",
        "pop['America','Texas']\n",
        "# It shows data for the levels underneath it , i.e Year"
      ],
      "execution_count": 14,
      "outputs": [
        {
          "output_type": "execute_result",
          "data": {
            "text/plain": [
              "2000    20851820\n",
              "2010    25145561\n",
              "dtype: int64"
            ]
          },
          "metadata": {
            "tags": []
          },
          "execution_count": 14
        }
      ]
    },
    {
      "cell_type": "markdown",
      "metadata": {
        "id": "Wy-wb3KYYOHz",
        "colab_type": "text"
      },
      "source": [
        ""
      ]
    },
    {
      "cell_type": "markdown",
      "metadata": {
        "id": "PT0Q4BRBYOAU",
        "colab_type": "text"
      },
      "source": [
        ""
      ]
    },
    {
      "cell_type": "code",
      "metadata": {
        "id": "M7AqFif-R48h",
        "colab_type": "code",
        "colab": {
          "base_uri": "https://localhost:8080/",
          "height": 110
        },
        "outputId": "de960f8a-72c7-4e13-cde0-df6be9e323ae"
      },
      "source": [
        "# Now If we want to get all values related to a specific year, i.e Level 2\n",
        "# THerefore its like a tree, we need to specify the path above\n",
        "\n",
        "pop[:,:,2010] # Here we used : for specifying all from level 0 and 1"
      ],
      "execution_count": 15,
      "outputs": [
        {
          "output_type": "execute_result",
          "data": {
            "text/plain": [
              "America  California    37253956\n",
              "         Texas         25145561\n",
              "Asia     Delhi         19378102\n",
              "         HK            35145561\n",
              "dtype: int64"
            ]
          },
          "metadata": {
            "tags": []
          },
          "execution_count": 15
        }
      ]
    },
    {
      "cell_type": "code",
      "metadata": {
        "id": "Se4v1vLfUcXO",
        "colab_type": "code",
        "colab": {
          "base_uri": "https://localhost:8080/",
          "height": 184
        },
        "outputId": "ea3139f2-5cff-4c44-89b0-601c46e51265"
      },
      "source": [
        "# Lets write some examples to understand it better\n",
        "\n",
        "idx = pd.IndexSlice\n",
        "pop.loc['America'] # as its the topmost, we dont need to speficy any path\n",
        "pop.loc['America','Texas',2010]\n",
        "\n",
        "# its better to use IndexSlice for more control as shown below.\n",
        "pop.loc[idx['America',:,2010]] # America, any state, but only 2010\n",
        "pop.loc[idx[:,'HK',2010]]\n",
        "pop.loc[idx[:,'HK',:]]\n",
        "pop.loc[idx[:,:,2000:2010]]\n",
        "\n",
        "\n"
      ],
      "execution_count": 16,
      "outputs": [
        {
          "output_type": "execute_result",
          "data": {
            "text/plain": [
              "America  California  2000    33871648\n",
              "                     2010    37253956\n",
              "         Texas       2000    20851820\n",
              "                     2010    25145561\n",
              "Asia     Delhi       2000    18976457\n",
              "                     2010    19378102\n",
              "         HK          2000    30861820\n",
              "                     2010    35145561\n",
              "dtype: int64"
            ]
          },
          "metadata": {
            "tags": []
          },
          "execution_count": 16
        }
      ]
    },
    {
      "cell_type": "code",
      "metadata": {
        "id": "J-afTz99YVsv",
        "colab_type": "code",
        "colab": {
          "base_uri": "https://localhost:8080/",
          "height": 184
        },
        "outputId": "3f9d6986-18b6-4f89-abb3-11008faf6749"
      },
      "source": [
        "# Therefore its easy to retrieve items using multi index , its like selecting a brunch \n",
        "# from a tree.\n",
        "\n",
        "# Now lets explor more, Our DF looks like this now: \n",
        "\n",
        "pop"
      ],
      "execution_count": 17,
      "outputs": [
        {
          "output_type": "execute_result",
          "data": {
            "text/plain": [
              "America  California  2000    33871648\n",
              "                     2010    37253956\n",
              "         Texas       2000    20851820\n",
              "                     2010    25145561\n",
              "Asia     Delhi       2000    18976457\n",
              "                     2010    19378102\n",
              "         HK          2000    30861820\n",
              "                     2010    35145561\n",
              "dtype: int64"
            ]
          },
          "metadata": {
            "tags": []
          },
          "execution_count": 17
        }
      ]
    },
    {
      "cell_type": "markdown",
      "metadata": {
        "id": "ADTYoLsNejIp",
        "colab_type": "text"
      },
      "source": [
        "### unstack()"
      ]
    },
    {
      "cell_type": "code",
      "metadata": {
        "id": "ggIk5_ufeak5",
        "colab_type": "code",
        "colab": {
          "base_uri": "https://localhost:8080/",
          "height": 128
        },
        "outputId": "04acf0be-d660-46d2-be87-e62fa2fa2422"
      },
      "source": [
        "# Unstack is used to remove a level from row index and assign it a column index.lets see example\n",
        "\n",
        "df = pop.unstack()\n",
        "print(type(df)) # Therefore from MutiIndex Series, it converted to DF\n",
        "print(df) # Here the innermost (Default) level's item moved to column (year)"
      ],
      "execution_count": 18,
      "outputs": [
        {
          "output_type": "stream",
          "text": [
            "<class 'pandas.core.frame.DataFrame'>\n",
            "                        2000      2010\n",
            "America California  33871648  37253956\n",
            "        Texas       20851820  25145561\n",
            "Asia    Delhi       18976457  19378102\n",
            "        HK          30861820  35145561\n"
          ],
          "name": "stdout"
        }
      ]
    },
    {
      "cell_type": "code",
      "metadata": {
        "id": "b7j1gB6WgIPZ",
        "colab_type": "code",
        "colab": {
          "base_uri": "https://localhost:8080/",
          "height": 300
        },
        "outputId": "e5a4290b-f8a1-4b1e-ed84-6be812d4ff05"
      },
      "source": [
        "pop.unstack(level=0)"
      ],
      "execution_count": 19,
      "outputs": [
        {
          "output_type": "execute_result",
          "data": {
            "text/html": [
              "<div>\n",
              "<style scoped>\n",
              "    .dataframe tbody tr th:only-of-type {\n",
              "        vertical-align: middle;\n",
              "    }\n",
              "\n",
              "    .dataframe tbody tr th {\n",
              "        vertical-align: top;\n",
              "    }\n",
              "\n",
              "    .dataframe thead th {\n",
              "        text-align: right;\n",
              "    }\n",
              "</style>\n",
              "<table border=\"1\" class=\"dataframe\">\n",
              "  <thead>\n",
              "    <tr style=\"text-align: right;\">\n",
              "      <th></th>\n",
              "      <th></th>\n",
              "      <th>America</th>\n",
              "      <th>Asia</th>\n",
              "    </tr>\n",
              "  </thead>\n",
              "  <tbody>\n",
              "    <tr>\n",
              "      <th rowspan=\"2\" valign=\"top\">California</th>\n",
              "      <th>2000</th>\n",
              "      <td>33871648.0</td>\n",
              "      <td>NaN</td>\n",
              "    </tr>\n",
              "    <tr>\n",
              "      <th>2010</th>\n",
              "      <td>37253956.0</td>\n",
              "      <td>NaN</td>\n",
              "    </tr>\n",
              "    <tr>\n",
              "      <th rowspan=\"2\" valign=\"top\">Delhi</th>\n",
              "      <th>2000</th>\n",
              "      <td>NaN</td>\n",
              "      <td>18976457.0</td>\n",
              "    </tr>\n",
              "    <tr>\n",
              "      <th>2010</th>\n",
              "      <td>NaN</td>\n",
              "      <td>19378102.0</td>\n",
              "    </tr>\n",
              "    <tr>\n",
              "      <th rowspan=\"2\" valign=\"top\">HK</th>\n",
              "      <th>2000</th>\n",
              "      <td>NaN</td>\n",
              "      <td>30861820.0</td>\n",
              "    </tr>\n",
              "    <tr>\n",
              "      <th>2010</th>\n",
              "      <td>NaN</td>\n",
              "      <td>35145561.0</td>\n",
              "    </tr>\n",
              "    <tr>\n",
              "      <th rowspan=\"2\" valign=\"top\">Texas</th>\n",
              "      <th>2000</th>\n",
              "      <td>20851820.0</td>\n",
              "      <td>NaN</td>\n",
              "    </tr>\n",
              "    <tr>\n",
              "      <th>2010</th>\n",
              "      <td>25145561.0</td>\n",
              "      <td>NaN</td>\n",
              "    </tr>\n",
              "  </tbody>\n",
              "</table>\n",
              "</div>"
            ],
            "text/plain": [
              "                    America        Asia\n",
              "California 2000  33871648.0         NaN\n",
              "           2010  37253956.0         NaN\n",
              "Delhi      2000         NaN  18976457.0\n",
              "           2010         NaN  19378102.0\n",
              "HK         2000         NaN  30861820.0\n",
              "           2010         NaN  35145561.0\n",
              "Texas      2000  20851820.0         NaN\n",
              "           2010  25145561.0         NaN"
            ]
          },
          "metadata": {
            "tags": []
          },
          "execution_count": 19
        }
      ]
    },
    {
      "cell_type": "code",
      "metadata": {
        "id": "_U55jofzkABZ",
        "colab_type": "code",
        "colab": {
          "base_uri": "https://localhost:8080/",
          "height": 175
        },
        "outputId": "45b013a8-5e2a-43d6-d6dd-bed20aba2cfc"
      },
      "source": [
        "pop.unstack(level=1)"
      ],
      "execution_count": 20,
      "outputs": [
        {
          "output_type": "execute_result",
          "data": {
            "text/html": [
              "<div>\n",
              "<style scoped>\n",
              "    .dataframe tbody tr th:only-of-type {\n",
              "        vertical-align: middle;\n",
              "    }\n",
              "\n",
              "    .dataframe tbody tr th {\n",
              "        vertical-align: top;\n",
              "    }\n",
              "\n",
              "    .dataframe thead th {\n",
              "        text-align: right;\n",
              "    }\n",
              "</style>\n",
              "<table border=\"1\" class=\"dataframe\">\n",
              "  <thead>\n",
              "    <tr style=\"text-align: right;\">\n",
              "      <th></th>\n",
              "      <th></th>\n",
              "      <th>California</th>\n",
              "      <th>Delhi</th>\n",
              "      <th>HK</th>\n",
              "      <th>Texas</th>\n",
              "    </tr>\n",
              "  </thead>\n",
              "  <tbody>\n",
              "    <tr>\n",
              "      <th rowspan=\"2\" valign=\"top\">America</th>\n",
              "      <th>2000</th>\n",
              "      <td>33871648.0</td>\n",
              "      <td>NaN</td>\n",
              "      <td>NaN</td>\n",
              "      <td>20851820.0</td>\n",
              "    </tr>\n",
              "    <tr>\n",
              "      <th>2010</th>\n",
              "      <td>37253956.0</td>\n",
              "      <td>NaN</td>\n",
              "      <td>NaN</td>\n",
              "      <td>25145561.0</td>\n",
              "    </tr>\n",
              "    <tr>\n",
              "      <th rowspan=\"2\" valign=\"top\">Asia</th>\n",
              "      <th>2000</th>\n",
              "      <td>NaN</td>\n",
              "      <td>18976457.0</td>\n",
              "      <td>30861820.0</td>\n",
              "      <td>NaN</td>\n",
              "    </tr>\n",
              "    <tr>\n",
              "      <th>2010</th>\n",
              "      <td>NaN</td>\n",
              "      <td>19378102.0</td>\n",
              "      <td>35145561.0</td>\n",
              "      <td>NaN</td>\n",
              "    </tr>\n",
              "  </tbody>\n",
              "</table>\n",
              "</div>"
            ],
            "text/plain": [
              "              California       Delhi          HK       Texas\n",
              "America 2000  33871648.0         NaN         NaN  20851820.0\n",
              "        2010  37253956.0         NaN         NaN  25145561.0\n",
              "Asia    2000         NaN  18976457.0  30861820.0         NaN\n",
              "        2010         NaN  19378102.0  35145561.0         NaN"
            ]
          },
          "metadata": {
            "tags": []
          },
          "execution_count": 20
        }
      ]
    },
    {
      "cell_type": "code",
      "metadata": {
        "id": "V3U9sBo-kHNT",
        "colab_type": "code",
        "colab": {
          "base_uri": "https://localhost:8080/",
          "height": 175
        },
        "outputId": "4d2aea5c-bac9-4ac1-a196-6606302840d7"
      },
      "source": [
        "pop.unstack(level=2)"
      ],
      "execution_count": 21,
      "outputs": [
        {
          "output_type": "execute_result",
          "data": {
            "text/html": [
              "<div>\n",
              "<style scoped>\n",
              "    .dataframe tbody tr th:only-of-type {\n",
              "        vertical-align: middle;\n",
              "    }\n",
              "\n",
              "    .dataframe tbody tr th {\n",
              "        vertical-align: top;\n",
              "    }\n",
              "\n",
              "    .dataframe thead th {\n",
              "        text-align: right;\n",
              "    }\n",
              "</style>\n",
              "<table border=\"1\" class=\"dataframe\">\n",
              "  <thead>\n",
              "    <tr style=\"text-align: right;\">\n",
              "      <th></th>\n",
              "      <th></th>\n",
              "      <th>2000</th>\n",
              "      <th>2010</th>\n",
              "    </tr>\n",
              "  </thead>\n",
              "  <tbody>\n",
              "    <tr>\n",
              "      <th rowspan=\"2\" valign=\"top\">America</th>\n",
              "      <th>California</th>\n",
              "      <td>33871648</td>\n",
              "      <td>37253956</td>\n",
              "    </tr>\n",
              "    <tr>\n",
              "      <th>Texas</th>\n",
              "      <td>20851820</td>\n",
              "      <td>25145561</td>\n",
              "    </tr>\n",
              "    <tr>\n",
              "      <th rowspan=\"2\" valign=\"top\">Asia</th>\n",
              "      <th>Delhi</th>\n",
              "      <td>18976457</td>\n",
              "      <td>19378102</td>\n",
              "    </tr>\n",
              "    <tr>\n",
              "      <th>HK</th>\n",
              "      <td>30861820</td>\n",
              "      <td>35145561</td>\n",
              "    </tr>\n",
              "  </tbody>\n",
              "</table>\n",
              "</div>"
            ],
            "text/plain": [
              "                        2000      2010\n",
              "America California  33871648  37253956\n",
              "        Texas       20851820  25145561\n",
              "Asia    Delhi       18976457  19378102\n",
              "        HK          30861820  35145561"
            ]
          },
          "metadata": {
            "tags": []
          },
          "execution_count": 21
        }
      ]
    },
    {
      "cell_type": "markdown",
      "metadata": {
        "id": "uX9Gq6nzkX7G",
        "colab_type": "text"
      },
      "source": [
        "### stack()"
      ]
    },
    {
      "cell_type": "code",
      "metadata": {
        "id": "wqYOU0GQkVct",
        "colab_type": "code",
        "colab": {}
      },
      "source": [
        "# Stack is just opposite, it stacks column index to row index. "
      ],
      "execution_count": 22,
      "outputs": []
    },
    {
      "cell_type": "code",
      "metadata": {
        "id": "o1Lfp31akSEk",
        "colab_type": "code",
        "colab": {
          "base_uri": "https://localhost:8080/",
          "height": 143
        },
        "outputId": "8c5b7010-2d35-4ce4-c761-0e6635ec7e3e"
      },
      "source": [
        "multi_idx_col_df = pop.unstack([1,2])\n",
        "multi_idx_col_df"
      ],
      "execution_count": 23,
      "outputs": [
        {
          "output_type": "execute_result",
          "data": {
            "text/html": [
              "<div>\n",
              "<style scoped>\n",
              "    .dataframe tbody tr th:only-of-type {\n",
              "        vertical-align: middle;\n",
              "    }\n",
              "\n",
              "    .dataframe tbody tr th {\n",
              "        vertical-align: top;\n",
              "    }\n",
              "\n",
              "    .dataframe thead tr th {\n",
              "        text-align: left;\n",
              "    }\n",
              "</style>\n",
              "<table border=\"1\" class=\"dataframe\">\n",
              "  <thead>\n",
              "    <tr>\n",
              "      <th></th>\n",
              "      <th colspan=\"2\" halign=\"left\">California</th>\n",
              "      <th colspan=\"2\" halign=\"left\">Texas</th>\n",
              "      <th colspan=\"2\" halign=\"left\">Delhi</th>\n",
              "      <th colspan=\"2\" halign=\"left\">HK</th>\n",
              "    </tr>\n",
              "    <tr>\n",
              "      <th></th>\n",
              "      <th>2000</th>\n",
              "      <th>2010</th>\n",
              "      <th>2000</th>\n",
              "      <th>2010</th>\n",
              "      <th>2000</th>\n",
              "      <th>2010</th>\n",
              "      <th>2000</th>\n",
              "      <th>2010</th>\n",
              "    </tr>\n",
              "  </thead>\n",
              "  <tbody>\n",
              "    <tr>\n",
              "      <th>America</th>\n",
              "      <td>33871648.0</td>\n",
              "      <td>37253956.0</td>\n",
              "      <td>20851820.0</td>\n",
              "      <td>25145561.0</td>\n",
              "      <td>NaN</td>\n",
              "      <td>NaN</td>\n",
              "      <td>NaN</td>\n",
              "      <td>NaN</td>\n",
              "    </tr>\n",
              "    <tr>\n",
              "      <th>Asia</th>\n",
              "      <td>NaN</td>\n",
              "      <td>NaN</td>\n",
              "      <td>NaN</td>\n",
              "      <td>NaN</td>\n",
              "      <td>18976457.0</td>\n",
              "      <td>19378102.0</td>\n",
              "      <td>30861820.0</td>\n",
              "      <td>35145561.0</td>\n",
              "    </tr>\n",
              "  </tbody>\n",
              "</table>\n",
              "</div>"
            ],
            "text/plain": [
              "         California                   Texas  ...       Delhi          HK            \n",
              "               2000        2010        2000  ...        2010        2000        2010\n",
              "America  33871648.0  37253956.0  20851820.0  ...         NaN         NaN         NaN\n",
              "Asia            NaN         NaN         NaN  ...  19378102.0  30861820.0  35145561.0\n",
              "\n",
              "[2 rows x 8 columns]"
            ]
          },
          "metadata": {
            "tags": []
          },
          "execution_count": 23
        }
      ]
    },
    {
      "cell_type": "code",
      "metadata": {
        "id": "TEV0SBBjkupo",
        "colab_type": "code",
        "colab": {
          "base_uri": "https://localhost:8080/",
          "height": 175
        },
        "outputId": "38f204bc-93fb-4831-a8d8-abf975a3794e"
      },
      "source": [
        "# lets stack the City Level( 0 ) to row index.\n",
        "\n",
        "multi_idx_col_df.stack(0)"
      ],
      "execution_count": 24,
      "outputs": [
        {
          "output_type": "execute_result",
          "data": {
            "text/html": [
              "<div>\n",
              "<style scoped>\n",
              "    .dataframe tbody tr th:only-of-type {\n",
              "        vertical-align: middle;\n",
              "    }\n",
              "\n",
              "    .dataframe tbody tr th {\n",
              "        vertical-align: top;\n",
              "    }\n",
              "\n",
              "    .dataframe thead th {\n",
              "        text-align: right;\n",
              "    }\n",
              "</style>\n",
              "<table border=\"1\" class=\"dataframe\">\n",
              "  <thead>\n",
              "    <tr style=\"text-align: right;\">\n",
              "      <th></th>\n",
              "      <th></th>\n",
              "      <th>2000</th>\n",
              "      <th>2010</th>\n",
              "    </tr>\n",
              "  </thead>\n",
              "  <tbody>\n",
              "    <tr>\n",
              "      <th rowspan=\"2\" valign=\"top\">America</th>\n",
              "      <th>California</th>\n",
              "      <td>33871648.0</td>\n",
              "      <td>37253956.0</td>\n",
              "    </tr>\n",
              "    <tr>\n",
              "      <th>Texas</th>\n",
              "      <td>20851820.0</td>\n",
              "      <td>25145561.0</td>\n",
              "    </tr>\n",
              "    <tr>\n",
              "      <th rowspan=\"2\" valign=\"top\">Asia</th>\n",
              "      <th>Delhi</th>\n",
              "      <td>18976457.0</td>\n",
              "      <td>19378102.0</td>\n",
              "    </tr>\n",
              "    <tr>\n",
              "      <th>HK</th>\n",
              "      <td>30861820.0</td>\n",
              "      <td>35145561.0</td>\n",
              "    </tr>\n",
              "  </tbody>\n",
              "</table>\n",
              "</div>"
            ],
            "text/plain": [
              "                          2000        2010\n",
              "America California  33871648.0  37253956.0\n",
              "        Texas       20851820.0  25145561.0\n",
              "Asia    Delhi       18976457.0  19378102.0\n",
              "        HK          30861820.0  35145561.0"
            ]
          },
          "metadata": {
            "tags": []
          },
          "execution_count": 24
        }
      ]
    },
    {
      "cell_type": "code",
      "metadata": {
        "id": "Q4dPmprWlDXK",
        "colab_type": "code",
        "colab": {
          "base_uri": "https://localhost:8080/",
          "height": 184
        },
        "outputId": "e7f7471a-083c-410c-84f1-abda40632522"
      },
      "source": [
        "# we can also use stack() in chains.\n",
        "\n",
        "multi_idx_col_df.stack().stack() # when all physical column index are marked for stack, DF got converted to\n",
        "                                 # multi index Series"
      ],
      "execution_count": 25,
      "outputs": [
        {
          "output_type": "execute_result",
          "data": {
            "text/plain": [
              "America  2000  California    33871648.0\n",
              "               Texas         20851820.0\n",
              "         2010  California    37253956.0\n",
              "               Texas         25145561.0\n",
              "Asia     2000  Delhi         18976457.0\n",
              "               HK            30861820.0\n",
              "         2010  Delhi         19378102.0\n",
              "               HK            35145561.0\n",
              "dtype: float64"
            ]
          },
          "metadata": {
            "tags": []
          },
          "execution_count": 25
        }
      ]
    },
    {
      "cell_type": "code",
      "metadata": {
        "id": "KJcYk7ctlRbs",
        "colab_type": "code",
        "colab": {}
      },
      "source": [
        "# Stack , Unstack are ways to transform a data representation. "
      ],
      "execution_count": 26,
      "outputs": []
    },
    {
      "cell_type": "markdown",
      "metadata": {
        "id": "NTyriZ8pb7mG",
        "colab_type": "text"
      },
      "source": [
        "### Pivot"
      ]
    },
    {
      "cell_type": "code",
      "metadata": {
        "id": "D5xxV1Lib-zp",
        "colab_type": "code",
        "colab": {
          "base_uri": "https://localhost:8080/",
          "height": 184
        },
        "outputId": "ae20dce9-af57-46b4-8239-52c5cba86491"
      },
      "source": [
        "pop"
      ],
      "execution_count": 27,
      "outputs": [
        {
          "output_type": "execute_result",
          "data": {
            "text/plain": [
              "America  California  2000    33871648\n",
              "                     2010    37253956\n",
              "         Texas       2000    20851820\n",
              "                     2010    25145561\n",
              "Asia     Delhi       2000    18976457\n",
              "                     2010    19378102\n",
              "         HK          2000    30861820\n",
              "                     2010    35145561\n",
              "dtype: int64"
            ]
          },
          "metadata": {
            "tags": []
          },
          "execution_count": 27
        }
      ]
    },
    {
      "cell_type": "code",
      "metadata": {
        "id": "m15db0wAcC9D",
        "colab_type": "code",
        "colab": {
          "base_uri": "https://localhost:8080/",
          "height": 300
        },
        "outputId": "a68bf5cf-8b78-4d86-d937-c5e9de0a9596"
      },
      "source": [
        "pop.reset_index()"
      ],
      "execution_count": 28,
      "outputs": [
        {
          "output_type": "execute_result",
          "data": {
            "text/html": [
              "<div>\n",
              "<style scoped>\n",
              "    .dataframe tbody tr th:only-of-type {\n",
              "        vertical-align: middle;\n",
              "    }\n",
              "\n",
              "    .dataframe tbody tr th {\n",
              "        vertical-align: top;\n",
              "    }\n",
              "\n",
              "    .dataframe thead th {\n",
              "        text-align: right;\n",
              "    }\n",
              "</style>\n",
              "<table border=\"1\" class=\"dataframe\">\n",
              "  <thead>\n",
              "    <tr style=\"text-align: right;\">\n",
              "      <th></th>\n",
              "      <th>level_0</th>\n",
              "      <th>level_1</th>\n",
              "      <th>level_2</th>\n",
              "      <th>0</th>\n",
              "    </tr>\n",
              "  </thead>\n",
              "  <tbody>\n",
              "    <tr>\n",
              "      <th>0</th>\n",
              "      <td>America</td>\n",
              "      <td>California</td>\n",
              "      <td>2000</td>\n",
              "      <td>33871648</td>\n",
              "    </tr>\n",
              "    <tr>\n",
              "      <th>1</th>\n",
              "      <td>America</td>\n",
              "      <td>California</td>\n",
              "      <td>2010</td>\n",
              "      <td>37253956</td>\n",
              "    </tr>\n",
              "    <tr>\n",
              "      <th>2</th>\n",
              "      <td>America</td>\n",
              "      <td>Texas</td>\n",
              "      <td>2000</td>\n",
              "      <td>20851820</td>\n",
              "    </tr>\n",
              "    <tr>\n",
              "      <th>3</th>\n",
              "      <td>America</td>\n",
              "      <td>Texas</td>\n",
              "      <td>2010</td>\n",
              "      <td>25145561</td>\n",
              "    </tr>\n",
              "    <tr>\n",
              "      <th>4</th>\n",
              "      <td>Asia</td>\n",
              "      <td>Delhi</td>\n",
              "      <td>2000</td>\n",
              "      <td>18976457</td>\n",
              "    </tr>\n",
              "    <tr>\n",
              "      <th>5</th>\n",
              "      <td>Asia</td>\n",
              "      <td>Delhi</td>\n",
              "      <td>2010</td>\n",
              "      <td>19378102</td>\n",
              "    </tr>\n",
              "    <tr>\n",
              "      <th>6</th>\n",
              "      <td>Asia</td>\n",
              "      <td>HK</td>\n",
              "      <td>2000</td>\n",
              "      <td>30861820</td>\n",
              "    </tr>\n",
              "    <tr>\n",
              "      <th>7</th>\n",
              "      <td>Asia</td>\n",
              "      <td>HK</td>\n",
              "      <td>2010</td>\n",
              "      <td>35145561</td>\n",
              "    </tr>\n",
              "  </tbody>\n",
              "</table>\n",
              "</div>"
            ],
            "text/plain": [
              "   level_0     level_1  level_2         0\n",
              "0  America  California     2000  33871648\n",
              "1  America  California     2010  37253956\n",
              "2  America       Texas     2000  20851820\n",
              "3  America       Texas     2010  25145561\n",
              "4     Asia       Delhi     2000  18976457\n",
              "5     Asia       Delhi     2010  19378102\n",
              "6     Asia          HK     2000  30861820\n",
              "7     Asia          HK     2010  35145561"
            ]
          },
          "metadata": {
            "tags": []
          },
          "execution_count": 28
        }
      ]
    },
    {
      "cell_type": "code",
      "metadata": {
        "id": "K22H2LzncGf4",
        "colab_type": "code",
        "colab": {}
      },
      "source": [
        ""
      ],
      "execution_count": null,
      "outputs": []
    }
  ]
}