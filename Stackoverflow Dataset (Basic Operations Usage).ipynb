{
 "cells": [
  {
   "cell_type": "markdown",
   "metadata": {},
   "source": [
    "# Basic Operations on Stackoverflow Survey Dataset"
   ]
  },
  {
   "cell_type": "code",
   "execution_count": 1,
   "metadata": {},
   "outputs": [],
   "source": [
    "import pandas as pd"
   ]
  },
  {
   "cell_type": "code",
   "execution_count": 2,
   "metadata": {},
   "outputs": [],
   "source": [
    "df = pd.read_csv('data\\survey_results_public.csv')\n",
    "df_schema = pd.read_csv('data\\survey_results_schema.csv')"
   ]
  },
  {
   "cell_type": "code",
   "execution_count": 3,
   "metadata": {},
   "outputs": [
    {
     "name": "stdout",
     "output_type": "stream",
     "text": [
      "(64461, 61)\n",
      "(61, 2)\n"
     ]
    }
   ],
   "source": [
    "print(df.shape)\n",
    "print(df_schema.shape)"
   ]
  },
  {
   "cell_type": "code",
   "execution_count": 4,
   "metadata": {},
   "outputs": [
    {
     "data": {
      "text/html": [
       "<div>\n",
       "<style scoped>\n",
       "    .dataframe tbody tr th:only-of-type {\n",
       "        vertical-align: middle;\n",
       "    }\n",
       "\n",
       "    .dataframe tbody tr th {\n",
       "        vertical-align: top;\n",
       "    }\n",
       "\n",
       "    .dataframe thead th {\n",
       "        text-align: right;\n",
       "    }\n",
       "</style>\n",
       "<table border=\"1\" class=\"dataframe\">\n",
       "  <thead>\n",
       "    <tr style=\"text-align: right;\">\n",
       "      <th></th>\n",
       "      <th>Respondent</th>\n",
       "      <th>MainBranch</th>\n",
       "      <th>Hobbyist</th>\n",
       "      <th>Age</th>\n",
       "      <th>Age1stCode</th>\n",
       "      <th>CompFreq</th>\n",
       "      <th>CompTotal</th>\n",
       "      <th>ConvertedComp</th>\n",
       "      <th>Country</th>\n",
       "      <th>CurrencyDesc</th>\n",
       "      <th>...</th>\n",
       "      <th>SurveyEase</th>\n",
       "      <th>SurveyLength</th>\n",
       "      <th>Trans</th>\n",
       "      <th>UndergradMajor</th>\n",
       "      <th>WebframeDesireNextYear</th>\n",
       "      <th>WebframeWorkedWith</th>\n",
       "      <th>WelcomeChange</th>\n",
       "      <th>WorkWeekHrs</th>\n",
       "      <th>YearsCode</th>\n",
       "      <th>YearsCodePro</th>\n",
       "    </tr>\n",
       "  </thead>\n",
       "  <tbody>\n",
       "    <tr>\n",
       "      <th>0</th>\n",
       "      <td>1</td>\n",
       "      <td>I am a developer by profession</td>\n",
       "      <td>Yes</td>\n",
       "      <td>NaN</td>\n",
       "      <td>13</td>\n",
       "      <td>Monthly</td>\n",
       "      <td>NaN</td>\n",
       "      <td>NaN</td>\n",
       "      <td>Germany</td>\n",
       "      <td>European Euro</td>\n",
       "      <td>...</td>\n",
       "      <td>Neither easy nor difficult</td>\n",
       "      <td>Appropriate in length</td>\n",
       "      <td>No</td>\n",
       "      <td>Computer science, computer engineering, or sof...</td>\n",
       "      <td>ASP.NET Core</td>\n",
       "      <td>ASP.NET;ASP.NET Core</td>\n",
       "      <td>Just as welcome now as I felt last year</td>\n",
       "      <td>50.0</td>\n",
       "      <td>36</td>\n",
       "      <td>27</td>\n",
       "    </tr>\n",
       "    <tr>\n",
       "      <th>1</th>\n",
       "      <td>2</td>\n",
       "      <td>I am a developer by profession</td>\n",
       "      <td>No</td>\n",
       "      <td>NaN</td>\n",
       "      <td>19</td>\n",
       "      <td>NaN</td>\n",
       "      <td>NaN</td>\n",
       "      <td>NaN</td>\n",
       "      <td>United Kingdom</td>\n",
       "      <td>Pound sterling</td>\n",
       "      <td>...</td>\n",
       "      <td>NaN</td>\n",
       "      <td>NaN</td>\n",
       "      <td>NaN</td>\n",
       "      <td>Computer science, computer engineering, or sof...</td>\n",
       "      <td>NaN</td>\n",
       "      <td>NaN</td>\n",
       "      <td>Somewhat more welcome now than last year</td>\n",
       "      <td>NaN</td>\n",
       "      <td>7</td>\n",
       "      <td>4</td>\n",
       "    </tr>\n",
       "    <tr>\n",
       "      <th>2</th>\n",
       "      <td>3</td>\n",
       "      <td>I code primarily as a hobby</td>\n",
       "      <td>Yes</td>\n",
       "      <td>NaN</td>\n",
       "      <td>15</td>\n",
       "      <td>NaN</td>\n",
       "      <td>NaN</td>\n",
       "      <td>NaN</td>\n",
       "      <td>Russian Federation</td>\n",
       "      <td>NaN</td>\n",
       "      <td>...</td>\n",
       "      <td>Neither easy nor difficult</td>\n",
       "      <td>Appropriate in length</td>\n",
       "      <td>NaN</td>\n",
       "      <td>NaN</td>\n",
       "      <td>NaN</td>\n",
       "      <td>NaN</td>\n",
       "      <td>Somewhat more welcome now than last year</td>\n",
       "      <td>NaN</td>\n",
       "      <td>4</td>\n",
       "      <td>NaN</td>\n",
       "    </tr>\n",
       "    <tr>\n",
       "      <th>3</th>\n",
       "      <td>4</td>\n",
       "      <td>I am a developer by profession</td>\n",
       "      <td>Yes</td>\n",
       "      <td>25.0</td>\n",
       "      <td>18</td>\n",
       "      <td>NaN</td>\n",
       "      <td>NaN</td>\n",
       "      <td>NaN</td>\n",
       "      <td>Albania</td>\n",
       "      <td>Albanian lek</td>\n",
       "      <td>...</td>\n",
       "      <td>NaN</td>\n",
       "      <td>NaN</td>\n",
       "      <td>No</td>\n",
       "      <td>Computer science, computer engineering, or sof...</td>\n",
       "      <td>NaN</td>\n",
       "      <td>NaN</td>\n",
       "      <td>Somewhat less welcome now than last year</td>\n",
       "      <td>40.0</td>\n",
       "      <td>7</td>\n",
       "      <td>4</td>\n",
       "    </tr>\n",
       "    <tr>\n",
       "      <th>4</th>\n",
       "      <td>5</td>\n",
       "      <td>I used to be a developer by profession, but no...</td>\n",
       "      <td>Yes</td>\n",
       "      <td>31.0</td>\n",
       "      <td>16</td>\n",
       "      <td>NaN</td>\n",
       "      <td>NaN</td>\n",
       "      <td>NaN</td>\n",
       "      <td>United States</td>\n",
       "      <td>NaN</td>\n",
       "      <td>...</td>\n",
       "      <td>Easy</td>\n",
       "      <td>Too short</td>\n",
       "      <td>No</td>\n",
       "      <td>Computer science, computer engineering, or sof...</td>\n",
       "      <td>Django;Ruby on Rails</td>\n",
       "      <td>Ruby on Rails</td>\n",
       "      <td>Just as welcome now as I felt last year</td>\n",
       "      <td>NaN</td>\n",
       "      <td>15</td>\n",
       "      <td>8</td>\n",
       "    </tr>\n",
       "  </tbody>\n",
       "</table>\n",
       "<p>5 rows × 61 columns</p>\n",
       "</div>"
      ],
      "text/plain": [
       "   Respondent                                         MainBranch Hobbyist  \\\n",
       "0           1                     I am a developer by profession      Yes   \n",
       "1           2                     I am a developer by profession       No   \n",
       "2           3                        I code primarily as a hobby      Yes   \n",
       "3           4                     I am a developer by profession      Yes   \n",
       "4           5  I used to be a developer by profession, but no...      Yes   \n",
       "\n",
       "    Age Age1stCode CompFreq  CompTotal  ConvertedComp             Country  \\\n",
       "0   NaN         13  Monthly        NaN            NaN             Germany   \n",
       "1   NaN         19      NaN        NaN            NaN      United Kingdom   \n",
       "2   NaN         15      NaN        NaN            NaN  Russian Federation   \n",
       "3  25.0         18      NaN        NaN            NaN             Albania   \n",
       "4  31.0         16      NaN        NaN            NaN       United States   \n",
       "\n",
       "     CurrencyDesc  ...                  SurveyEase           SurveyLength  \\\n",
       "0   European Euro  ...  Neither easy nor difficult  Appropriate in length   \n",
       "1  Pound sterling  ...                         NaN                    NaN   \n",
       "2             NaN  ...  Neither easy nor difficult  Appropriate in length   \n",
       "3    Albanian lek  ...                         NaN                    NaN   \n",
       "4             NaN  ...                        Easy              Too short   \n",
       "\n",
       "  Trans                                     UndergradMajor  \\\n",
       "0    No  Computer science, computer engineering, or sof...   \n",
       "1   NaN  Computer science, computer engineering, or sof...   \n",
       "2   NaN                                                NaN   \n",
       "3    No  Computer science, computer engineering, or sof...   \n",
       "4    No  Computer science, computer engineering, or sof...   \n",
       "\n",
       "  WebframeDesireNextYear    WebframeWorkedWith  \\\n",
       "0           ASP.NET Core  ASP.NET;ASP.NET Core   \n",
       "1                    NaN                   NaN   \n",
       "2                    NaN                   NaN   \n",
       "3                    NaN                   NaN   \n",
       "4   Django;Ruby on Rails         Ruby on Rails   \n",
       "\n",
       "                              WelcomeChange WorkWeekHrs YearsCode YearsCodePro  \n",
       "0   Just as welcome now as I felt last year        50.0        36           27  \n",
       "1  Somewhat more welcome now than last year         NaN         7            4  \n",
       "2  Somewhat more welcome now than last year         NaN         4          NaN  \n",
       "3  Somewhat less welcome now than last year        40.0         7            4  \n",
       "4   Just as welcome now as I felt last year         NaN        15            8  \n",
       "\n",
       "[5 rows x 61 columns]"
      ]
     },
     "execution_count": 4,
     "metadata": {},
     "output_type": "execute_result"
    }
   ],
   "source": [
    "df.head()"
   ]
  },
  {
   "cell_type": "code",
   "execution_count": 5,
   "metadata": {},
   "outputs": [
    {
     "data": {
      "text/html": [
       "<div>\n",
       "<style scoped>\n",
       "    .dataframe tbody tr th:only-of-type {\n",
       "        vertical-align: middle;\n",
       "    }\n",
       "\n",
       "    .dataframe tbody tr th {\n",
       "        vertical-align: top;\n",
       "    }\n",
       "\n",
       "    .dataframe thead th {\n",
       "        text-align: right;\n",
       "    }\n",
       "</style>\n",
       "<table border=\"1\" class=\"dataframe\">\n",
       "  <thead>\n",
       "    <tr style=\"text-align: right;\">\n",
       "      <th></th>\n",
       "      <th>Column</th>\n",
       "      <th>QuestionText</th>\n",
       "    </tr>\n",
       "  </thead>\n",
       "  <tbody>\n",
       "    <tr>\n",
       "      <th>0</th>\n",
       "      <td>Respondent</td>\n",
       "      <td>Randomized respondent ID number (not in order ...</td>\n",
       "    </tr>\n",
       "    <tr>\n",
       "      <th>1</th>\n",
       "      <td>MainBranch</td>\n",
       "      <td>Which of the following options best describes ...</td>\n",
       "    </tr>\n",
       "    <tr>\n",
       "      <th>2</th>\n",
       "      <td>Hobbyist</td>\n",
       "      <td>Do you code as a hobby?</td>\n",
       "    </tr>\n",
       "    <tr>\n",
       "      <th>3</th>\n",
       "      <td>Age</td>\n",
       "      <td>What is your age (in years)? If you prefer not...</td>\n",
       "    </tr>\n",
       "    <tr>\n",
       "      <th>4</th>\n",
       "      <td>Age1stCode</td>\n",
       "      <td>At what age did you write your first line of c...</td>\n",
       "    </tr>\n",
       "  </tbody>\n",
       "</table>\n",
       "</div>"
      ],
      "text/plain": [
       "       Column                                       QuestionText\n",
       "0  Respondent  Randomized respondent ID number (not in order ...\n",
       "1  MainBranch  Which of the following options best describes ...\n",
       "2    Hobbyist                            Do you code as a hobby?\n",
       "3         Age  What is your age (in years)? If you prefer not...\n",
       "4  Age1stCode  At what age did you write your first line of c..."
      ]
     },
     "execution_count": 5,
     "metadata": {},
     "output_type": "execute_result"
    }
   ],
   "source": [
    "df_schema.head()"
   ]
  },
  {
   "cell_type": "markdown",
   "metadata": {},
   "source": [
    "## Selecting Column(s) "
   ]
  },
  {
   "cell_type": "code",
   "execution_count": 6,
   "metadata": {},
   "outputs": [
    {
     "data": {
      "text/plain": [
       "0         NaN\n",
       "1         NaN\n",
       "2         NaN\n",
       "3        25.0\n",
       "4        31.0\n",
       "         ... \n",
       "64456     NaN\n",
       "64457     NaN\n",
       "64458     NaN\n",
       "64459     NaN\n",
       "64460     NaN\n",
       "Name: Age, Length: 64461, dtype: float64"
      ]
     },
     "execution_count": 6,
     "metadata": {},
     "output_type": "execute_result"
    }
   ],
   "source": [
    "#Single Selection returns a Series\n",
    "df['Age']"
   ]
  },
  {
   "cell_type": "code",
   "execution_count": 7,
   "metadata": {},
   "outputs": [
    {
     "data": {
      "text/html": [
       "<div>\n",
       "<style scoped>\n",
       "    .dataframe tbody tr th:only-of-type {\n",
       "        vertical-align: middle;\n",
       "    }\n",
       "\n",
       "    .dataframe tbody tr th {\n",
       "        vertical-align: top;\n",
       "    }\n",
       "\n",
       "    .dataframe thead th {\n",
       "        text-align: right;\n",
       "    }\n",
       "</style>\n",
       "<table border=\"1\" class=\"dataframe\">\n",
       "  <thead>\n",
       "    <tr style=\"text-align: right;\">\n",
       "      <th></th>\n",
       "      <th>Age</th>\n",
       "      <th>Hobbyist</th>\n",
       "    </tr>\n",
       "  </thead>\n",
       "  <tbody>\n",
       "    <tr>\n",
       "      <th>0</th>\n",
       "      <td>NaN</td>\n",
       "      <td>Yes</td>\n",
       "    </tr>\n",
       "    <tr>\n",
       "      <th>1</th>\n",
       "      <td>NaN</td>\n",
       "      <td>No</td>\n",
       "    </tr>\n",
       "    <tr>\n",
       "      <th>2</th>\n",
       "      <td>NaN</td>\n",
       "      <td>Yes</td>\n",
       "    </tr>\n",
       "    <tr>\n",
       "      <th>3</th>\n",
       "      <td>25.0</td>\n",
       "      <td>Yes</td>\n",
       "    </tr>\n",
       "    <tr>\n",
       "      <th>4</th>\n",
       "      <td>31.0</td>\n",
       "      <td>Yes</td>\n",
       "    </tr>\n",
       "    <tr>\n",
       "      <th>...</th>\n",
       "      <td>...</td>\n",
       "      <td>...</td>\n",
       "    </tr>\n",
       "    <tr>\n",
       "      <th>64456</th>\n",
       "      <td>NaN</td>\n",
       "      <td>Yes</td>\n",
       "    </tr>\n",
       "    <tr>\n",
       "      <th>64457</th>\n",
       "      <td>NaN</td>\n",
       "      <td>Yes</td>\n",
       "    </tr>\n",
       "    <tr>\n",
       "      <th>64458</th>\n",
       "      <td>NaN</td>\n",
       "      <td>Yes</td>\n",
       "    </tr>\n",
       "    <tr>\n",
       "      <th>64459</th>\n",
       "      <td>NaN</td>\n",
       "      <td>Yes</td>\n",
       "    </tr>\n",
       "    <tr>\n",
       "      <th>64460</th>\n",
       "      <td>NaN</td>\n",
       "      <td>Yes</td>\n",
       "    </tr>\n",
       "  </tbody>\n",
       "</table>\n",
       "<p>64461 rows × 2 columns</p>\n",
       "</div>"
      ],
      "text/plain": [
       "        Age Hobbyist\n",
       "0       NaN      Yes\n",
       "1       NaN       No\n",
       "2       NaN      Yes\n",
       "3      25.0      Yes\n",
       "4      31.0      Yes\n",
       "...     ...      ...\n",
       "64456   NaN      Yes\n",
       "64457   NaN      Yes\n",
       "64458   NaN      Yes\n",
       "64459   NaN      Yes\n",
       "64460   NaN      Yes\n",
       "\n",
       "[64461 rows x 2 columns]"
      ]
     },
     "execution_count": 7,
     "metadata": {},
     "output_type": "execute_result"
    }
   ],
   "source": [
    "# Multi Selection returns new DF\n",
    "df[['Age','Hobbyist']]\n"
   ]
  },
  {
   "cell_type": "code",
   "execution_count": 8,
   "metadata": {},
   "outputs": [
    {
     "data": {
      "text/html": [
       "<div>\n",
       "<style scoped>\n",
       "    .dataframe tbody tr th:only-of-type {\n",
       "        vertical-align: middle;\n",
       "    }\n",
       "\n",
       "    .dataframe tbody tr th {\n",
       "        vertical-align: top;\n",
       "    }\n",
       "\n",
       "    .dataframe thead th {\n",
       "        text-align: right;\n",
       "    }\n",
       "</style>\n",
       "<table border=\"1\" class=\"dataframe\">\n",
       "  <thead>\n",
       "    <tr style=\"text-align: right;\">\n",
       "      <th></th>\n",
       "      <th>MainBranch</th>\n",
       "      <th>Hobbyist</th>\n",
       "    </tr>\n",
       "  </thead>\n",
       "  <tbody>\n",
       "    <tr>\n",
       "      <th>0</th>\n",
       "      <td>I am a developer by profession</td>\n",
       "      <td>Yes</td>\n",
       "    </tr>\n",
       "    <tr>\n",
       "      <th>1</th>\n",
       "      <td>I am a developer by profession</td>\n",
       "      <td>No</td>\n",
       "    </tr>\n",
       "    <tr>\n",
       "      <th>2</th>\n",
       "      <td>I code primarily as a hobby</td>\n",
       "      <td>Yes</td>\n",
       "    </tr>\n",
       "    <tr>\n",
       "      <th>3</th>\n",
       "      <td>I am a developer by profession</td>\n",
       "      <td>Yes</td>\n",
       "    </tr>\n",
       "    <tr>\n",
       "      <th>4</th>\n",
       "      <td>I used to be a developer by profession, but no...</td>\n",
       "      <td>Yes</td>\n",
       "    </tr>\n",
       "    <tr>\n",
       "      <th>...</th>\n",
       "      <td>...</td>\n",
       "      <td>...</td>\n",
       "    </tr>\n",
       "    <tr>\n",
       "      <th>64456</th>\n",
       "      <td>NaN</td>\n",
       "      <td>Yes</td>\n",
       "    </tr>\n",
       "    <tr>\n",
       "      <th>64457</th>\n",
       "      <td>NaN</td>\n",
       "      <td>Yes</td>\n",
       "    </tr>\n",
       "    <tr>\n",
       "      <th>64458</th>\n",
       "      <td>NaN</td>\n",
       "      <td>Yes</td>\n",
       "    </tr>\n",
       "    <tr>\n",
       "      <th>64459</th>\n",
       "      <td>NaN</td>\n",
       "      <td>Yes</td>\n",
       "    </tr>\n",
       "    <tr>\n",
       "      <th>64460</th>\n",
       "      <td>NaN</td>\n",
       "      <td>Yes</td>\n",
       "    </tr>\n",
       "  </tbody>\n",
       "</table>\n",
       "<p>64461 rows × 2 columns</p>\n",
       "</div>"
      ],
      "text/plain": [
       "                                              MainBranch Hobbyist\n",
       "0                         I am a developer by profession      Yes\n",
       "1                         I am a developer by profession       No\n",
       "2                            I code primarily as a hobby      Yes\n",
       "3                         I am a developer by profession      Yes\n",
       "4      I used to be a developer by profession, but no...      Yes\n",
       "...                                                  ...      ...\n",
       "64456                                                NaN      Yes\n",
       "64457                                                NaN      Yes\n",
       "64458                                                NaN      Yes\n",
       "64459                                                NaN      Yes\n",
       "64460                                                NaN      Yes\n",
       "\n",
       "[64461 rows x 2 columns]"
      ]
     },
     "execution_count": 8,
     "metadata": {},
     "output_type": "execute_result"
    }
   ],
   "source": [
    "# df.columns returns list of columns, so using range passes list of filtered columns names\n",
    "df[df.columns[1:3]]\n"
   ]
  },
  {
   "cell_type": "markdown",
   "metadata": {},
   "source": [
    "## Selecting Row(s) using `range`"
   ]
  },
  {
   "cell_type": "code",
   "execution_count": 9,
   "metadata": {},
   "outputs": [
    {
     "data": {
      "text/html": [
       "<div>\n",
       "<style scoped>\n",
       "    .dataframe tbody tr th:only-of-type {\n",
       "        vertical-align: middle;\n",
       "    }\n",
       "\n",
       "    .dataframe tbody tr th {\n",
       "        vertical-align: top;\n",
       "    }\n",
       "\n",
       "    .dataframe thead th {\n",
       "        text-align: right;\n",
       "    }\n",
       "</style>\n",
       "<table border=\"1\" class=\"dataframe\">\n",
       "  <thead>\n",
       "    <tr style=\"text-align: right;\">\n",
       "      <th></th>\n",
       "      <th>Respondent</th>\n",
       "      <th>MainBranch</th>\n",
       "      <th>Hobbyist</th>\n",
       "      <th>Age</th>\n",
       "      <th>Age1stCode</th>\n",
       "      <th>CompFreq</th>\n",
       "      <th>CompTotal</th>\n",
       "      <th>ConvertedComp</th>\n",
       "      <th>Country</th>\n",
       "      <th>CurrencyDesc</th>\n",
       "      <th>...</th>\n",
       "      <th>SurveyEase</th>\n",
       "      <th>SurveyLength</th>\n",
       "      <th>Trans</th>\n",
       "      <th>UndergradMajor</th>\n",
       "      <th>WebframeDesireNextYear</th>\n",
       "      <th>WebframeWorkedWith</th>\n",
       "      <th>WelcomeChange</th>\n",
       "      <th>WorkWeekHrs</th>\n",
       "      <th>YearsCode</th>\n",
       "      <th>YearsCodePro</th>\n",
       "    </tr>\n",
       "  </thead>\n",
       "  <tbody>\n",
       "    <tr>\n",
       "      <th>1</th>\n",
       "      <td>2</td>\n",
       "      <td>I am a developer by profession</td>\n",
       "      <td>No</td>\n",
       "      <td>NaN</td>\n",
       "      <td>19</td>\n",
       "      <td>NaN</td>\n",
       "      <td>NaN</td>\n",
       "      <td>NaN</td>\n",
       "      <td>United Kingdom</td>\n",
       "      <td>Pound sterling</td>\n",
       "      <td>...</td>\n",
       "      <td>NaN</td>\n",
       "      <td>NaN</td>\n",
       "      <td>NaN</td>\n",
       "      <td>Computer science, computer engineering, or sof...</td>\n",
       "      <td>NaN</td>\n",
       "      <td>NaN</td>\n",
       "      <td>Somewhat more welcome now than last year</td>\n",
       "      <td>NaN</td>\n",
       "      <td>7</td>\n",
       "      <td>4</td>\n",
       "    </tr>\n",
       "    <tr>\n",
       "      <th>2</th>\n",
       "      <td>3</td>\n",
       "      <td>I code primarily as a hobby</td>\n",
       "      <td>Yes</td>\n",
       "      <td>NaN</td>\n",
       "      <td>15</td>\n",
       "      <td>NaN</td>\n",
       "      <td>NaN</td>\n",
       "      <td>NaN</td>\n",
       "      <td>Russian Federation</td>\n",
       "      <td>NaN</td>\n",
       "      <td>...</td>\n",
       "      <td>Neither easy nor difficult</td>\n",
       "      <td>Appropriate in length</td>\n",
       "      <td>NaN</td>\n",
       "      <td>NaN</td>\n",
       "      <td>NaN</td>\n",
       "      <td>NaN</td>\n",
       "      <td>Somewhat more welcome now than last year</td>\n",
       "      <td>NaN</td>\n",
       "      <td>4</td>\n",
       "      <td>NaN</td>\n",
       "    </tr>\n",
       "  </tbody>\n",
       "</table>\n",
       "<p>2 rows × 61 columns</p>\n",
       "</div>"
      ],
      "text/plain": [
       "   Respondent                      MainBranch Hobbyist  Age Age1stCode  \\\n",
       "1           2  I am a developer by profession       No  NaN         19   \n",
       "2           3     I code primarily as a hobby      Yes  NaN         15   \n",
       "\n",
       "  CompFreq  CompTotal  ConvertedComp             Country    CurrencyDesc  ...  \\\n",
       "1      NaN        NaN            NaN      United Kingdom  Pound sterling  ...   \n",
       "2      NaN        NaN            NaN  Russian Federation             NaN  ...   \n",
       "\n",
       "                   SurveyEase           SurveyLength Trans  \\\n",
       "1                         NaN                    NaN   NaN   \n",
       "2  Neither easy nor difficult  Appropriate in length   NaN   \n",
       "\n",
       "                                      UndergradMajor WebframeDesireNextYear  \\\n",
       "1  Computer science, computer engineering, or sof...                    NaN   \n",
       "2                                                NaN                    NaN   \n",
       "\n",
       "  WebframeWorkedWith                             WelcomeChange WorkWeekHrs  \\\n",
       "1                NaN  Somewhat more welcome now than last year         NaN   \n",
       "2                NaN  Somewhat more welcome now than last year         NaN   \n",
       "\n",
       "  YearsCode YearsCodePro  \n",
       "1         7            4  \n",
       "2         4          NaN  \n",
       "\n",
       "[2 rows x 61 columns]"
      ]
     },
     "execution_count": 9,
     "metadata": {},
     "output_type": "execute_result"
    }
   ],
   "source": [
    "df[1:3]"
   ]
  },
  {
   "cell_type": "markdown",
   "metadata": {},
   "source": [
    "## Selecting Row And Column using `loc`\n",
    "\n",
    "`When using loc , the last value is *inclusive*`"
   ]
  },
  {
   "cell_type": "code",
   "execution_count": 10,
   "metadata": {},
   "outputs": [
    {
     "data": {
      "text/plain": [
       "Respondent                                                  1\n",
       "MainBranch                     I am a developer by profession\n",
       "Hobbyist                                                  Yes\n",
       "Age                                                       NaN\n",
       "Age1stCode                                                 13\n",
       "                                       ...                   \n",
       "WebframeWorkedWith                       ASP.NET;ASP.NET Core\n",
       "WelcomeChange         Just as welcome now as I felt last year\n",
       "WorkWeekHrs                                                50\n",
       "YearsCode                                                  36\n",
       "YearsCodePro                                               27\n",
       "Name: 0, Length: 61, dtype: object"
      ]
     },
     "execution_count": 10,
     "metadata": {},
     "output_type": "execute_result"
    }
   ],
   "source": [
    "#Selection of row 0\n",
    "df.loc[0]"
   ]
  },
  {
   "cell_type": "code",
   "execution_count": 11,
   "metadata": {},
   "outputs": [
    {
     "data": {
      "text/html": [
       "<div>\n",
       "<style scoped>\n",
       "    .dataframe tbody tr th:only-of-type {\n",
       "        vertical-align: middle;\n",
       "    }\n",
       "\n",
       "    .dataframe tbody tr th {\n",
       "        vertical-align: top;\n",
       "    }\n",
       "\n",
       "    .dataframe thead th {\n",
       "        text-align: right;\n",
       "    }\n",
       "</style>\n",
       "<table border=\"1\" class=\"dataframe\">\n",
       "  <thead>\n",
       "    <tr style=\"text-align: right;\">\n",
       "      <th></th>\n",
       "      <th>Age</th>\n",
       "      <th>Country</th>\n",
       "    </tr>\n",
       "  </thead>\n",
       "  <tbody>\n",
       "    <tr>\n",
       "      <th>0</th>\n",
       "      <td>NaN</td>\n",
       "      <td>Germany</td>\n",
       "    </tr>\n",
       "    <tr>\n",
       "      <th>1</th>\n",
       "      <td>NaN</td>\n",
       "      <td>United Kingdom</td>\n",
       "    </tr>\n",
       "    <tr>\n",
       "      <th>2</th>\n",
       "      <td>NaN</td>\n",
       "      <td>Russian Federation</td>\n",
       "    </tr>\n",
       "  </tbody>\n",
       "</table>\n",
       "</div>"
      ],
      "text/plain": [
       "   Age             Country\n",
       "0  NaN             Germany\n",
       "1  NaN      United Kingdom\n",
       "2  NaN  Russian Federation"
      ]
     },
     "execution_count": 11,
     "metadata": {},
     "output_type": "execute_result"
    }
   ],
   "source": [
    "#Selection of row 0,1,2 and with Age and COuntry Column\n",
    "df.loc[[0,1,2],['Age','Country']]"
   ]
  },
  {
   "cell_type": "code",
   "execution_count": 12,
   "metadata": {},
   "outputs": [
    {
     "data": {
      "text/html": [
       "<div>\n",
       "<style scoped>\n",
       "    .dataframe tbody tr th:only-of-type {\n",
       "        vertical-align: middle;\n",
       "    }\n",
       "\n",
       "    .dataframe tbody tr th {\n",
       "        vertical-align: top;\n",
       "    }\n",
       "\n",
       "    .dataframe thead th {\n",
       "        text-align: right;\n",
       "    }\n",
       "</style>\n",
       "<table border=\"1\" class=\"dataframe\">\n",
       "  <thead>\n",
       "    <tr style=\"text-align: right;\">\n",
       "      <th></th>\n",
       "      <th>Age</th>\n",
       "      <th>Country</th>\n",
       "    </tr>\n",
       "  </thead>\n",
       "  <tbody>\n",
       "    <tr>\n",
       "      <th>0</th>\n",
       "      <td>NaN</td>\n",
       "      <td>Germany</td>\n",
       "    </tr>\n",
       "    <tr>\n",
       "      <th>1</th>\n",
       "      <td>NaN</td>\n",
       "      <td>United Kingdom</td>\n",
       "    </tr>\n",
       "    <tr>\n",
       "      <th>2</th>\n",
       "      <td>NaN</td>\n",
       "      <td>Russian Federation</td>\n",
       "    </tr>\n",
       "    <tr>\n",
       "      <th>3</th>\n",
       "      <td>25.0</td>\n",
       "      <td>Albania</td>\n",
       "    </tr>\n",
       "    <tr>\n",
       "      <th>4</th>\n",
       "      <td>31.0</td>\n",
       "      <td>United States</td>\n",
       "    </tr>\n",
       "    <tr>\n",
       "      <th>5</th>\n",
       "      <td>NaN</td>\n",
       "      <td>Germany</td>\n",
       "    </tr>\n",
       "    <tr>\n",
       "      <th>6</th>\n",
       "      <td>NaN</td>\n",
       "      <td>India</td>\n",
       "    </tr>\n",
       "    <tr>\n",
       "      <th>7</th>\n",
       "      <td>36.0</td>\n",
       "      <td>United States</td>\n",
       "    </tr>\n",
       "    <tr>\n",
       "      <th>8</th>\n",
       "      <td>30.0</td>\n",
       "      <td>Tunisia</td>\n",
       "    </tr>\n",
       "    <tr>\n",
       "      <th>9</th>\n",
       "      <td>22.0</td>\n",
       "      <td>United Kingdom</td>\n",
       "    </tr>\n",
       "    <tr>\n",
       "      <th>10</th>\n",
       "      <td>23.0</td>\n",
       "      <td>United Kingdom</td>\n",
       "    </tr>\n",
       "  </tbody>\n",
       "</table>\n",
       "</div>"
      ],
      "text/plain": [
       "     Age             Country\n",
       "0    NaN             Germany\n",
       "1    NaN      United Kingdom\n",
       "2    NaN  Russian Federation\n",
       "3   25.0             Albania\n",
       "4   31.0       United States\n",
       "5    NaN             Germany\n",
       "6    NaN               India\n",
       "7   36.0       United States\n",
       "8   30.0             Tunisia\n",
       "9   22.0      United Kingdom\n",
       "10  23.0      United Kingdom"
      ]
     },
     "execution_count": 12,
     "metadata": {},
     "output_type": "execute_result"
    }
   ],
   "source": [
    "#Selection of row of range 0 to 10 and with Age and COuntry Column\n",
    "#When using slice, dont use []\n",
    "df.loc[0:10,['Age','Country']]"
   ]
  },
  {
   "cell_type": "code",
   "execution_count": 13,
   "metadata": {},
   "outputs": [
    {
     "data": {
      "text/html": [
       "<div>\n",
       "<style scoped>\n",
       "    .dataframe tbody tr th:only-of-type {\n",
       "        vertical-align: middle;\n",
       "    }\n",
       "\n",
       "    .dataframe tbody tr th {\n",
       "        vertical-align: top;\n",
       "    }\n",
       "\n",
       "    .dataframe thead th {\n",
       "        text-align: right;\n",
       "    }\n",
       "</style>\n",
       "<table border=\"1\" class=\"dataframe\">\n",
       "  <thead>\n",
       "    <tr style=\"text-align: right;\">\n",
       "      <th></th>\n",
       "      <th>Hobbyist</th>\n",
       "      <th>Age</th>\n",
       "      <th>Age1stCode</th>\n",
       "      <th>CompFreq</th>\n",
       "      <th>CompTotal</th>\n",
       "      <th>ConvertedComp</th>\n",
       "      <th>Country</th>\n",
       "    </tr>\n",
       "  </thead>\n",
       "  <tbody>\n",
       "    <tr>\n",
       "      <th>0</th>\n",
       "      <td>Yes</td>\n",
       "      <td>NaN</td>\n",
       "      <td>13</td>\n",
       "      <td>Monthly</td>\n",
       "      <td>NaN</td>\n",
       "      <td>NaN</td>\n",
       "      <td>Germany</td>\n",
       "    </tr>\n",
       "    <tr>\n",
       "      <th>1</th>\n",
       "      <td>No</td>\n",
       "      <td>NaN</td>\n",
       "      <td>19</td>\n",
       "      <td>NaN</td>\n",
       "      <td>NaN</td>\n",
       "      <td>NaN</td>\n",
       "      <td>United Kingdom</td>\n",
       "    </tr>\n",
       "    <tr>\n",
       "      <th>2</th>\n",
       "      <td>Yes</td>\n",
       "      <td>NaN</td>\n",
       "      <td>15</td>\n",
       "      <td>NaN</td>\n",
       "      <td>NaN</td>\n",
       "      <td>NaN</td>\n",
       "      <td>Russian Federation</td>\n",
       "    </tr>\n",
       "    <tr>\n",
       "      <th>3</th>\n",
       "      <td>Yes</td>\n",
       "      <td>25.0</td>\n",
       "      <td>18</td>\n",
       "      <td>NaN</td>\n",
       "      <td>NaN</td>\n",
       "      <td>NaN</td>\n",
       "      <td>Albania</td>\n",
       "    </tr>\n",
       "    <tr>\n",
       "      <th>4</th>\n",
       "      <td>Yes</td>\n",
       "      <td>31.0</td>\n",
       "      <td>16</td>\n",
       "      <td>NaN</td>\n",
       "      <td>NaN</td>\n",
       "      <td>NaN</td>\n",
       "      <td>United States</td>\n",
       "    </tr>\n",
       "    <tr>\n",
       "      <th>5</th>\n",
       "      <td>No</td>\n",
       "      <td>NaN</td>\n",
       "      <td>14</td>\n",
       "      <td>NaN</td>\n",
       "      <td>NaN</td>\n",
       "      <td>NaN</td>\n",
       "      <td>Germany</td>\n",
       "    </tr>\n",
       "    <tr>\n",
       "      <th>6</th>\n",
       "      <td>Yes</td>\n",
       "      <td>NaN</td>\n",
       "      <td>18</td>\n",
       "      <td>Monthly</td>\n",
       "      <td>NaN</td>\n",
       "      <td>NaN</td>\n",
       "      <td>India</td>\n",
       "    </tr>\n",
       "    <tr>\n",
       "      <th>7</th>\n",
       "      <td>Yes</td>\n",
       "      <td>36.0</td>\n",
       "      <td>12</td>\n",
       "      <td>Yearly</td>\n",
       "      <td>116000.0</td>\n",
       "      <td>116000.0</td>\n",
       "      <td>United States</td>\n",
       "    </tr>\n",
       "    <tr>\n",
       "      <th>8</th>\n",
       "      <td>No</td>\n",
       "      <td>30.0</td>\n",
       "      <td>20</td>\n",
       "      <td>NaN</td>\n",
       "      <td>NaN</td>\n",
       "      <td>NaN</td>\n",
       "      <td>Tunisia</td>\n",
       "    </tr>\n",
       "    <tr>\n",
       "      <th>9</th>\n",
       "      <td>Yes</td>\n",
       "      <td>22.0</td>\n",
       "      <td>14</td>\n",
       "      <td>Yearly</td>\n",
       "      <td>25000.0</td>\n",
       "      <td>32315.0</td>\n",
       "      <td>United Kingdom</td>\n",
       "    </tr>\n",
       "    <tr>\n",
       "      <th>10</th>\n",
       "      <td>Yes</td>\n",
       "      <td>23.0</td>\n",
       "      <td>13</td>\n",
       "      <td>Yearly</td>\n",
       "      <td>31000.0</td>\n",
       "      <td>40070.0</td>\n",
       "      <td>United Kingdom</td>\n",
       "    </tr>\n",
       "  </tbody>\n",
       "</table>\n",
       "</div>"
      ],
      "text/plain": [
       "   Hobbyist   Age Age1stCode CompFreq  CompTotal  ConvertedComp  \\\n",
       "0       Yes   NaN         13  Monthly        NaN            NaN   \n",
       "1        No   NaN         19      NaN        NaN            NaN   \n",
       "2       Yes   NaN         15      NaN        NaN            NaN   \n",
       "3       Yes  25.0         18      NaN        NaN            NaN   \n",
       "4       Yes  31.0         16      NaN        NaN            NaN   \n",
       "5        No   NaN         14      NaN        NaN            NaN   \n",
       "6       Yes   NaN         18  Monthly        NaN            NaN   \n",
       "7       Yes  36.0         12   Yearly   116000.0       116000.0   \n",
       "8        No  30.0         20      NaN        NaN            NaN   \n",
       "9       Yes  22.0         14   Yearly    25000.0        32315.0   \n",
       "10      Yes  23.0         13   Yearly    31000.0        40070.0   \n",
       "\n",
       "               Country  \n",
       "0              Germany  \n",
       "1       United Kingdom  \n",
       "2   Russian Federation  \n",
       "3              Albania  \n",
       "4        United States  \n",
       "5              Germany  \n",
       "6                India  \n",
       "7        United States  \n",
       "8              Tunisia  \n",
       "9       United Kingdom  \n",
       "10      United Kingdom  "
      ]
     },
     "execution_count": 13,
     "metadata": {},
     "output_type": "execute_result"
    }
   ],
   "source": [
    "df.loc[ 0:10, 'Hobbyist' : 'Country' ]"
   ]
  },
  {
   "cell_type": "code",
   "execution_count": 14,
   "metadata": {},
   "outputs": [
    {
     "data": {
      "text/html": [
       "<div>\n",
       "<style scoped>\n",
       "    .dataframe tbody tr th:only-of-type {\n",
       "        vertical-align: middle;\n",
       "    }\n",
       "\n",
       "    .dataframe tbody tr th {\n",
       "        vertical-align: top;\n",
       "    }\n",
       "\n",
       "    .dataframe thead th {\n",
       "        text-align: right;\n",
       "    }\n",
       "</style>\n",
       "<table border=\"1\" class=\"dataframe\">\n",
       "  <thead>\n",
       "    <tr style=\"text-align: right;\">\n",
       "      <th></th>\n",
       "      <th>Hobbyist</th>\n",
       "      <th>Age</th>\n",
       "      <th>Age1stCode</th>\n",
       "      <th>CompFreq</th>\n",
       "    </tr>\n",
       "  </thead>\n",
       "  <tbody>\n",
       "    <tr>\n",
       "      <th>0</th>\n",
       "      <td>Yes</td>\n",
       "      <td>NaN</td>\n",
       "      <td>13</td>\n",
       "      <td>Monthly</td>\n",
       "    </tr>\n",
       "    <tr>\n",
       "      <th>1</th>\n",
       "      <td>No</td>\n",
       "      <td>NaN</td>\n",
       "      <td>19</td>\n",
       "      <td>NaN</td>\n",
       "    </tr>\n",
       "    <tr>\n",
       "      <th>2</th>\n",
       "      <td>Yes</td>\n",
       "      <td>NaN</td>\n",
       "      <td>15</td>\n",
       "      <td>NaN</td>\n",
       "    </tr>\n",
       "    <tr>\n",
       "      <th>3</th>\n",
       "      <td>Yes</td>\n",
       "      <td>25.0</td>\n",
       "      <td>18</td>\n",
       "      <td>NaN</td>\n",
       "    </tr>\n",
       "    <tr>\n",
       "      <th>4</th>\n",
       "      <td>Yes</td>\n",
       "      <td>31.0</td>\n",
       "      <td>16</td>\n",
       "      <td>NaN</td>\n",
       "    </tr>\n",
       "    <tr>\n",
       "      <th>5</th>\n",
       "      <td>No</td>\n",
       "      <td>NaN</td>\n",
       "      <td>14</td>\n",
       "      <td>NaN</td>\n",
       "    </tr>\n",
       "  </tbody>\n",
       "</table>\n",
       "</div>"
      ],
      "text/plain": [
       "  Hobbyist   Age Age1stCode CompFreq\n",
       "0      Yes   NaN         13  Monthly\n",
       "1       No   NaN         19      NaN\n",
       "2      Yes   NaN         15      NaN\n",
       "3      Yes  25.0         18      NaN\n",
       "4      Yes  31.0         16      NaN\n",
       "5       No   NaN         14      NaN"
      ]
     },
     "execution_count": 14,
     "metadata": {},
     "output_type": "execute_result"
    }
   ],
   "source": [
    "df.loc[ 0:5, df.columns[2:6] ]"
   ]
  },
  {
   "cell_type": "markdown",
   "metadata": {},
   "source": [
    "### Experiments"
   ]
  },
  {
   "cell_type": "code",
   "execution_count": 15,
   "metadata": {},
   "outputs": [
    {
     "data": {
      "text/plain": [
       "0        Yes\n",
       "1         No\n",
       "2        Yes\n",
       "3        Yes\n",
       "4        Yes\n",
       "        ... \n",
       "64456    Yes\n",
       "64457    Yes\n",
       "64458    Yes\n",
       "64459    Yes\n",
       "64460    Yes\n",
       "Name: Hobbyist, Length: 64461, dtype: object"
      ]
     },
     "execution_count": 15,
     "metadata": {},
     "output_type": "execute_result"
    }
   ],
   "source": [
    "#Getting only hobbyist column\n",
    "df['Hobbyist']"
   ]
  },
  {
   "cell_type": "code",
   "execution_count": 16,
   "metadata": {},
   "outputs": [
    {
     "data": {
      "text/html": [
       "<div>\n",
       "<style scoped>\n",
       "    .dataframe tbody tr th:only-of-type {\n",
       "        vertical-align: middle;\n",
       "    }\n",
       "\n",
       "    .dataframe tbody tr th {\n",
       "        vertical-align: top;\n",
       "    }\n",
       "\n",
       "    .dataframe thead th {\n",
       "        text-align: right;\n",
       "    }\n",
       "</style>\n",
       "<table border=\"1\" class=\"dataframe\">\n",
       "  <thead>\n",
       "    <tr style=\"text-align: right;\">\n",
       "      <th></th>\n",
       "      <th>Hobbyist</th>\n",
       "      <th>Age</th>\n",
       "      <th>Age1stCode</th>\n",
       "      <th>CompFreq</th>\n",
       "      <th>CompTotal</th>\n",
       "      <th>ConvertedComp</th>\n",
       "      <th>Country</th>\n",
       "      <th>CurrencyDesc</th>\n",
       "      <th>CurrencySymbol</th>\n",
       "      <th>DatabaseDesireNextYear</th>\n",
       "      <th>DatabaseWorkedWith</th>\n",
       "      <th>DevType</th>\n",
       "      <th>EdLevel</th>\n",
       "      <th>Employment</th>\n",
       "    </tr>\n",
       "  </thead>\n",
       "  <tbody>\n",
       "    <tr>\n",
       "      <th>0</th>\n",
       "      <td>Yes</td>\n",
       "      <td>NaN</td>\n",
       "      <td>13</td>\n",
       "      <td>Monthly</td>\n",
       "      <td>NaN</td>\n",
       "      <td>NaN</td>\n",
       "      <td>Germany</td>\n",
       "      <td>European Euro</td>\n",
       "      <td>EUR</td>\n",
       "      <td>Microsoft SQL Server</td>\n",
       "      <td>Elasticsearch;Microsoft SQL Server;Oracle</td>\n",
       "      <td>Developer, desktop or enterprise applications;...</td>\n",
       "      <td>Master’s degree (M.A., M.S., M.Eng., MBA, etc.)</td>\n",
       "      <td>Independent contractor, freelancer, or self-em...</td>\n",
       "    </tr>\n",
       "    <tr>\n",
       "      <th>1</th>\n",
       "      <td>No</td>\n",
       "      <td>NaN</td>\n",
       "      <td>19</td>\n",
       "      <td>NaN</td>\n",
       "      <td>NaN</td>\n",
       "      <td>NaN</td>\n",
       "      <td>United Kingdom</td>\n",
       "      <td>Pound sterling</td>\n",
       "      <td>GBP</td>\n",
       "      <td>NaN</td>\n",
       "      <td>NaN</td>\n",
       "      <td>Developer, full-stack;Developer, mobile</td>\n",
       "      <td>Bachelor’s degree (B.A., B.S., B.Eng., etc.)</td>\n",
       "      <td>Employed full-time</td>\n",
       "    </tr>\n",
       "    <tr>\n",
       "      <th>2</th>\n",
       "      <td>Yes</td>\n",
       "      <td>NaN</td>\n",
       "      <td>15</td>\n",
       "      <td>NaN</td>\n",
       "      <td>NaN</td>\n",
       "      <td>NaN</td>\n",
       "      <td>Russian Federation</td>\n",
       "      <td>NaN</td>\n",
       "      <td>NaN</td>\n",
       "      <td>NaN</td>\n",
       "      <td>NaN</td>\n",
       "      <td>NaN</td>\n",
       "      <td>NaN</td>\n",
       "      <td>NaN</td>\n",
       "    </tr>\n",
       "  </tbody>\n",
       "</table>\n",
       "</div>"
      ],
      "text/plain": [
       "  Hobbyist  Age Age1stCode CompFreq  CompTotal  ConvertedComp  \\\n",
       "0      Yes  NaN         13  Monthly        NaN            NaN   \n",
       "1       No  NaN         19      NaN        NaN            NaN   \n",
       "2      Yes  NaN         15      NaN        NaN            NaN   \n",
       "\n",
       "              Country    CurrencyDesc CurrencySymbol DatabaseDesireNextYear  \\\n",
       "0             Germany   European Euro            EUR   Microsoft SQL Server   \n",
       "1      United Kingdom  Pound sterling            GBP                    NaN   \n",
       "2  Russian Federation             NaN            NaN                    NaN   \n",
       "\n",
       "                          DatabaseWorkedWith  \\\n",
       "0  Elasticsearch;Microsoft SQL Server;Oracle   \n",
       "1                                        NaN   \n",
       "2                                        NaN   \n",
       "\n",
       "                                             DevType  \\\n",
       "0  Developer, desktop or enterprise applications;...   \n",
       "1            Developer, full-stack;Developer, mobile   \n",
       "2                                                NaN   \n",
       "\n",
       "                                           EdLevel  \\\n",
       "0  Master’s degree (M.A., M.S., M.Eng., MBA, etc.)   \n",
       "1     Bachelor’s degree (B.A., B.S., B.Eng., etc.)   \n",
       "2                                              NaN   \n",
       "\n",
       "                                          Employment  \n",
       "0  Independent contractor, freelancer, or self-em...  \n",
       "1                                 Employed full-time  \n",
       "2                                                NaN  "
      ]
     },
     "execution_count": 16,
     "metadata": {},
     "output_type": "execute_result"
    }
   ],
   "source": [
    "df.loc[0:2,'Hobbyist':'Employment']"
   ]
  },
  {
   "cell_type": "code",
   "execution_count": 17,
   "metadata": {},
   "outputs": [
    {
     "data": {
      "text/plain": [
       "Index(['Respondent', 'MainBranch', 'Hobbyist', 'Age', 'Age1stCode', 'CompFreq',\n",
       "       'CompTotal', 'ConvertedComp', 'Country', 'CurrencyDesc',\n",
       "       'CurrencySymbol', 'DatabaseDesireNextYear', 'DatabaseWorkedWith',\n",
       "       'DevType', 'EdLevel', 'Employment', 'Ethnicity', 'Gender', 'JobFactors',\n",
       "       'JobSat', 'JobSeek', 'LanguageDesireNextYear', 'LanguageWorkedWith',\n",
       "       'MiscTechDesireNextYear', 'MiscTechWorkedWith',\n",
       "       'NEWCollabToolsDesireNextYear', 'NEWCollabToolsWorkedWith', 'NEWDevOps',\n",
       "       'NEWDevOpsImpt', 'NEWEdImpt', 'NEWJobHunt', 'NEWJobHuntResearch',\n",
       "       'NEWLearn', 'NEWOffTopic', 'NEWOnboardGood', 'NEWOtherComms',\n",
       "       'NEWOvertime', 'NEWPurchaseResearch', 'NEWPurpleLink', 'NEWSOSites',\n",
       "       'NEWStuck', 'OpSys', 'OrgSize', 'PlatformDesireNextYear',\n",
       "       'PlatformWorkedWith', 'PurchaseWhat', 'Sexuality', 'SOAccount',\n",
       "       'SOComm', 'SOPartFreq', 'SOVisitFreq', 'SurveyEase', 'SurveyLength',\n",
       "       'Trans', 'UndergradMajor', 'WebframeDesireNextYear',\n",
       "       'WebframeWorkedWith', 'WelcomeChange', 'WorkWeekHrs', 'YearsCode',\n",
       "       'YearsCodePro'],\n",
       "      dtype='object')"
      ]
     },
     "execution_count": 17,
     "metadata": {},
     "output_type": "execute_result"
    }
   ],
   "source": [
    "df.columns"
   ]
  },
  {
   "cell_type": "code",
   "execution_count": 18,
   "metadata": {},
   "outputs": [],
   "source": [
    "#Setting new Index for the DF\n",
    "\n",
    "# or df = pd.read_csv('data\\survey_results_public.csv',index_col ='Respondent')\n",
    "\n",
    "df.set_index('Respondent' , inplace=True)"
   ]
  },
  {
   "cell_type": "code",
   "execution_count": 19,
   "metadata": {},
   "outputs": [],
   "source": [
    "#Reset Index\n",
    "#df.reset_index(inplace=True)"
   ]
  },
  {
   "cell_type": "code",
   "execution_count": 20,
   "metadata": {},
   "outputs": [],
   "source": [
    "#For looking up of that each column meant\n",
    "df_schema.set_index('Column',inplace=True)\n"
   ]
  },
  {
   "cell_type": "code",
   "execution_count": 21,
   "metadata": {},
   "outputs": [
    {
     "data": {
      "text/plain": [
       "'Which of the following options best describes you today? Here, by \"developer\" we mean \"someone who writes code.\"'"
      ]
     },
     "execution_count": 21,
     "metadata": {},
     "output_type": "execute_result"
    }
   ],
   "source": [
    "# getting what a column meant\n",
    "\n",
    "df_schema.loc['MainBranch','QuestionText']"
   ]
  },
  {
   "cell_type": "code",
   "execution_count": 22,
   "metadata": {},
   "outputs": [],
   "source": [
    "#sorting the index alphabetically\n",
    "\n",
    "df_schema.sort_index(ascending=True,inplace=True)"
   ]
  },
  {
   "cell_type": "markdown",
   "metadata": {},
   "source": [
    "## Filtering DataFrames"
   ]
  },
  {
   "cell_type": "code",
   "execution_count": 23,
   "metadata": {},
   "outputs": [
    {
     "data": {
      "text/html": [
       "<div>\n",
       "<style scoped>\n",
       "    .dataframe tbody tr th:only-of-type {\n",
       "        vertical-align: middle;\n",
       "    }\n",
       "\n",
       "    .dataframe tbody tr th {\n",
       "        vertical-align: top;\n",
       "    }\n",
       "\n",
       "    .dataframe thead th {\n",
       "        text-align: right;\n",
       "    }\n",
       "</style>\n",
       "<table border=\"1\" class=\"dataframe\">\n",
       "  <thead>\n",
       "    <tr style=\"text-align: right;\">\n",
       "      <th></th>\n",
       "      <th>Country</th>\n",
       "      <th>Age</th>\n",
       "    </tr>\n",
       "    <tr>\n",
       "      <th>Respondent</th>\n",
       "      <th></th>\n",
       "      <th></th>\n",
       "    </tr>\n",
       "  </thead>\n",
       "  <tbody>\n",
       "    <tr>\n",
       "      <th>7</th>\n",
       "      <td>India</td>\n",
       "      <td>NaN</td>\n",
       "    </tr>\n",
       "    <tr>\n",
       "      <th>22</th>\n",
       "      <td>India</td>\n",
       "      <td>NaN</td>\n",
       "    </tr>\n",
       "    <tr>\n",
       "      <th>58</th>\n",
       "      <td>India</td>\n",
       "      <td>NaN</td>\n",
       "    </tr>\n",
       "    <tr>\n",
       "      <th>63</th>\n",
       "      <td>India</td>\n",
       "      <td>21.0</td>\n",
       "    </tr>\n",
       "    <tr>\n",
       "      <th>149</th>\n",
       "      <td>India</td>\n",
       "      <td>36.0</td>\n",
       "    </tr>\n",
       "    <tr>\n",
       "      <th>...</th>\n",
       "      <td>...</td>\n",
       "      <td>...</td>\n",
       "    </tr>\n",
       "    <tr>\n",
       "      <th>54757</th>\n",
       "      <td>India</td>\n",
       "      <td>NaN</td>\n",
       "    </tr>\n",
       "    <tr>\n",
       "      <th>55407</th>\n",
       "      <td>India</td>\n",
       "      <td>NaN</td>\n",
       "    </tr>\n",
       "    <tr>\n",
       "      <th>62464</th>\n",
       "      <td>India</td>\n",
       "      <td>NaN</td>\n",
       "    </tr>\n",
       "    <tr>\n",
       "      <th>62954</th>\n",
       "      <td>India</td>\n",
       "      <td>NaN</td>\n",
       "    </tr>\n",
       "    <tr>\n",
       "      <th>64236</th>\n",
       "      <td>India</td>\n",
       "      <td>NaN</td>\n",
       "    </tr>\n",
       "  </tbody>\n",
       "</table>\n",
       "<p>8403 rows × 2 columns</p>\n",
       "</div>"
      ],
      "text/plain": [
       "           Country   Age\n",
       "Respondent              \n",
       "7            India   NaN\n",
       "22           India   NaN\n",
       "58           India   NaN\n",
       "63           India  21.0\n",
       "149          India  36.0\n",
       "...            ...   ...\n",
       "54757        India   NaN\n",
       "55407        India   NaN\n",
       "62464        India   NaN\n",
       "62954        India   NaN\n",
       "64236        India   NaN\n",
       "\n",
       "[8403 rows x 2 columns]"
      ]
     },
     "execution_count": 23,
     "metadata": {},
     "output_type": "execute_result"
    }
   ],
   "source": [
    "#Getting rows where country = India\n",
    "indiaFilter :pd.core.series.Series =  (df['Country'] == 'India')\n",
    "#Use loc instead of indiansDF[indiaFilter], so that we can select columns in better way\n",
    "indiansDf :pd.core.frame.DataFrame = df.loc[indiaFilter,['Country','Age']]\n",
    "indiansDf\n"
   ]
  },
  {
   "cell_type": "markdown",
   "metadata": {},
   "source": [
    "`combining multiple filters`"
   ]
  },
  {
   "cell_type": "code",
   "execution_count": 24,
   "metadata": {},
   "outputs": [],
   "source": [
    "indianAndOldFilter = (df['Country'] == 'India') & (df['Age'] > 40)"
   ]
  },
  {
   "cell_type": "code",
   "execution_count": 25,
   "metadata": {},
   "outputs": [
    {
     "data": {
      "text/html": [
       "<div>\n",
       "<style scoped>\n",
       "    .dataframe tbody tr th:only-of-type {\n",
       "        vertical-align: middle;\n",
       "    }\n",
       "\n",
       "    .dataframe tbody tr th {\n",
       "        vertical-align: top;\n",
       "    }\n",
       "\n",
       "    .dataframe thead th {\n",
       "        text-align: right;\n",
       "    }\n",
       "</style>\n",
       "<table border=\"1\" class=\"dataframe\">\n",
       "  <thead>\n",
       "    <tr style=\"text-align: right;\">\n",
       "      <th></th>\n",
       "      <th>Country</th>\n",
       "      <th>Age</th>\n",
       "    </tr>\n",
       "    <tr>\n",
       "      <th>Respondent</th>\n",
       "      <th></th>\n",
       "      <th></th>\n",
       "    </tr>\n",
       "  </thead>\n",
       "  <tbody>\n",
       "    <tr>\n",
       "      <th>1158</th>\n",
       "      <td>India</td>\n",
       "      <td>45.0</td>\n",
       "    </tr>\n",
       "    <tr>\n",
       "      <th>1816</th>\n",
       "      <td>India</td>\n",
       "      <td>43.0</td>\n",
       "    </tr>\n",
       "    <tr>\n",
       "      <th>4437</th>\n",
       "      <td>India</td>\n",
       "      <td>42.0</td>\n",
       "    </tr>\n",
       "    <tr>\n",
       "      <th>4553</th>\n",
       "      <td>India</td>\n",
       "      <td>43.0</td>\n",
       "    </tr>\n",
       "    <tr>\n",
       "      <th>5604</th>\n",
       "      <td>India</td>\n",
       "      <td>59.0</td>\n",
       "    </tr>\n",
       "    <tr>\n",
       "      <th>...</th>\n",
       "      <td>...</td>\n",
       "      <td>...</td>\n",
       "    </tr>\n",
       "    <tr>\n",
       "      <th>55221</th>\n",
       "      <td>India</td>\n",
       "      <td>48.0</td>\n",
       "    </tr>\n",
       "    <tr>\n",
       "      <th>58030</th>\n",
       "      <td>India</td>\n",
       "      <td>99.0</td>\n",
       "    </tr>\n",
       "    <tr>\n",
       "      <th>61003</th>\n",
       "      <td>India</td>\n",
       "      <td>44.0</td>\n",
       "    </tr>\n",
       "    <tr>\n",
       "      <th>61133</th>\n",
       "      <td>India</td>\n",
       "      <td>43.0</td>\n",
       "    </tr>\n",
       "    <tr>\n",
       "      <th>61950</th>\n",
       "      <td>India</td>\n",
       "      <td>45.0</td>\n",
       "    </tr>\n",
       "  </tbody>\n",
       "</table>\n",
       "<p>78 rows × 2 columns</p>\n",
       "</div>"
      ],
      "text/plain": [
       "           Country   Age\n",
       "Respondent              \n",
       "1158         India  45.0\n",
       "1816         India  43.0\n",
       "4437         India  42.0\n",
       "4553         India  43.0\n",
       "5604         India  59.0\n",
       "...            ...   ...\n",
       "55221        India  48.0\n",
       "58030        India  99.0\n",
       "61003        India  44.0\n",
       "61133        India  43.0\n",
       "61950        India  45.0\n",
       "\n",
       "[78 rows x 2 columns]"
      ]
     },
     "execution_count": 25,
     "metadata": {},
     "output_type": "execute_result"
    }
   ],
   "source": [
    "df.loc[indianAndOldFilter,['Country','Age']]"
   ]
  },
  {
   "cell_type": "markdown",
   "metadata": {},
   "source": [
    "`use '~' before filter to negate the full filter!`"
   ]
  },
  {
   "cell_type": "code",
   "execution_count": 26,
   "metadata": {},
   "outputs": [
    {
     "data": {
      "text/plain": [
       "'Salary converted to annual USD salaries using the exchange rate on 2020-02-19, assuming 12 working months and 50 working weeks.'"
      ]
     },
     "execution_count": 26,
     "metadata": {},
     "output_type": "execute_result"
    }
   ],
   "source": [
    "df_schema.loc['ConvertedComp','QuestionText']"
   ]
  },
  {
   "cell_type": "code",
   "execution_count": 27,
   "metadata": {},
   "outputs": [],
   "source": [
    "highSalaryFilter = (df['ConvertedComp'] > 50000)"
   ]
  },
  {
   "cell_type": "code",
   "execution_count": 28,
   "metadata": {},
   "outputs": [
    {
     "data": {
      "text/html": [
       "<div>\n",
       "<style scoped>\n",
       "    .dataframe tbody tr th:only-of-type {\n",
       "        vertical-align: middle;\n",
       "    }\n",
       "\n",
       "    .dataframe tbody tr th {\n",
       "        vertical-align: top;\n",
       "    }\n",
       "\n",
       "    .dataframe thead th {\n",
       "        text-align: right;\n",
       "    }\n",
       "</style>\n",
       "<table border=\"1\" class=\"dataframe\">\n",
       "  <thead>\n",
       "    <tr style=\"text-align: right;\">\n",
       "      <th></th>\n",
       "      <th>ConvertedComp</th>\n",
       "      <th>Country</th>\n",
       "      <th>LanguageWorkedWith</th>\n",
       "    </tr>\n",
       "    <tr>\n",
       "      <th>Respondent</th>\n",
       "      <th></th>\n",
       "      <th></th>\n",
       "      <th></th>\n",
       "    </tr>\n",
       "  </thead>\n",
       "  <tbody>\n",
       "    <tr>\n",
       "      <th>53716</th>\n",
       "      <td>2000000.0</td>\n",
       "      <td>United States</td>\n",
       "      <td>Bash/Shell/PowerShell;JavaScript;Python;Swift</td>\n",
       "    </tr>\n",
       "    <tr>\n",
       "      <th>818</th>\n",
       "      <td>2000000.0</td>\n",
       "      <td>United States</td>\n",
       "      <td>Bash/Shell/PowerShell;HTML/CSS;Java;Python;SQL...</td>\n",
       "    </tr>\n",
       "    <tr>\n",
       "      <th>53874</th>\n",
       "      <td>2000000.0</td>\n",
       "      <td>United States</td>\n",
       "      <td>JavaScript;PHP;Ruby</td>\n",
       "    </tr>\n",
       "    <tr>\n",
       "      <th>60832</th>\n",
       "      <td>2000000.0</td>\n",
       "      <td>United States</td>\n",
       "      <td>HTML/CSS;JavaScript</td>\n",
       "    </tr>\n",
       "    <tr>\n",
       "      <th>53854</th>\n",
       "      <td>2000000.0</td>\n",
       "      <td>United States</td>\n",
       "      <td>Bash/Shell/PowerShell;C#;HTML/CSS;Java;JavaScr...</td>\n",
       "    </tr>\n",
       "    <tr>\n",
       "      <th>...</th>\n",
       "      <td>...</td>\n",
       "      <td>...</td>\n",
       "      <td>...</td>\n",
       "    </tr>\n",
       "    <tr>\n",
       "      <th>14760</th>\n",
       "      <td>50028.0</td>\n",
       "      <td>Hungary</td>\n",
       "      <td>Bash/Shell/PowerShell;C;C++;HTML/CSS;Java;Java...</td>\n",
       "    </tr>\n",
       "    <tr>\n",
       "      <th>57240</th>\n",
       "      <td>50016.0</td>\n",
       "      <td>Russian Federation</td>\n",
       "      <td>Bash/Shell/PowerShell;C#;HTML/CSS;JavaScript;P...</td>\n",
       "    </tr>\n",
       "    <tr>\n",
       "      <th>45123</th>\n",
       "      <td>50016.0</td>\n",
       "      <td>Russian Federation</td>\n",
       "      <td>Bash/Shell/PowerShell;Python;SQL</td>\n",
       "    </tr>\n",
       "    <tr>\n",
       "      <th>48393</th>\n",
       "      <td>50016.0</td>\n",
       "      <td>Russian Federation</td>\n",
       "      <td>Python;SQL</td>\n",
       "    </tr>\n",
       "    <tr>\n",
       "      <th>31546</th>\n",
       "      <td>50012.0</td>\n",
       "      <td>China</td>\n",
       "      <td>Java;JavaScript</td>\n",
       "    </tr>\n",
       "  </tbody>\n",
       "</table>\n",
       "<p>18375 rows × 3 columns</p>\n",
       "</div>"
      ],
      "text/plain": [
       "            ConvertedComp             Country  \\\n",
       "Respondent                                      \n",
       "53716           2000000.0       United States   \n",
       "818             2000000.0       United States   \n",
       "53874           2000000.0       United States   \n",
       "60832           2000000.0       United States   \n",
       "53854           2000000.0       United States   \n",
       "...                   ...                 ...   \n",
       "14760             50028.0             Hungary   \n",
       "57240             50016.0  Russian Federation   \n",
       "45123             50016.0  Russian Federation   \n",
       "48393             50016.0  Russian Federation   \n",
       "31546             50012.0               China   \n",
       "\n",
       "                                           LanguageWorkedWith  \n",
       "Respondent                                                     \n",
       "53716           Bash/Shell/PowerShell;JavaScript;Python;Swift  \n",
       "818         Bash/Shell/PowerShell;HTML/CSS;Java;Python;SQL...  \n",
       "53874                                     JavaScript;PHP;Ruby  \n",
       "60832                                     HTML/CSS;JavaScript  \n",
       "53854       Bash/Shell/PowerShell;C#;HTML/CSS;Java;JavaScr...  \n",
       "...                                                       ...  \n",
       "14760       Bash/Shell/PowerShell;C;C++;HTML/CSS;Java;Java...  \n",
       "57240       Bash/Shell/PowerShell;C#;HTML/CSS;JavaScript;P...  \n",
       "45123                        Bash/Shell/PowerShell;Python;SQL  \n",
       "48393                                              Python;SQL  \n",
       "31546                                         Java;JavaScript  \n",
       "\n",
       "[18375 rows x 3 columns]"
      ]
     },
     "execution_count": 28,
     "metadata": {},
     "output_type": "execute_result"
    }
   ],
   "source": [
    "highPaidDF = df.loc[highSalaryFilter,['ConvertedComp','Country','LanguageWorkedWith']].sort_values(by='ConvertedComp',ascending=False)\n",
    "highPaidDF"
   ]
  },
  {
   "cell_type": "code",
   "execution_count": 29,
   "metadata": {},
   "outputs": [
    {
     "data": {
      "text/html": [
       "<div>\n",
       "<style scoped>\n",
       "    .dataframe tbody tr th:only-of-type {\n",
       "        vertical-align: middle;\n",
       "    }\n",
       "\n",
       "    .dataframe tbody tr th {\n",
       "        vertical-align: top;\n",
       "    }\n",
       "\n",
       "    .dataframe thead th {\n",
       "        text-align: right;\n",
       "    }\n",
       "</style>\n",
       "<table border=\"1\" class=\"dataframe\">\n",
       "  <thead>\n",
       "    <tr style=\"text-align: right;\">\n",
       "      <th></th>\n",
       "      <th>ConvertedComp</th>\n",
       "      <th>Country</th>\n",
       "      <th>LanguageWorkedWith</th>\n",
       "    </tr>\n",
       "    <tr>\n",
       "      <th>Respondent</th>\n",
       "      <th></th>\n",
       "      <th></th>\n",
       "      <th></th>\n",
       "    </tr>\n",
       "  </thead>\n",
       "  <tbody>\n",
       "    <tr>\n",
       "      <th>37655</th>\n",
       "      <td>1800000.0</td>\n",
       "      <td>India</td>\n",
       "      <td>C#;Dart;Java;Objective-C;Python;SQL;Swift</td>\n",
       "    </tr>\n",
       "    <tr>\n",
       "      <th>36976</th>\n",
       "      <td>1600000.0</td>\n",
       "      <td>India</td>\n",
       "      <td>NaN</td>\n",
       "    </tr>\n",
       "    <tr>\n",
       "      <th>44359</th>\n",
       "      <td>1200000.0</td>\n",
       "      <td>Germany</td>\n",
       "      <td>NaN</td>\n",
       "    </tr>\n",
       "    <tr>\n",
       "      <th>27358</th>\n",
       "      <td>1000000.0</td>\n",
       "      <td>Germany</td>\n",
       "      <td>NaN</td>\n",
       "    </tr>\n",
       "    <tr>\n",
       "      <th>8457</th>\n",
       "      <td>1000000.0</td>\n",
       "      <td>India</td>\n",
       "      <td>Assembly;C;C++;HTML/CSS;Java;Python;SQL</td>\n",
       "    </tr>\n",
       "    <tr>\n",
       "      <th>...</th>\n",
       "      <td>...</td>\n",
       "      <td>...</td>\n",
       "      <td>...</td>\n",
       "    </tr>\n",
       "    <tr>\n",
       "      <th>7299</th>\n",
       "      <td>50262.0</td>\n",
       "      <td>India</td>\n",
       "      <td>Bash/Shell/PowerShell;C++;Go;Python;Ruby</td>\n",
       "    </tr>\n",
       "    <tr>\n",
       "      <th>27840</th>\n",
       "      <td>50262.0</td>\n",
       "      <td>India</td>\n",
       "      <td>JavaScript</td>\n",
       "    </tr>\n",
       "    <tr>\n",
       "      <th>62113</th>\n",
       "      <td>50262.0</td>\n",
       "      <td>India</td>\n",
       "      <td>Bash/Shell/PowerShell;Go;HTML/CSS;JavaScript;P...</td>\n",
       "    </tr>\n",
       "    <tr>\n",
       "      <th>13979</th>\n",
       "      <td>50157.0</td>\n",
       "      <td>Germany</td>\n",
       "      <td>Bash/Shell/PowerShell;Java;Kotlin;Objective-C;...</td>\n",
       "    </tr>\n",
       "    <tr>\n",
       "      <th>21859</th>\n",
       "      <td>50157.0</td>\n",
       "      <td>Germany</td>\n",
       "      <td>Bash/Shell/PowerShell;Python</td>\n",
       "    </tr>\n",
       "  </tbody>\n",
       "</table>\n",
       "<p>1879 rows × 3 columns</p>\n",
       "</div>"
      ],
      "text/plain": [
       "            ConvertedComp  Country  \\\n",
       "Respondent                           \n",
       "37655           1800000.0    India   \n",
       "36976           1600000.0    India   \n",
       "44359           1200000.0  Germany   \n",
       "27358           1000000.0  Germany   \n",
       "8457            1000000.0    India   \n",
       "...                   ...      ...   \n",
       "7299              50262.0    India   \n",
       "27840             50262.0    India   \n",
       "62113             50262.0    India   \n",
       "13979             50157.0  Germany   \n",
       "21859             50157.0  Germany   \n",
       "\n",
       "                                           LanguageWorkedWith  \n",
       "Respondent                                                     \n",
       "37655               C#;Dart;Java;Objective-C;Python;SQL;Swift  \n",
       "36976                                                     NaN  \n",
       "44359                                                     NaN  \n",
       "27358                                                     NaN  \n",
       "8457                  Assembly;C;C++;HTML/CSS;Java;Python;SQL  \n",
       "...                                                       ...  \n",
       "7299                 Bash/Shell/PowerShell;C++;Go;Python;Ruby  \n",
       "27840                                              JavaScript  \n",
       "62113       Bash/Shell/PowerShell;Go;HTML/CSS;JavaScript;P...  \n",
       "13979       Bash/Shell/PowerShell;Java;Kotlin;Objective-C;...  \n",
       "21859                            Bash/Shell/PowerShell;Python  \n",
       "\n",
       "[1879 rows x 3 columns]"
      ]
     },
     "execution_count": 29,
     "metadata": {},
     "output_type": "execute_result"
    }
   ],
   "source": [
    "#highest paid in these countries\n",
    "countries = ['India','Germany']\n",
    "highSalaryFilter = (df['ConvertedComp'] > 50000)  & (df['Country'].isin(countries))\n",
    "    \n",
    "highPaidDF = df.loc[highSalaryFilter,['ConvertedComp','Country','LanguageWorkedWith']].sort_values(by='ConvertedComp',ascending=False)\n",
    "highPaidDF"
   ]
  },
  {
   "cell_type": "code",
   "execution_count": 30,
   "metadata": {},
   "outputs": [
    {
     "data": {
      "text/plain": [
       "Respondent\n",
       "23                            Bash/Shell/PowerShell;C#;C++\n",
       "27             Bash/Shell/PowerShell;C;C++;Java;Python;SQL\n",
       "29                                  C#;C++;HTML/CSS;Python\n",
       "31                                                   C;C++\n",
       "32                               C;C++;Java;Python;SQL;VBA\n",
       "                               ...                        \n",
       "63077              C++;HTML/CSS;Java;JavaScript;Python;SQL\n",
       "63452    Bash/Shell/PowerShell;C#;C++;HTML/CSS;JavaScri...\n",
       "63640    Bash/Shell/PowerShell;C;C#;C++;HTML/CSS;Java;J...\n",
       "64330                                         C++;HTML/CSS\n",
       "64867    Assembly;Bash/Shell/PowerShell;C;C#;C++;Dart;G...\n",
       "Name: LanguageWorkedWith, Length: 13707, dtype: object"
      ]
     },
     "execution_count": 30,
     "metadata": {},
     "output_type": "execute_result"
    }
   ],
   "source": [
    "df['LanguageWorkedWith'] #looks like these are comma seperated.\n",
    "devsWorkedWithJavaPredicate =  df['LanguageWorkedWith'].str.contains('C++',na=False,regex= False)\n",
    "df.loc[devsWorkedWithJavaPredicate,'LanguageWorkedWith']\n"
   ]
  },
  {
   "cell_type": "markdown",
   "metadata": {},
   "source": [
    "## Altering Rows / Columns"
   ]
  },
  {
   "cell_type": "markdown",
   "metadata": {},
   "source": [
    "`Dropping Rows`"
   ]
  },
  {
   "cell_type": "code",
   "execution_count": 31,
   "metadata": {},
   "outputs": [],
   "source": [
    "demoDF = pd.DataFrame(\n",
    "{\n",
    "    'full_name' : ['Abhishek Sengupta','Shredder Wayne','Queen Wayne'],\n",
    "    'occupation' : ['Student','Soldier','Student']\n",
    "}\n",
    ")\n",
    "\n",
    "#demoDF.drop(index=1) #single items\n"
   ]
  },
  {
   "cell_type": "code",
   "execution_count": 32,
   "metadata": {},
   "outputs": [
    {
     "name": "stdout",
     "output_type": "stream",
     "text": [
      "           full_name occupation\n",
      "0  Abhishek Sengupta    Student\n",
      "2        Queen Wayne    Student\n",
      "\n",
      "\n",
      "Int64Index([0, 2], dtype='int64')\n"
     ]
    },
    {
     "data": {
      "text/html": [
       "<div>\n",
       "<style scoped>\n",
       "    .dataframe tbody tr th:only-of-type {\n",
       "        vertical-align: middle;\n",
       "    }\n",
       "\n",
       "    .dataframe tbody tr th {\n",
       "        vertical-align: top;\n",
       "    }\n",
       "\n",
       "    .dataframe thead th {\n",
       "        text-align: right;\n",
       "    }\n",
       "</style>\n",
       "<table border=\"1\" class=\"dataframe\">\n",
       "  <thead>\n",
       "    <tr style=\"text-align: right;\">\n",
       "      <th></th>\n",
       "      <th>full_name</th>\n",
       "      <th>occupation</th>\n",
       "    </tr>\n",
       "  </thead>\n",
       "  <tbody>\n",
       "    <tr>\n",
       "      <th>1</th>\n",
       "      <td>Shredder Wayne</td>\n",
       "      <td>Soldier</td>\n",
       "    </tr>\n",
       "  </tbody>\n",
       "</table>\n",
       "</div>"
      ],
      "text/plain": [
       "        full_name occupation\n",
       "1  Shredder Wayne    Soldier"
      ]
     },
     "execution_count": 32,
     "metadata": {},
     "output_type": "execute_result"
    }
   ],
   "source": [
    "#dropping useing filter\n",
    "dropFilter= (demoDF['occupation'] == 'Student')\n",
    "print(demoDF[dropFilter]) #DF containing items that matched the predicate\n",
    "print('\\n')\n",
    "print(demoDF[dropFilter].index) # Just index numbers\n",
    "\n",
    "demoDF.drop(index= demoDF[dropFilter].index)\n"
   ]
  },
  {
   "cell_type": "markdown",
   "metadata": {},
   "source": [
    "`Altering Column Headers`"
   ]
  },
  {
   "cell_type": "code",
   "execution_count": 33,
   "metadata": {},
   "outputs": [],
   "source": [
    "#using for comprehensions\n",
    "df.columns = [column.upper() for column in df.columns]"
   ]
  },
  {
   "cell_type": "code",
   "execution_count": 34,
   "metadata": {},
   "outputs": [],
   "source": [
    "# df.columns = df.columns.str.replace('_','__')"
   ]
  },
  {
   "cell_type": "markdown",
   "metadata": {},
   "source": [
    "`renaming selective columns using **dictionary**`"
   ]
  },
  {
   "cell_type": "code",
   "execution_count": 35,
   "metadata": {},
   "outputs": [],
   "source": [
    "df.rename(columns={'AGE' : 'AGE_IN_YEAR','HOBBYIST':'IS_HOBBYIST'},inplace=True)"
   ]
  },
  {
   "cell_type": "markdown",
   "metadata": {},
   "source": [
    "`Update RoW`"
   ]
  },
  {
   "cell_type": "code",
   "execution_count": 36,
   "metadata": {},
   "outputs": [],
   "source": [
    "#single row \n",
    "\n",
    "df.loc[1,'AGE_IN_YEAR'] = 50\n",
    "\n",
    "# OR\n",
    "\n",
    "df.at[1,'AGE_IN_YEAR'] = 50"
   ]
  },
  {
   "cell_type": "code",
   "execution_count": 37,
   "metadata": {},
   "outputs": [],
   "source": [
    "#multiple row \n",
    "\n",
    "df.loc[1,['AGE_IN_YEAR','COUNTRY']] = [60,'AFGANISTAN']\n",
    "\n",
    "\n"
   ]
  },
  {
   "cell_type": "code",
   "execution_count": 38,
   "metadata": {},
   "outputs": [],
   "source": [
    "indianFilter = (df['COUNTRY'] == 'India')"
   ]
  },
  {
   "cell_type": "code",
   "execution_count": 39,
   "metadata": {},
   "outputs": [
    {
     "data": {
      "text/plain": [
       "Respondent\n",
       "7         NaN\n",
       "22        NaN\n",
       "58        NaN\n",
       "63       21.0\n",
       "149      36.0\n",
       "         ... \n",
       "54757     NaN\n",
       "55407     NaN\n",
       "62464     NaN\n",
       "62954     NaN\n",
       "64236     NaN\n",
       "Name: AGE_IN_YEAR, Length: 8403, dtype: float64"
      ]
     },
     "execution_count": 39,
     "metadata": {},
     "output_type": "execute_result"
    }
   ],
   "source": [
    "df.loc[indiaFilter,'AGE_IN_YEAR']\n"
   ]
  },
  {
   "cell_type": "code",
   "execution_count": 40,
   "metadata": {},
   "outputs": [],
   "source": [
    "# increasing AGE only for indian\n",
    "df.loc[indiaFilter,'AGE_IN_YEAR'] = df.loc[indiaFilter,'AGE_IN_YEAR'] + 1"
   ]
  },
  {
   "cell_type": "markdown",
   "metadata": {},
   "source": [
    "`Lowercasing all WelcomeChange Fields`"
   ]
  },
  {
   "cell_type": "code",
   "execution_count": 41,
   "metadata": {},
   "outputs": [
    {
     "data": {
      "text/plain": [
       "'Compared to last year, how welcome do you feel on Stack Overflow?'"
      ]
     },
     "execution_count": 41,
     "metadata": {},
     "output_type": "execute_result"
    }
   ],
   "source": [
    "df_schema.loc['WelcomeChange','QuestionText']"
   ]
  },
  {
   "cell_type": "code",
   "execution_count": 42,
   "metadata": {},
   "outputs": [],
   "source": [
    "df['WELCOMECHANGE'] = df['WELCOMECHANGE'].str.lower()"
   ]
  },
  {
   "cell_type": "markdown",
   "metadata": {},
   "source": [
    "`Splitting a column to from new columns`"
   ]
  },
  {
   "cell_type": "code",
   "execution_count": 43,
   "metadata": {},
   "outputs": [],
   "source": [
    "demoDF = pd.DataFrame(\n",
    "{\n",
    "    'full_name' : ['Abhishek Sengupta','Shredder Wayne'],\n",
    "    'occupation' : ['Student','Soldier']\n",
    "}\n",
    ")\n"
   ]
  },
  {
   "cell_type": "code",
   "execution_count": 44,
   "metadata": {},
   "outputs": [
    {
     "data": {
      "text/html": [
       "<div>\n",
       "<style scoped>\n",
       "    .dataframe tbody tr th:only-of-type {\n",
       "        vertical-align: middle;\n",
       "    }\n",
       "\n",
       "    .dataframe tbody tr th {\n",
       "        vertical-align: top;\n",
       "    }\n",
       "\n",
       "    .dataframe thead th {\n",
       "        text-align: right;\n",
       "    }\n",
       "</style>\n",
       "<table border=\"1\" class=\"dataframe\">\n",
       "  <thead>\n",
       "    <tr style=\"text-align: right;\">\n",
       "      <th></th>\n",
       "      <th>0</th>\n",
       "      <th>1</th>\n",
       "    </tr>\n",
       "  </thead>\n",
       "  <tbody>\n",
       "    <tr>\n",
       "      <th>0</th>\n",
       "      <td>Abhishek</td>\n",
       "      <td>Sengupta</td>\n",
       "    </tr>\n",
       "    <tr>\n",
       "      <th>1</th>\n",
       "      <td>Shredder</td>\n",
       "      <td>Wayne</td>\n",
       "    </tr>\n",
       "  </tbody>\n",
       "</table>\n",
       "</div>"
      ],
      "text/plain": [
       "          0         1\n",
       "0  Abhishek  Sengupta\n",
       "1  Shredder     Wayne"
      ]
     },
     "execution_count": 44,
     "metadata": {},
     "output_type": "execute_result"
    }
   ],
   "source": [
    "demoDF['full_name'].str.split(' ') # returns comma seperated list\n",
    "demoDF['full_name'].str.split(' ',expand = True) # this returns new columns "
   ]
  },
  {
   "cell_type": "code",
   "execution_count": 45,
   "metadata": {},
   "outputs": [
    {
     "data": {
      "text/html": [
       "<div>\n",
       "<style scoped>\n",
       "    .dataframe tbody tr th:only-of-type {\n",
       "        vertical-align: middle;\n",
       "    }\n",
       "\n",
       "    .dataframe tbody tr th {\n",
       "        vertical-align: top;\n",
       "    }\n",
       "\n",
       "    .dataframe thead th {\n",
       "        text-align: right;\n",
       "    }\n",
       "</style>\n",
       "<table border=\"1\" class=\"dataframe\">\n",
       "  <thead>\n",
       "    <tr style=\"text-align: right;\">\n",
       "      <th></th>\n",
       "      <th>full_name</th>\n",
       "      <th>occupation</th>\n",
       "      <th>firstName</th>\n",
       "      <th>lastName</th>\n",
       "    </tr>\n",
       "  </thead>\n",
       "  <tbody>\n",
       "    <tr>\n",
       "      <th>0</th>\n",
       "      <td>Abhishek Sengupta</td>\n",
       "      <td>Student</td>\n",
       "      <td>Abhishek</td>\n",
       "      <td>Sengupta</td>\n",
       "    </tr>\n",
       "    <tr>\n",
       "      <th>1</th>\n",
       "      <td>Shredder Wayne</td>\n",
       "      <td>Soldier</td>\n",
       "      <td>Shredder</td>\n",
       "      <td>Wayne</td>\n",
       "    </tr>\n",
       "  </tbody>\n",
       "</table>\n",
       "</div>"
      ],
      "text/plain": [
       "           full_name occupation firstName  lastName\n",
       "0  Abhishek Sengupta    Student  Abhishek  Sengupta\n",
       "1     Shredder Wayne    Soldier  Shredder     Wayne"
      ]
     },
     "execution_count": 45,
     "metadata": {},
     "output_type": "execute_result"
    }
   ],
   "source": [
    "#adding new column to existing demoDF\n",
    "demoDF[['firstName','lastName']] = demoDF['full_name'].str.split(' ',expand = True)\n",
    "demoDF"
   ]
  },
  {
   "cell_type": "markdown",
   "metadata": {},
   "source": [
    "## `Important Functions`\n"
   ]
  },
  {
   "cell_type": "markdown",
   "metadata": {},
   "source": [
    "`Apply`"
   ]
  },
  {
   "cell_type": "code",
   "execution_count": 46,
   "metadata": {},
   "outputs": [
    {
     "data": {
      "text/plain": [
       "Column\n",
       "Age                   What Is Your Age (In Years)? If You Prefer Not...\n",
       "Age1stCode            At What Age Did You Write Your First Line Of C...\n",
       "CompFreq               Is That Compensation Weekly, Monthly, Or Yearly?\n",
       "CompTotal             What Is Your Current Total Compensation (Salar...\n",
       "ConvertedComp         Salary Converted To Annual Usd Salaries Using ...\n",
       "                                            ...                        \n",
       "WebframeWorkedWith    Which Web Frameworks Have You Done Extensive D...\n",
       "WelcomeChange         Compared To Last Year, How Welcome Do You Feel...\n",
       "WorkWeekHrs           On Average, How Many Hours Per Week Do You Wor...\n",
       "YearsCode             Including Any Education, How Many Years Have Y...\n",
       "YearsCodePro          Not Including Education, How Many Years Have Y...\n",
       "Name: QuestionText, Length: 61, dtype: object"
      ]
     },
     "execution_count": 46,
     "metadata": {},
     "output_type": "execute_result"
    }
   ],
   "source": [
    "# Using apply() for updating specific row contents\n",
    "\n",
    "def capFirstLetter(word : str) -> str :\n",
    "    return word.title()\n",
    "\n",
    "df_schema['QuestionText'].apply(capFirstLetter) "
   ]
  },
  {
   "cell_type": "code",
   "execution_count": 47,
   "metadata": {},
   "outputs": [
    {
     "data": {
      "text/plain": [
       "Column\n",
       "Age                   What Is Your Age (In Years)? If You Prefer Not...\n",
       "Age1stCode            At What Age Did You Write Your First Line Of C...\n",
       "CompFreq               Is That Compensation Weekly, Monthly, Or Yearly?\n",
       "CompTotal             What Is Your Current Total Compensation (Salar...\n",
       "ConvertedComp         Salary Converted To Annual Usd Salaries Using ...\n",
       "                                            ...                        \n",
       "WebframeWorkedWith    Which Web Frameworks Have You Done Extensive D...\n",
       "WelcomeChange         Compared To Last Year, How Welcome Do You Feel...\n",
       "WorkWeekHrs           On Average, How Many Hours Per Week Do You Wor...\n",
       "YearsCode             Including Any Education, How Many Years Have Y...\n",
       "YearsCodePro          Not Including Education, How Many Years Have Y...\n",
       "Name: QuestionText, Length: 61, dtype: object"
      ]
     },
     "execution_count": 47,
     "metadata": {},
     "output_type": "execute_result"
    }
   ],
   "source": [
    "#Using Lambda\n",
    "\n",
    "df_schema['QuestionText'].apply(lambda word: word.title()) \n"
   ]
  },
  {
   "cell_type": "code",
   "execution_count": 48,
   "metadata": {},
   "outputs": [],
   "source": [
    "#creating new Row by passing lambda to apply method\n",
    "df_schema['QuestionText Length'] = df_schema['QuestionText'].apply(lambda word: len(word) )"
   ]
  },
  {
   "cell_type": "markdown",
   "metadata": {},
   "source": [
    "##### Using apply on DF"
   ]
  },
  {
   "cell_type": "code",
   "execution_count": 49,
   "metadata": {},
   "outputs": [
    {
     "data": {
      "text/plain": [
       "MAINBRANCH                      64461\n",
       "IS_HOBBYIST                     64461\n",
       "AGE_IN_YEAR                     64461\n",
       "AGE1STCODE                      64461\n",
       "COMPFREQ                        64461\n",
       "COMPTOTAL                       64461\n",
       "CONVERTEDCOMP                   64461\n",
       "COUNTRY                         64461\n",
       "CURRENCYDESC                    64461\n",
       "CURRENCYSYMBOL                  64461\n",
       "DATABASEDESIRENEXTYEAR          64461\n",
       "DATABASEWORKEDWITH              64461\n",
       "DEVTYPE                         64461\n",
       "EDLEVEL                         64461\n",
       "EMPLOYMENT                      64461\n",
       "ETHNICITY                       64461\n",
       "GENDER                          64461\n",
       "JOBFACTORS                      64461\n",
       "JOBSAT                          64461\n",
       "JOBSEEK                         64461\n",
       "LANGUAGEDESIRENEXTYEAR          64461\n",
       "LANGUAGEWORKEDWITH              64461\n",
       "MISCTECHDESIRENEXTYEAR          64461\n",
       "MISCTECHWORKEDWITH              64461\n",
       "NEWCOLLABTOOLSDESIRENEXTYEAR    64461\n",
       "NEWCOLLABTOOLSWORKEDWITH        64461\n",
       "NEWDEVOPS                       64461\n",
       "NEWDEVOPSIMPT                   64461\n",
       "NEWEDIMPT                       64461\n",
       "NEWJOBHUNT                      64461\n",
       "NEWJOBHUNTRESEARCH              64461\n",
       "NEWLEARN                        64461\n",
       "NEWOFFTOPIC                     64461\n",
       "NEWONBOARDGOOD                  64461\n",
       "NEWOTHERCOMMS                   64461\n",
       "NEWOVERTIME                     64461\n",
       "NEWPURCHASERESEARCH             64461\n",
       "NEWPURPLELINK                   64461\n",
       "NEWSOSITES                      64461\n",
       "NEWSTUCK                        64461\n",
       "OPSYS                           64461\n",
       "ORGSIZE                         64461\n",
       "PLATFORMDESIRENEXTYEAR          64461\n",
       "PLATFORMWORKEDWITH              64461\n",
       "PURCHASEWHAT                    64461\n",
       "SEXUALITY                       64461\n",
       "SOACCOUNT                       64461\n",
       "SOCOMM                          64461\n",
       "SOPARTFREQ                      64461\n",
       "SOVISITFREQ                     64461\n",
       "SURVEYEASE                      64461\n",
       "SURVEYLENGTH                    64461\n",
       "TRANS                           64461\n",
       "UNDERGRADMAJOR                  64461\n",
       "WEBFRAMEDESIRENEXTYEAR          64461\n",
       "WEBFRAMEWORKEDWITH              64461\n",
       "WELCOMECHANGE                   64461\n",
       "WORKWEEKHRS                     64461\n",
       "YEARSCODE                       64461\n",
       "YEARSCODEPRO                    64461\n",
       "dtype: int64"
      ]
     },
     "execution_count": 49,
     "metadata": {},
     "output_type": "execute_result"
    }
   ],
   "source": [
    "df.apply(len,axis='rows')"
   ]
  },
  {
   "cell_type": "code",
   "execution_count": 50,
   "metadata": {},
   "outputs": [
    {
     "data": {
      "text/plain": [
       "MAINBRANCH                      64461\n",
       "IS_HOBBYIST                     64461\n",
       "AGE_IN_YEAR                     64461\n",
       "AGE1STCODE                      64461\n",
       "COMPFREQ                        64461\n",
       "COMPTOTAL                       64461\n",
       "CONVERTEDCOMP                   64461\n",
       "COUNTRY                         64461\n",
       "CURRENCYDESC                    64461\n",
       "CURRENCYSYMBOL                  64461\n",
       "DATABASEDESIRENEXTYEAR          64461\n",
       "DATABASEWORKEDWITH              64461\n",
       "DEVTYPE                         64461\n",
       "EDLEVEL                         64461\n",
       "EMPLOYMENT                      64461\n",
       "ETHNICITY                       64461\n",
       "GENDER                          64461\n",
       "JOBFACTORS                      64461\n",
       "JOBSAT                          64461\n",
       "JOBSEEK                         64461\n",
       "LANGUAGEDESIRENEXTYEAR          64461\n",
       "LANGUAGEWORKEDWITH              64461\n",
       "MISCTECHDESIRENEXTYEAR          64461\n",
       "MISCTECHWORKEDWITH              64461\n",
       "NEWCOLLABTOOLSDESIRENEXTYEAR    64461\n",
       "NEWCOLLABTOOLSWORKEDWITH        64461\n",
       "NEWDEVOPS                       64461\n",
       "NEWDEVOPSIMPT                   64461\n",
       "NEWEDIMPT                       64461\n",
       "NEWJOBHUNT                      64461\n",
       "NEWJOBHUNTRESEARCH              64461\n",
       "NEWLEARN                        64461\n",
       "NEWOFFTOPIC                     64461\n",
       "NEWONBOARDGOOD                  64461\n",
       "NEWOTHERCOMMS                   64461\n",
       "NEWOVERTIME                     64461\n",
       "NEWPURCHASERESEARCH             64461\n",
       "NEWPURPLELINK                   64461\n",
       "NEWSOSITES                      64461\n",
       "NEWSTUCK                        64461\n",
       "OPSYS                           64461\n",
       "ORGSIZE                         64461\n",
       "PLATFORMDESIRENEXTYEAR          64461\n",
       "PLATFORMWORKEDWITH              64461\n",
       "PURCHASEWHAT                    64461\n",
       "SEXUALITY                       64461\n",
       "SOACCOUNT                       64461\n",
       "SOCOMM                          64461\n",
       "SOPARTFREQ                      64461\n",
       "SOVISITFREQ                     64461\n",
       "SURVEYEASE                      64461\n",
       "SURVEYLENGTH                    64461\n",
       "TRANS                           64461\n",
       "UNDERGRADMAJOR                  64461\n",
       "WEBFRAMEDESIRENEXTYEAR          64461\n",
       "WEBFRAMEWORKEDWITH              64461\n",
       "WELCOMECHANGE                   64461\n",
       "WORKWEEKHRS                     64461\n",
       "YEARSCODE                       64461\n",
       "YEARSCODEPRO                    64461\n",
       "dtype: int64"
      ]
     },
     "execution_count": 50,
     "metadata": {},
     "output_type": "execute_result"
    }
   ],
   "source": [
    "df.apply(len,axis='rows')"
   ]
  },
  {
   "cell_type": "code",
   "execution_count": 51,
   "metadata": {},
   "outputs": [
    {
     "data": {
      "text/plain": [
       "Respondent\n",
       "1        60\n",
       "2        60\n",
       "3        60\n",
       "4        60\n",
       "5        60\n",
       "         ..\n",
       "64858    60\n",
       "64867    60\n",
       "64898    60\n",
       "64925    60\n",
       "65112    60\n",
       "Length: 64461, dtype: int64"
      ]
     },
     "execution_count": 51,
     "metadata": {},
     "output_type": "execute_result"
    }
   ],
   "source": [
    "df.apply(len,axis='columns')"
   ]
  },
  {
   "cell_type": "markdown",
   "metadata": {},
   "source": [
    "`Map`"
   ]
  },
  {
   "cell_type": "code",
   "execution_count": 52,
   "metadata": {},
   "outputs": [
    {
     "data": {
      "text/plain": [
       "Respondent\n",
       "1         True\n",
       "2        False\n",
       "3         True\n",
       "4         True\n",
       "5         True\n",
       "         ...  \n",
       "64858     True\n",
       "64867     True\n",
       "64898     True\n",
       "64925     True\n",
       "65112     True\n",
       "Name: IS_HOBBYIST, Length: 64461, dtype: object"
      ]
     },
     "execution_count": 52,
     "metadata": {},
     "output_type": "execute_result"
    }
   ],
   "source": [
    "#Apply map donesnt work on Series, so using MAP\n",
    "\n",
    "#FOr using map , supply exhaustive combinations else some values might turn NaN if corrosponding value is not found in the dict\n",
    "df['IS_HOBBYIST'].map({'Yes':True,'No' :False}) \n",
    "\n",
    "#Use Replace to to selectively update\n",
    "df['IS_HOBBYIST'].replace({'Yes':True,'No' :False}) \n",
    "\n"
   ]
  },
  {
   "cell_type": "markdown",
   "metadata": {},
   "source": [
    "## Sorting"
   ]
  },
  {
   "cell_type": "code",
   "execution_count": 53,
   "metadata": {},
   "outputs": [
    {
     "data": {
      "text/html": [
       "<div>\n",
       "<style scoped>\n",
       "    .dataframe tbody tr th:only-of-type {\n",
       "        vertical-align: middle;\n",
       "    }\n",
       "\n",
       "    .dataframe tbody tr th {\n",
       "        vertical-align: top;\n",
       "    }\n",
       "\n",
       "    .dataframe thead th {\n",
       "        text-align: right;\n",
       "    }\n",
       "</style>\n",
       "<table border=\"1\" class=\"dataframe\">\n",
       "  <thead>\n",
       "    <tr style=\"text-align: right;\">\n",
       "      <th></th>\n",
       "      <th>MAINBRANCH</th>\n",
       "      <th>IS_HOBBYIST</th>\n",
       "      <th>AGE_IN_YEAR</th>\n",
       "      <th>AGE1STCODE</th>\n",
       "      <th>COMPFREQ</th>\n",
       "      <th>COMPTOTAL</th>\n",
       "      <th>CONVERTEDCOMP</th>\n",
       "      <th>COUNTRY</th>\n",
       "      <th>CURRENCYDESC</th>\n",
       "      <th>CURRENCYSYMBOL</th>\n",
       "      <th>...</th>\n",
       "      <th>SURVEYEASE</th>\n",
       "      <th>SURVEYLENGTH</th>\n",
       "      <th>TRANS</th>\n",
       "      <th>UNDERGRADMAJOR</th>\n",
       "      <th>WEBFRAMEDESIRENEXTYEAR</th>\n",
       "      <th>WEBFRAMEWORKEDWITH</th>\n",
       "      <th>WELCOMECHANGE</th>\n",
       "      <th>WORKWEEKHRS</th>\n",
       "      <th>YEARSCODE</th>\n",
       "      <th>YEARSCODEPRO</th>\n",
       "    </tr>\n",
       "    <tr>\n",
       "      <th>Respondent</th>\n",
       "      <th></th>\n",
       "      <th></th>\n",
       "      <th></th>\n",
       "      <th></th>\n",
       "      <th></th>\n",
       "      <th></th>\n",
       "      <th></th>\n",
       "      <th></th>\n",
       "      <th></th>\n",
       "      <th></th>\n",
       "      <th></th>\n",
       "      <th></th>\n",
       "      <th></th>\n",
       "      <th></th>\n",
       "      <th></th>\n",
       "      <th></th>\n",
       "      <th></th>\n",
       "      <th></th>\n",
       "      <th></th>\n",
       "      <th></th>\n",
       "      <th></th>\n",
       "    </tr>\n",
       "  </thead>\n",
       "  <tbody>\n",
       "    <tr>\n",
       "      <th>58030</th>\n",
       "      <td>I am a student who is learning to code</td>\n",
       "      <td>Yes</td>\n",
       "      <td>100.0</td>\n",
       "      <td>10</td>\n",
       "      <td>NaN</td>\n",
       "      <td>NaN</td>\n",
       "      <td>NaN</td>\n",
       "      <td>India</td>\n",
       "      <td>NaN</td>\n",
       "      <td>NaN</td>\n",
       "      <td>...</td>\n",
       "      <td>Difficult</td>\n",
       "      <td>Too long</td>\n",
       "      <td>No</td>\n",
       "      <td>Computer science, computer engineering, or sof...</td>\n",
       "      <td>NaN</td>\n",
       "      <td>jQuery</td>\n",
       "      <td>a lot more welcome now than last year</td>\n",
       "      <td>NaN</td>\n",
       "      <td>6</td>\n",
       "      <td>NaN</td>\n",
       "    </tr>\n",
       "    <tr>\n",
       "      <th>5950</th>\n",
       "      <td>I am a developer by profession</td>\n",
       "      <td>Yes</td>\n",
       "      <td>99.0</td>\n",
       "      <td>10</td>\n",
       "      <td>Monthly</td>\n",
       "      <td>2500.0</td>\n",
       "      <td>30000.0</td>\n",
       "      <td>South Korea</td>\n",
       "      <td>United States dollar</td>\n",
       "      <td>USD</td>\n",
       "      <td>...</td>\n",
       "      <td>Easy</td>\n",
       "      <td>Appropriate in length</td>\n",
       "      <td>NaN</td>\n",
       "      <td>Computer science, computer engineering, or sof...</td>\n",
       "      <td>React.js;Ruby on Rails</td>\n",
       "      <td>React.js;Ruby on Rails</td>\n",
       "      <td>just as welcome now as i felt last year</td>\n",
       "      <td>45.0</td>\n",
       "      <td>15</td>\n",
       "      <td>8</td>\n",
       "    </tr>\n",
       "    <tr>\n",
       "      <th>30043</th>\n",
       "      <td>I am a student who is learning to code</td>\n",
       "      <td>Yes</td>\n",
       "      <td>69.0</td>\n",
       "      <td>10</td>\n",
       "      <td>NaN</td>\n",
       "      <td>NaN</td>\n",
       "      <td>NaN</td>\n",
       "      <td>Poland</td>\n",
       "      <td>NaN</td>\n",
       "      <td>NaN</td>\n",
       "      <td>...</td>\n",
       "      <td>Easy</td>\n",
       "      <td>Appropriate in length</td>\n",
       "      <td>Yes</td>\n",
       "      <td>NaN</td>\n",
       "      <td>Django;Flask</td>\n",
       "      <td>ASP.NET;Django;Express;Flask</td>\n",
       "      <td>just as welcome now as i felt last year</td>\n",
       "      <td>NaN</td>\n",
       "      <td>2</td>\n",
       "      <td>NaN</td>\n",
       "    </tr>\n",
       "    <tr>\n",
       "      <th>34677</th>\n",
       "      <td>I am a developer by profession</td>\n",
       "      <td>Yes</td>\n",
       "      <td>65.0</td>\n",
       "      <td>10</td>\n",
       "      <td>Yearly</td>\n",
       "      <td>120000.0</td>\n",
       "      <td>120000.0</td>\n",
       "      <td>United States</td>\n",
       "      <td>United States dollar</td>\n",
       "      <td>USD</td>\n",
       "      <td>...</td>\n",
       "      <td>Easy</td>\n",
       "      <td>Appropriate in length</td>\n",
       "      <td>No</td>\n",
       "      <td>Computer science, computer engineering, or sof...</td>\n",
       "      <td>NaN</td>\n",
       "      <td>NaN</td>\n",
       "      <td>a lot less welcome now than last year</td>\n",
       "      <td>60.0</td>\n",
       "      <td>More than 50 years</td>\n",
       "      <td>More than 50 years</td>\n",
       "    </tr>\n",
       "    <tr>\n",
       "      <th>61238</th>\n",
       "      <td>I am a developer by profession</td>\n",
       "      <td>No</td>\n",
       "      <td>60.0</td>\n",
       "      <td>10</td>\n",
       "      <td>Yearly</td>\n",
       "      <td>175000.0</td>\n",
       "      <td>175000.0</td>\n",
       "      <td>United States</td>\n",
       "      <td>United States dollar</td>\n",
       "      <td>USD</td>\n",
       "      <td>...</td>\n",
       "      <td>Easy</td>\n",
       "      <td>Appropriate in length</td>\n",
       "      <td>No</td>\n",
       "      <td>Computer science, computer engineering, or sof...</td>\n",
       "      <td>Laravel;Vue.js</td>\n",
       "      <td>jQuery;Laravel;Spring;Vue.js</td>\n",
       "      <td>just as welcome now as i felt last year</td>\n",
       "      <td>55.0</td>\n",
       "      <td>45</td>\n",
       "      <td>37</td>\n",
       "    </tr>\n",
       "    <tr>\n",
       "      <th>...</th>\n",
       "      <td>...</td>\n",
       "      <td>...</td>\n",
       "      <td>...</td>\n",
       "      <td>...</td>\n",
       "      <td>...</td>\n",
       "      <td>...</td>\n",
       "      <td>...</td>\n",
       "      <td>...</td>\n",
       "      <td>...</td>\n",
       "      <td>...</td>\n",
       "      <td>...</td>\n",
       "      <td>...</td>\n",
       "      <td>...</td>\n",
       "      <td>...</td>\n",
       "      <td>...</td>\n",
       "      <td>...</td>\n",
       "      <td>...</td>\n",
       "      <td>...</td>\n",
       "      <td>...</td>\n",
       "      <td>...</td>\n",
       "      <td>...</td>\n",
       "    </tr>\n",
       "    <tr>\n",
       "      <th>64567</th>\n",
       "      <td>NaN</td>\n",
       "      <td>Yes</td>\n",
       "      <td>NaN</td>\n",
       "      <td>NaN</td>\n",
       "      <td>NaN</td>\n",
       "      <td>NaN</td>\n",
       "      <td>NaN</td>\n",
       "      <td>Netherlands</td>\n",
       "      <td>NaN</td>\n",
       "      <td>NaN</td>\n",
       "      <td>...</td>\n",
       "      <td>NaN</td>\n",
       "      <td>NaN</td>\n",
       "      <td>NaN</td>\n",
       "      <td>NaN</td>\n",
       "      <td>NaN</td>\n",
       "      <td>ASP.NET Core</td>\n",
       "      <td>NaN</td>\n",
       "      <td>NaN</td>\n",
       "      <td>NaN</td>\n",
       "      <td>NaN</td>\n",
       "    </tr>\n",
       "    <tr>\n",
       "      <th>64867</th>\n",
       "      <td>NaN</td>\n",
       "      <td>Yes</td>\n",
       "      <td>NaN</td>\n",
       "      <td>NaN</td>\n",
       "      <td>NaN</td>\n",
       "      <td>NaN</td>\n",
       "      <td>NaN</td>\n",
       "      <td>Morocco</td>\n",
       "      <td>NaN</td>\n",
       "      <td>NaN</td>\n",
       "      <td>...</td>\n",
       "      <td>NaN</td>\n",
       "      <td>NaN</td>\n",
       "      <td>NaN</td>\n",
       "      <td>NaN</td>\n",
       "      <td>NaN</td>\n",
       "      <td>NaN</td>\n",
       "      <td>NaN</td>\n",
       "      <td>NaN</td>\n",
       "      <td>NaN</td>\n",
       "      <td>NaN</td>\n",
       "    </tr>\n",
       "    <tr>\n",
       "      <th>64898</th>\n",
       "      <td>NaN</td>\n",
       "      <td>Yes</td>\n",
       "      <td>NaN</td>\n",
       "      <td>NaN</td>\n",
       "      <td>NaN</td>\n",
       "      <td>NaN</td>\n",
       "      <td>NaN</td>\n",
       "      <td>Viet Nam</td>\n",
       "      <td>NaN</td>\n",
       "      <td>NaN</td>\n",
       "      <td>...</td>\n",
       "      <td>NaN</td>\n",
       "      <td>NaN</td>\n",
       "      <td>NaN</td>\n",
       "      <td>NaN</td>\n",
       "      <td>NaN</td>\n",
       "      <td>NaN</td>\n",
       "      <td>NaN</td>\n",
       "      <td>NaN</td>\n",
       "      <td>NaN</td>\n",
       "      <td>NaN</td>\n",
       "    </tr>\n",
       "    <tr>\n",
       "      <th>64925</th>\n",
       "      <td>NaN</td>\n",
       "      <td>Yes</td>\n",
       "      <td>NaN</td>\n",
       "      <td>NaN</td>\n",
       "      <td>NaN</td>\n",
       "      <td>NaN</td>\n",
       "      <td>NaN</td>\n",
       "      <td>Poland</td>\n",
       "      <td>NaN</td>\n",
       "      <td>NaN</td>\n",
       "      <td>...</td>\n",
       "      <td>NaN</td>\n",
       "      <td>NaN</td>\n",
       "      <td>NaN</td>\n",
       "      <td>NaN</td>\n",
       "      <td>Angular;Angular.js;React.js</td>\n",
       "      <td>NaN</td>\n",
       "      <td>NaN</td>\n",
       "      <td>NaN</td>\n",
       "      <td>NaN</td>\n",
       "      <td>NaN</td>\n",
       "    </tr>\n",
       "    <tr>\n",
       "      <th>65112</th>\n",
       "      <td>NaN</td>\n",
       "      <td>Yes</td>\n",
       "      <td>NaN</td>\n",
       "      <td>NaN</td>\n",
       "      <td>NaN</td>\n",
       "      <td>NaN</td>\n",
       "      <td>NaN</td>\n",
       "      <td>Spain</td>\n",
       "      <td>NaN</td>\n",
       "      <td>NaN</td>\n",
       "      <td>...</td>\n",
       "      <td>NaN</td>\n",
       "      <td>NaN</td>\n",
       "      <td>NaN</td>\n",
       "      <td>Computer science, computer engineering, or sof...</td>\n",
       "      <td>ASP.NET Core;jQuery</td>\n",
       "      <td>Angular;Angular.js;ASP.NET Core;jQuery</td>\n",
       "      <td>NaN</td>\n",
       "      <td>NaN</td>\n",
       "      <td>NaN</td>\n",
       "      <td>NaN</td>\n",
       "    </tr>\n",
       "  </tbody>\n",
       "</table>\n",
       "<p>64461 rows × 60 columns</p>\n",
       "</div>"
      ],
      "text/plain": [
       "                                        MAINBRANCH IS_HOBBYIST  AGE_IN_YEAR  \\\n",
       "Respondent                                                                    \n",
       "58030       I am a student who is learning to code         Yes        100.0   \n",
       "5950                I am a developer by profession         Yes         99.0   \n",
       "30043       I am a student who is learning to code         Yes         69.0   \n",
       "34677               I am a developer by profession         Yes         65.0   \n",
       "61238               I am a developer by profession          No         60.0   \n",
       "...                                            ...         ...          ...   \n",
       "64567                                          NaN         Yes          NaN   \n",
       "64867                                          NaN         Yes          NaN   \n",
       "64898                                          NaN         Yes          NaN   \n",
       "64925                                          NaN         Yes          NaN   \n",
       "65112                                          NaN         Yes          NaN   \n",
       "\n",
       "           AGE1STCODE COMPFREQ  COMPTOTAL  CONVERTEDCOMP        COUNTRY  \\\n",
       "Respondent                                                                \n",
       "58030              10      NaN        NaN            NaN          India   \n",
       "5950               10  Monthly     2500.0        30000.0    South Korea   \n",
       "30043              10      NaN        NaN            NaN         Poland   \n",
       "34677              10   Yearly   120000.0       120000.0  United States   \n",
       "61238              10   Yearly   175000.0       175000.0  United States   \n",
       "...               ...      ...        ...            ...            ...   \n",
       "64567             NaN      NaN        NaN            NaN    Netherlands   \n",
       "64867             NaN      NaN        NaN            NaN        Morocco   \n",
       "64898             NaN      NaN        NaN            NaN       Viet Nam   \n",
       "64925             NaN      NaN        NaN            NaN         Poland   \n",
       "65112             NaN      NaN        NaN            NaN          Spain   \n",
       "\n",
       "                    CURRENCYDESC CURRENCYSYMBOL  ... SURVEYEASE  \\\n",
       "Respondent                                       ...              \n",
       "58030                        NaN            NaN  ...  Difficult   \n",
       "5950        United States dollar            USD  ...       Easy   \n",
       "30043                        NaN            NaN  ...       Easy   \n",
       "34677       United States dollar            USD  ...       Easy   \n",
       "61238       United States dollar            USD  ...       Easy   \n",
       "...                          ...            ...  ...        ...   \n",
       "64567                        NaN            NaN  ...        NaN   \n",
       "64867                        NaN            NaN  ...        NaN   \n",
       "64898                        NaN            NaN  ...        NaN   \n",
       "64925                        NaN            NaN  ...        NaN   \n",
       "65112                        NaN            NaN  ...        NaN   \n",
       "\n",
       "                     SURVEYLENGTH TRANS  \\\n",
       "Respondent                                \n",
       "58030                    Too long    No   \n",
       "5950        Appropriate in length   NaN   \n",
       "30043       Appropriate in length   Yes   \n",
       "34677       Appropriate in length    No   \n",
       "61238       Appropriate in length    No   \n",
       "...                           ...   ...   \n",
       "64567                         NaN   NaN   \n",
       "64867                         NaN   NaN   \n",
       "64898                         NaN   NaN   \n",
       "64925                         NaN   NaN   \n",
       "65112                         NaN   NaN   \n",
       "\n",
       "                                               UNDERGRADMAJOR  \\\n",
       "Respondent                                                      \n",
       "58030       Computer science, computer engineering, or sof...   \n",
       "5950        Computer science, computer engineering, or sof...   \n",
       "30043                                                     NaN   \n",
       "34677       Computer science, computer engineering, or sof...   \n",
       "61238       Computer science, computer engineering, or sof...   \n",
       "...                                                       ...   \n",
       "64567                                                     NaN   \n",
       "64867                                                     NaN   \n",
       "64898                                                     NaN   \n",
       "64925                                                     NaN   \n",
       "65112       Computer science, computer engineering, or sof...   \n",
       "\n",
       "                 WEBFRAMEDESIRENEXTYEAR  \\\n",
       "Respondent                                \n",
       "58030                               NaN   \n",
       "5950             React.js;Ruby on Rails   \n",
       "30043                      Django;Flask   \n",
       "34677                               NaN   \n",
       "61238                    Laravel;Vue.js   \n",
       "...                                 ...   \n",
       "64567                               NaN   \n",
       "64867                               NaN   \n",
       "64898                               NaN   \n",
       "64925       Angular;Angular.js;React.js   \n",
       "65112               ASP.NET Core;jQuery   \n",
       "\n",
       "                                WEBFRAMEWORKEDWITH  \\\n",
       "Respondent                                           \n",
       "58030                                       jQuery   \n",
       "5950                        React.js;Ruby on Rails   \n",
       "30043                 ASP.NET;Django;Express;Flask   \n",
       "34677                                          NaN   \n",
       "61238                 jQuery;Laravel;Spring;Vue.js   \n",
       "...                                            ...   \n",
       "64567                                 ASP.NET Core   \n",
       "64867                                          NaN   \n",
       "64898                                          NaN   \n",
       "64925                                          NaN   \n",
       "65112       Angular;Angular.js;ASP.NET Core;jQuery   \n",
       "\n",
       "                                      WELCOMECHANGE WORKWEEKHRS  \\\n",
       "Respondent                                                        \n",
       "58030         a lot more welcome now than last year         NaN   \n",
       "5950        just as welcome now as i felt last year        45.0   \n",
       "30043       just as welcome now as i felt last year         NaN   \n",
       "34677         a lot less welcome now than last year        60.0   \n",
       "61238       just as welcome now as i felt last year        55.0   \n",
       "...                                             ...         ...   \n",
       "64567                                           NaN         NaN   \n",
       "64867                                           NaN         NaN   \n",
       "64898                                           NaN         NaN   \n",
       "64925                                           NaN         NaN   \n",
       "65112                                           NaN         NaN   \n",
       "\n",
       "                     YEARSCODE        YEARSCODEPRO  \n",
       "Respondent                                          \n",
       "58030                        6                 NaN  \n",
       "5950                        15                   8  \n",
       "30043                        2                 NaN  \n",
       "34677       More than 50 years  More than 50 years  \n",
       "61238                       45                  37  \n",
       "...                        ...                 ...  \n",
       "64567                      NaN                 NaN  \n",
       "64867                      NaN                 NaN  \n",
       "64898                      NaN                 NaN  \n",
       "64925                      NaN                 NaN  \n",
       "65112                      NaN                 NaN  \n",
       "\n",
       "[64461 rows x 60 columns]"
      ]
     },
     "execution_count": 53,
     "metadata": {},
     "output_type": "execute_result"
    }
   ],
   "source": [
    "df.sort_values(by=['AGE1STCODE','AGE_IN_YEAR'],ascending=[True,False])\n"
   ]
  },
  {
   "cell_type": "code",
   "execution_count": 54,
   "metadata": {},
   "outputs": [
    {
     "data": {
      "text/html": [
       "<div>\n",
       "<style scoped>\n",
       "    .dataframe tbody tr th:only-of-type {\n",
       "        vertical-align: middle;\n",
       "    }\n",
       "\n",
       "    .dataframe tbody tr th {\n",
       "        vertical-align: top;\n",
       "    }\n",
       "\n",
       "    .dataframe thead th {\n",
       "        text-align: right;\n",
       "    }\n",
       "</style>\n",
       "<table border=\"1\" class=\"dataframe\">\n",
       "  <thead>\n",
       "    <tr style=\"text-align: right;\">\n",
       "      <th></th>\n",
       "      <th>COUNTRY</th>\n",
       "      <th>CONVERTEDCOMP</th>\n",
       "    </tr>\n",
       "    <tr>\n",
       "      <th>Respondent</th>\n",
       "      <th></th>\n",
       "      <th></th>\n",
       "    </tr>\n",
       "  </thead>\n",
       "  <tbody>\n",
       "    <tr>\n",
       "      <th>1</th>\n",
       "      <td>AFGANISTAN</td>\n",
       "      <td>NaN</td>\n",
       "    </tr>\n",
       "    <tr>\n",
       "      <th>62788</th>\n",
       "      <td>Afghanistan</td>\n",
       "      <td>1000000.0</td>\n",
       "    </tr>\n",
       "    <tr>\n",
       "      <th>65381</th>\n",
       "      <td>Afghanistan</td>\n",
       "      <td>1000000.0</td>\n",
       "    </tr>\n",
       "    <tr>\n",
       "      <th>65456</th>\n",
       "      <td>Afghanistan</td>\n",
       "      <td>1000000.0</td>\n",
       "    </tr>\n",
       "    <tr>\n",
       "      <th>38672</th>\n",
       "      <td>Afghanistan</td>\n",
       "      <td>231192.0</td>\n",
       "    </tr>\n",
       "    <tr>\n",
       "      <th>...</th>\n",
       "      <td>...</td>\n",
       "      <td>...</td>\n",
       "    </tr>\n",
       "    <tr>\n",
       "      <th>28900</th>\n",
       "      <td>Albania</td>\n",
       "      <td>15900.0</td>\n",
       "    </tr>\n",
       "    <tr>\n",
       "      <th>51520</th>\n",
       "      <td>Albania</td>\n",
       "      <td>15900.0</td>\n",
       "    </tr>\n",
       "    <tr>\n",
       "      <th>23498</th>\n",
       "      <td>Albania</td>\n",
       "      <td>13776.0</td>\n",
       "    </tr>\n",
       "    <tr>\n",
       "      <th>37526</th>\n",
       "      <td>Albania</td>\n",
       "      <td>12972.0</td>\n",
       "    </tr>\n",
       "    <tr>\n",
       "      <th>564</th>\n",
       "      <td>Albania</td>\n",
       "      <td>10812.0</td>\n",
       "    </tr>\n",
       "  </tbody>\n",
       "</table>\n",
       "<p>100 rows × 2 columns</p>\n",
       "</div>"
      ],
      "text/plain": [
       "                COUNTRY  CONVERTEDCOMP\n",
       "Respondent                            \n",
       "1            AFGANISTAN            NaN\n",
       "62788       Afghanistan      1000000.0\n",
       "65381       Afghanistan      1000000.0\n",
       "65456       Afghanistan      1000000.0\n",
       "38672       Afghanistan       231192.0\n",
       "...                 ...            ...\n",
       "28900           Albania        15900.0\n",
       "51520           Albania        15900.0\n",
       "23498           Albania        13776.0\n",
       "37526           Albania        12972.0\n",
       "564             Albania        10812.0\n",
       "\n",
       "[100 rows x 2 columns]"
      ]
     },
     "execution_count": 54,
     "metadata": {},
     "output_type": "execute_result"
    }
   ],
   "source": [
    "df.sort_values(by=['COUNTRY','CONVERTEDCOMP'],ascending=[True,False])[['COUNTRY','CONVERTEDCOMP']].head(100)"
   ]
  },
  {
   "cell_type": "code",
   "execution_count": 55,
   "metadata": {},
   "outputs": [
    {
     "data": {
      "text/plain": [
       "Respondent\n",
       "123      2000000.0\n",
       "125      2000000.0\n",
       "193      2000000.0\n",
       "665      2000000.0\n",
       "699      2000000.0\n",
       "           ...    \n",
       "33745    2000000.0\n",
       "33787    2000000.0\n",
       "33865    2000000.0\n",
       "33886    2000000.0\n",
       "34610    2000000.0\n",
       "Name: CONVERTEDCOMP, Length: 150, dtype: float64"
      ]
     },
     "execution_count": 55,
     "metadata": {},
     "output_type": "execute_result"
    }
   ],
   "source": [
    "# nlargest salary\n",
    "df['CONVERTEDCOMP'].nlargest(150)"
   ]
  },
  {
   "cell_type": "code",
   "execution_count": null,
   "metadata": {},
   "outputs": [],
   "source": []
  },
  {
   "cell_type": "markdown",
   "metadata": {},
   "source": [
    "## Basic Analysis"
   ]
  },
  {
   "cell_type": "code",
   "execution_count": 56,
   "metadata": {},
   "outputs": [
    {
     "data": {
      "text/plain": [
       "Index(['MAINBRANCH', 'IS_HOBBYIST', 'AGE_IN_YEAR', 'AGE1STCODE', 'COMPFREQ',\n",
       "       'COMPTOTAL', 'CONVERTEDCOMP', 'COUNTRY', 'CURRENCYDESC',\n",
       "       'CURRENCYSYMBOL', 'DATABASEDESIRENEXTYEAR', 'DATABASEWORKEDWITH',\n",
       "       'DEVTYPE', 'EDLEVEL', 'EMPLOYMENT', 'ETHNICITY', 'GENDER', 'JOBFACTORS',\n",
       "       'JOBSAT', 'JOBSEEK', 'LANGUAGEDESIRENEXTYEAR', 'LANGUAGEWORKEDWITH',\n",
       "       'MISCTECHDESIRENEXTYEAR', 'MISCTECHWORKEDWITH',\n",
       "       'NEWCOLLABTOOLSDESIRENEXTYEAR', 'NEWCOLLABTOOLSWORKEDWITH', 'NEWDEVOPS',\n",
       "       'NEWDEVOPSIMPT', 'NEWEDIMPT', 'NEWJOBHUNT', 'NEWJOBHUNTRESEARCH',\n",
       "       'NEWLEARN', 'NEWOFFTOPIC', 'NEWONBOARDGOOD', 'NEWOTHERCOMMS',\n",
       "       'NEWOVERTIME', 'NEWPURCHASERESEARCH', 'NEWPURPLELINK', 'NEWSOSITES',\n",
       "       'NEWSTUCK', 'OPSYS', 'ORGSIZE', 'PLATFORMDESIRENEXTYEAR',\n",
       "       'PLATFORMWORKEDWITH', 'PURCHASEWHAT', 'SEXUALITY', 'SOACCOUNT',\n",
       "       'SOCOMM', 'SOPARTFREQ', 'SOVISITFREQ', 'SURVEYEASE', 'SURVEYLENGTH',\n",
       "       'TRANS', 'UNDERGRADMAJOR', 'WEBFRAMEDESIRENEXTYEAR',\n",
       "       'WEBFRAMEWORKEDWITH', 'WELCOMECHANGE', 'WORKWEEKHRS', 'YEARSCODE',\n",
       "       'YEARSCODEPRO'],\n",
       "      dtype='object')"
      ]
     },
     "execution_count": 56,
     "metadata": {},
     "output_type": "execute_result"
    }
   ],
   "source": [
    "df.columns"
   ]
  },
  {
   "cell_type": "code",
   "execution_count": 57,
   "metadata": {},
   "outputs": [],
   "source": [
    "df.rename(columns={'CONVERTEDCOMP' : 'salary'},inplace=True)"
   ]
  },
  {
   "cell_type": "code",
   "execution_count": 58,
   "metadata": {},
   "outputs": [
    {
     "data": {
      "text/plain": [
       "54049.0"
      ]
     },
     "execution_count": 58,
     "metadata": {},
     "output_type": "execute_result"
    }
   ],
   "source": [
    "#Median Salary, Ignores NaN\n",
    "df['salary'].median()"
   ]
  },
  {
   "cell_type": "code",
   "execution_count": 59,
   "metadata": {},
   "outputs": [
    {
     "data": {
      "text/plain": [
       "AGE_IN_YEAR       29.0\n",
       "COMPTOTAL      63000.0\n",
       "salary         54049.0\n",
       "WORKWEEKHRS       40.0\n",
       "dtype: float64"
      ]
     },
     "execution_count": 59,
     "metadata": {},
     "output_type": "execute_result"
    }
   ],
   "source": [
    "#getting median for all numeric columns in DF\n",
    "df.median()"
   ]
  },
  {
   "cell_type": "code",
   "execution_count": 60,
   "metadata": {},
   "outputs": [
    {
     "data": {
      "text/html": [
       "<div>\n",
       "<style scoped>\n",
       "    .dataframe tbody tr th:only-of-type {\n",
       "        vertical-align: middle;\n",
       "    }\n",
       "\n",
       "    .dataframe tbody tr th {\n",
       "        vertical-align: top;\n",
       "    }\n",
       "\n",
       "    .dataframe thead th {\n",
       "        text-align: right;\n",
       "    }\n",
       "</style>\n",
       "<table border=\"1\" class=\"dataframe\">\n",
       "  <thead>\n",
       "    <tr style=\"text-align: right;\">\n",
       "      <th></th>\n",
       "      <th>AGE_IN_YEAR</th>\n",
       "      <th>COMPTOTAL</th>\n",
       "      <th>salary</th>\n",
       "      <th>WORKWEEKHRS</th>\n",
       "    </tr>\n",
       "  </thead>\n",
       "  <tbody>\n",
       "    <tr>\n",
       "      <th>count</th>\n",
       "      <td>45447.000000</td>\n",
       "      <td>3.482600e+04</td>\n",
       "      <td>3.475600e+04</td>\n",
       "      <td>41151.000000</td>\n",
       "    </tr>\n",
       "    <tr>\n",
       "      <th>mean</th>\n",
       "      <td>30.931855</td>\n",
       "      <td>3.190464e+242</td>\n",
       "      <td>1.037561e+05</td>\n",
       "      <td>40.782174</td>\n",
       "    </tr>\n",
       "    <tr>\n",
       "      <th>std</th>\n",
       "      <td>9.541354</td>\n",
       "      <td>inf</td>\n",
       "      <td>2.268853e+05</td>\n",
       "      <td>17.816383</td>\n",
       "    </tr>\n",
       "    <tr>\n",
       "      <th>min</th>\n",
       "      <td>1.000000</td>\n",
       "      <td>0.000000e+00</td>\n",
       "      <td>0.000000e+00</td>\n",
       "      <td>1.000000</td>\n",
       "    </tr>\n",
       "    <tr>\n",
       "      <th>25%</th>\n",
       "      <td>24.000000</td>\n",
       "      <td>2.000000e+04</td>\n",
       "      <td>2.464800e+04</td>\n",
       "      <td>40.000000</td>\n",
       "    </tr>\n",
       "    <tr>\n",
       "      <th>50%</th>\n",
       "      <td>29.000000</td>\n",
       "      <td>6.300000e+04</td>\n",
       "      <td>5.404900e+04</td>\n",
       "      <td>40.000000</td>\n",
       "    </tr>\n",
       "    <tr>\n",
       "      <th>75%</th>\n",
       "      <td>35.000000</td>\n",
       "      <td>1.250000e+05</td>\n",
       "      <td>9.500000e+04</td>\n",
       "      <td>44.000000</td>\n",
       "    </tr>\n",
       "    <tr>\n",
       "      <th>max</th>\n",
       "      <td>279.000000</td>\n",
       "      <td>1.111111e+247</td>\n",
       "      <td>2.000000e+06</td>\n",
       "      <td>475.000000</td>\n",
       "    </tr>\n",
       "  </tbody>\n",
       "</table>\n",
       "</div>"
      ],
      "text/plain": [
       "        AGE_IN_YEAR      COMPTOTAL        salary   WORKWEEKHRS\n",
       "count  45447.000000   3.482600e+04  3.475600e+04  41151.000000\n",
       "mean      30.931855  3.190464e+242  1.037561e+05     40.782174\n",
       "std        9.541354            inf  2.268853e+05     17.816383\n",
       "min        1.000000   0.000000e+00  0.000000e+00      1.000000\n",
       "25%       24.000000   2.000000e+04  2.464800e+04     40.000000\n",
       "50%       29.000000   6.300000e+04  5.404900e+04     40.000000\n",
       "75%       35.000000   1.250000e+05  9.500000e+04     44.000000\n",
       "max      279.000000  1.111111e+247  2.000000e+06    475.000000"
      ]
     },
     "execution_count": 60,
     "metadata": {},
     "output_type": "execute_result"
    }
   ],
   "source": [
    "df.describe()"
   ]
  },
  {
   "cell_type": "code",
   "execution_count": 61,
   "metadata": {},
   "outputs": [
    {
     "data": {
      "text/plain": [
       "Man                                                            46013\n",
       "Woman                                                           3844\n",
       "Non-binary, genderqueer, or gender non-conforming                385\n",
       "Man;Non-binary, genderqueer, or gender non-conforming            121\n",
       "Woman;Non-binary, genderqueer, or gender non-conforming           92\n",
       "Woman;Man                                                         76\n",
       "Woman;Man;Non-binary, genderqueer, or gender non-conforming       26\n",
       "Name: GENDER, dtype: int64"
      ]
     },
     "execution_count": 61,
     "metadata": {},
     "output_type": "execute_result"
    }
   ],
   "source": [
    "df['GENDER'].value_counts()"
   ]
  },
  {
   "cell_type": "code",
   "execution_count": 62,
   "metadata": {},
   "outputs": [
    {
     "data": {
      "text/plain": [
       "Man                                                            91.012125\n",
       "Woman                                                           7.603299\n",
       "Non-binary, genderqueer, or gender non-conforming               0.761517\n",
       "Man;Non-binary, genderqueer, or gender non-conforming           0.239334\n",
       "Woman;Non-binary, genderqueer, or gender non-conforming         0.181973\n",
       "Woman;Man                                                       0.150325\n",
       "Woman;Man;Non-binary, genderqueer, or gender non-conforming     0.051427\n",
       "Name: GENDER, dtype: float64"
      ]
     },
     "execution_count": 62,
     "metadata": {},
     "output_type": "execute_result"
    }
   ],
   "source": [
    "#in % form\n",
    "df['GENDER'].value_counts(normalize=True) * 100"
   ]
  },
  {
   "cell_type": "code",
   "execution_count": 63,
   "metadata": {},
   "outputs": [
    {
     "data": {
      "text/plain": [
       "United States       19.460919\n",
       "India               13.114933\n",
       "United Kingdom       6.080659\n",
       "Germany              6.069734\n",
       "Canada               3.419590\n",
       "                      ...    \n",
       "Marshall Islands     0.001561\n",
       "North Korea          0.001561\n",
       "Saint Lucia          0.001561\n",
       "Gabon                0.001561\n",
       "Mali                 0.001561\n",
       "Name: COUNTRY, Length: 184, dtype: float64"
      ]
     },
     "execution_count": 63,
     "metadata": {},
     "output_type": "execute_result"
    }
   ],
   "source": [
    "df['COUNTRY'].value_counts(normalize=True) * 100"
   ]
  },
  {
   "cell_type": "markdown",
   "metadata": {},
   "source": [
    "`GROUP BY`"
   ]
  },
  {
   "cell_type": "code",
   "execution_count": 64,
   "metadata": {},
   "outputs": [],
   "source": [
    "byCountry : pd.core.groupby.generic.DataFrameGroupBy = df.groupby(['COUNTRY'])"
   ]
  },
  {
   "cell_type": "code",
   "execution_count": 65,
   "metadata": {},
   "outputs": [
    {
     "data": {
      "text/plain": [
       "COUNTRY      IS_HOBBYIST\n",
       "AFGANISTAN   Yes             1\n",
       "Afghanistan  Yes            64\n",
       "             No             20\n",
       "Albania      Yes            44\n",
       "             No             10\n",
       "                            ..\n",
       "Yemen        No              1\n",
       "Zambia       Yes            14\n",
       "             No              7\n",
       "Zimbabwe     Yes            23\n",
       "             No              8\n",
       "Name: IS_HOBBYIST, Length: 334, dtype: int64"
      ]
     },
     "execution_count": 65,
     "metadata": {},
     "output_type": "execute_result"
    }
   ],
   "source": [
    "byCountry['IS_HOBBYIST'].value_counts()"
   ]
  },
  {
   "cell_type": "code",
   "execution_count": 66,
   "metadata": {},
   "outputs": [
    {
     "data": {
      "text/plain": [
       "IS_HOBBYIST\n",
       "Yes    6645\n",
       "No     1758\n",
       "Name: IS_HOBBYIST, dtype: int64"
      ]
     },
     "execution_count": 66,
     "metadata": {},
     "output_type": "execute_result"
    }
   ],
   "source": [
    "byCountry['IS_HOBBYIST'].value_counts().loc['India']"
   ]
  },
  {
   "cell_type": "code",
   "execution_count": 67,
   "metadata": {},
   "outputs": [
    {
     "data": {
      "text/plain": [
       "COUNTRY        IS_HOBBYIST\n",
       "India          Yes            6645\n",
       "               No             1758\n",
       "United States  Yes            9718\n",
       "               No             2751\n",
       "Name: IS_HOBBYIST, dtype: int64"
      ]
     },
     "execution_count": 67,
     "metadata": {},
     "output_type": "execute_result"
    }
   ],
   "source": [
    "byCountry['IS_HOBBYIST'].value_counts().loc[['India','United States']]"
   ]
  },
  {
   "cell_type": "code",
   "execution_count": 68,
   "metadata": {},
   "outputs": [
    {
     "data": {
      "text/plain": [
       "COUNTRY\n",
       "India             10056.0\n",
       "United States    115000.0\n",
       "Germany           62697.0\n",
       "Name: salary, dtype: float64"
      ]
     },
     "execution_count": 68,
     "metadata": {},
     "output_type": "execute_result"
    }
   ],
   "source": [
    "byCountry['salary'].median().loc[['India','United States','Germany']]"
   ]
  },
  {
   "cell_type": "code",
   "execution_count": 69,
   "metadata": {},
   "outputs": [
    {
     "data": {
      "text/html": [
       "<div>\n",
       "<style scoped>\n",
       "    .dataframe tbody tr th:only-of-type {\n",
       "        vertical-align: middle;\n",
       "    }\n",
       "\n",
       "    .dataframe tbody tr th {\n",
       "        vertical-align: top;\n",
       "    }\n",
       "\n",
       "    .dataframe thead th {\n",
       "        text-align: right;\n",
       "    }\n",
       "</style>\n",
       "<table border=\"1\" class=\"dataframe\">\n",
       "  <thead>\n",
       "    <tr style=\"text-align: right;\">\n",
       "      <th></th>\n",
       "      <th>mean</th>\n",
       "      <th>median</th>\n",
       "      <th>std</th>\n",
       "    </tr>\n",
       "    <tr>\n",
       "      <th>COUNTRY</th>\n",
       "      <th></th>\n",
       "      <th></th>\n",
       "      <th></th>\n",
       "    </tr>\n",
       "  </thead>\n",
       "  <tbody>\n",
       "    <tr>\n",
       "      <th>India</th>\n",
       "      <td>28751.271364</td>\n",
       "      <td>10056.0</td>\n",
       "      <td>93017.527192</td>\n",
       "    </tr>\n",
       "    <tr>\n",
       "      <th>United States</th>\n",
       "      <td>208826.496443</td>\n",
       "      <td>115000.0</td>\n",
       "      <td>372924.964876</td>\n",
       "    </tr>\n",
       "    <tr>\n",
       "      <th>Germany</th>\n",
       "      <td>92508.647339</td>\n",
       "      <td>62697.0</td>\n",
       "      <td>144504.523953</td>\n",
       "    </tr>\n",
       "  </tbody>\n",
       "</table>\n",
       "</div>"
      ],
      "text/plain": [
       "                        mean    median            std\n",
       "COUNTRY                                              \n",
       "India           28751.271364   10056.0   93017.527192\n",
       "United States  208826.496443  115000.0  372924.964876\n",
       "Germany         92508.647339   62697.0  144504.523953"
      ]
     },
     "execution_count": 69,
     "metadata": {},
     "output_type": "execute_result"
    }
   ],
   "source": [
    "byCountry['salary'].agg(['mean','median','std']).loc[['India','United States','Germany']]"
   ]
  },
  {
   "cell_type": "markdown",
   "metadata": {},
   "source": [
    "#### `KNOWS PYTHON AND COUNTRY WISE PERCENTAGE`"
   ]
  },
  {
   "cell_type": "code",
   "execution_count": 70,
   "metadata": {},
   "outputs": [],
   "source": [
    "country_uses_python = byCountry['LANGUAGEWORKEDWITH'].apply(lambda series: series.str.contains('Python').sum())"
   ]
  },
  {
   "cell_type": "code",
   "execution_count": 71,
   "metadata": {},
   "outputs": [],
   "source": [
    "num_res = df['COUNTRY'].value_counts()"
   ]
  },
  {
   "cell_type": "code",
   "execution_count": 72,
   "metadata": {},
   "outputs": [
    {
     "data": {
      "text/plain": [
       "United States       12469\n",
       "India                8403\n",
       "United Kingdom       3896\n",
       "Germany              3889\n",
       "Canada               2191\n",
       "                    ...  \n",
       "Marshall Islands        1\n",
       "North Korea             1\n",
       "Saint Lucia             1\n",
       "Gabon                   1\n",
       "Mali                    1\n",
       "Name: COUNTRY, Length: 184, dtype: int64"
      ]
     },
     "execution_count": 72,
     "metadata": {},
     "output_type": "execute_result"
    }
   ],
   "source": [
    "num_res\n"
   ]
  },
  {
   "cell_type": "code",
   "execution_count": 73,
   "metadata": {},
   "outputs": [],
   "source": [
    "knowsPython = pd.concat([num_res,country_uses_python],axis='columns',sort=False)"
   ]
  },
  {
   "cell_type": "code",
   "execution_count": 74,
   "metadata": {},
   "outputs": [
    {
     "data": {
      "text/html": [
       "<div>\n",
       "<style scoped>\n",
       "    .dataframe tbody tr th:only-of-type {\n",
       "        vertical-align: middle;\n",
       "    }\n",
       "\n",
       "    .dataframe tbody tr th {\n",
       "        vertical-align: top;\n",
       "    }\n",
       "\n",
       "    .dataframe thead th {\n",
       "        text-align: right;\n",
       "    }\n",
       "</style>\n",
       "<table border=\"1\" class=\"dataframe\">\n",
       "  <thead>\n",
       "    <tr style=\"text-align: right;\">\n",
       "      <th></th>\n",
       "      <th>COUNTRY</th>\n",
       "      <th>LANGUAGEWORKEDWITH</th>\n",
       "    </tr>\n",
       "  </thead>\n",
       "  <tbody>\n",
       "    <tr>\n",
       "      <th>United States</th>\n",
       "      <td>12469</td>\n",
       "      <td>5964</td>\n",
       "    </tr>\n",
       "    <tr>\n",
       "      <th>India</th>\n",
       "      <td>8403</td>\n",
       "      <td>2670</td>\n",
       "    </tr>\n",
       "    <tr>\n",
       "      <th>United Kingdom</th>\n",
       "      <td>3896</td>\n",
       "      <td>1621</td>\n",
       "    </tr>\n",
       "    <tr>\n",
       "      <th>Germany</th>\n",
       "      <td>3889</td>\n",
       "      <td>1712</td>\n",
       "    </tr>\n",
       "    <tr>\n",
       "      <th>Canada</th>\n",
       "      <td>2191</td>\n",
       "      <td>1011</td>\n",
       "    </tr>\n",
       "    <tr>\n",
       "      <th>...</th>\n",
       "      <td>...</td>\n",
       "      <td>...</td>\n",
       "    </tr>\n",
       "    <tr>\n",
       "      <th>Marshall Islands</th>\n",
       "      <td>1</td>\n",
       "      <td>0</td>\n",
       "    </tr>\n",
       "    <tr>\n",
       "      <th>North Korea</th>\n",
       "      <td>1</td>\n",
       "      <td>0</td>\n",
       "    </tr>\n",
       "    <tr>\n",
       "      <th>Saint Lucia</th>\n",
       "      <td>1</td>\n",
       "      <td>1</td>\n",
       "    </tr>\n",
       "    <tr>\n",
       "      <th>Gabon</th>\n",
       "      <td>1</td>\n",
       "      <td>1</td>\n",
       "    </tr>\n",
       "    <tr>\n",
       "      <th>Mali</th>\n",
       "      <td>1</td>\n",
       "      <td>0</td>\n",
       "    </tr>\n",
       "  </tbody>\n",
       "</table>\n",
       "<p>184 rows × 2 columns</p>\n",
       "</div>"
      ],
      "text/plain": [
       "                  COUNTRY  LANGUAGEWORKEDWITH\n",
       "United States       12469                5964\n",
       "India                8403                2670\n",
       "United Kingdom       3896                1621\n",
       "Germany              3889                1712\n",
       "Canada               2191                1011\n",
       "...                   ...                 ...\n",
       "Marshall Islands        1                   0\n",
       "North Korea             1                   0\n",
       "Saint Lucia             1                   1\n",
       "Gabon                   1                   1\n",
       "Mali                    1                   0\n",
       "\n",
       "[184 rows x 2 columns]"
      ]
     },
     "execution_count": 74,
     "metadata": {},
     "output_type": "execute_result"
    }
   ],
   "source": [
    "knowsPython"
   ]
  },
  {
   "cell_type": "code",
   "execution_count": 75,
   "metadata": {},
   "outputs": [],
   "source": [
    "knowsPython['percentage'] = knowsPython['LANGUAGEWORKEDWITH']/knowsPython['COUNTRY']"
   ]
  },
  {
   "cell_type": "code",
   "execution_count": 76,
   "metadata": {},
   "outputs": [
    {
     "data": {
      "text/html": [
       "<div>\n",
       "<style scoped>\n",
       "    .dataframe tbody tr th:only-of-type {\n",
       "        vertical-align: middle;\n",
       "    }\n",
       "\n",
       "    .dataframe tbody tr th {\n",
       "        vertical-align: top;\n",
       "    }\n",
       "\n",
       "    .dataframe thead th {\n",
       "        text-align: right;\n",
       "    }\n",
       "</style>\n",
       "<table border=\"1\" class=\"dataframe\">\n",
       "  <thead>\n",
       "    <tr style=\"text-align: right;\">\n",
       "      <th></th>\n",
       "      <th>total_respondents</th>\n",
       "      <th>knows_python</th>\n",
       "      <th>percentage</th>\n",
       "    </tr>\n",
       "  </thead>\n",
       "  <tbody>\n",
       "    <tr>\n",
       "      <th>United States</th>\n",
       "      <td>12469</td>\n",
       "      <td>5964</td>\n",
       "      <td>0.478306</td>\n",
       "    </tr>\n",
       "    <tr>\n",
       "      <th>India</th>\n",
       "      <td>8403</td>\n",
       "      <td>2670</td>\n",
       "      <td>0.317744</td>\n",
       "    </tr>\n",
       "    <tr>\n",
       "      <th>United Kingdom</th>\n",
       "      <td>3896</td>\n",
       "      <td>1621</td>\n",
       "      <td>0.416068</td>\n",
       "    </tr>\n",
       "    <tr>\n",
       "      <th>Germany</th>\n",
       "      <td>3889</td>\n",
       "      <td>1712</td>\n",
       "      <td>0.440216</td>\n",
       "    </tr>\n",
       "    <tr>\n",
       "      <th>Canada</th>\n",
       "      <td>2191</td>\n",
       "      <td>1011</td>\n",
       "      <td>0.461433</td>\n",
       "    </tr>\n",
       "    <tr>\n",
       "      <th>...</th>\n",
       "      <td>...</td>\n",
       "      <td>...</td>\n",
       "      <td>...</td>\n",
       "    </tr>\n",
       "    <tr>\n",
       "      <th>Marshall Islands</th>\n",
       "      <td>1</td>\n",
       "      <td>0</td>\n",
       "      <td>0.000000</td>\n",
       "    </tr>\n",
       "    <tr>\n",
       "      <th>North Korea</th>\n",
       "      <td>1</td>\n",
       "      <td>0</td>\n",
       "      <td>0.000000</td>\n",
       "    </tr>\n",
       "    <tr>\n",
       "      <th>Saint Lucia</th>\n",
       "      <td>1</td>\n",
       "      <td>1</td>\n",
       "      <td>1.000000</td>\n",
       "    </tr>\n",
       "    <tr>\n",
       "      <th>Gabon</th>\n",
       "      <td>1</td>\n",
       "      <td>1</td>\n",
       "      <td>1.000000</td>\n",
       "    </tr>\n",
       "    <tr>\n",
       "      <th>Mali</th>\n",
       "      <td>1</td>\n",
       "      <td>0</td>\n",
       "      <td>0.000000</td>\n",
       "    </tr>\n",
       "  </tbody>\n",
       "</table>\n",
       "<p>184 rows × 3 columns</p>\n",
       "</div>"
      ],
      "text/plain": [
       "                  total_respondents  knows_python  percentage\n",
       "United States                 12469          5964    0.478306\n",
       "India                          8403          2670    0.317744\n",
       "United Kingdom                 3896          1621    0.416068\n",
       "Germany                        3889          1712    0.440216\n",
       "Canada                         2191          1011    0.461433\n",
       "...                             ...           ...         ...\n",
       "Marshall Islands                  1             0    0.000000\n",
       "North Korea                       1             0    0.000000\n",
       "Saint Lucia                       1             1    1.000000\n",
       "Gabon                             1             1    1.000000\n",
       "Mali                              1             0    0.000000\n",
       "\n",
       "[184 rows x 3 columns]"
      ]
     },
     "execution_count": 76,
     "metadata": {},
     "output_type": "execute_result"
    }
   ],
   "source": [
    "knowsPython.rename(columns={'COUNTRY' : 'total_respondents',\n",
    "                           'LANGUAGEWORKEDWITH':'knows_python'\n",
    "                           }\n",
    "                  )"
   ]
  },
  {
   "cell_type": "markdown",
   "metadata": {},
   "source": [
    "`Shortcut`"
   ]
  },
  {
   "cell_type": "code",
   "execution_count": 77,
   "metadata": {},
   "outputs": [],
   "source": [
    "countery_python_percentage = byCountry['LANGUAGEWORKEDWITH'].apply(lambda series: (series.str.contains('Python').sum()/len(series)) *100 ).sort_values(ascending=False)"
   ]
  },
  {
   "cell_type": "code",
   "execution_count": 78,
   "metadata": {},
   "outputs": [
    {
     "data": {
      "text/plain": [
       "COUNTRY\n",
       "Saint Lucia                             100.000000\n",
       "Gabon                                   100.000000\n",
       "Micronesia, Federated States of...      100.000000\n",
       "Montenegro                               69.230769\n",
       "Brunei Darussalam                        66.666667\n",
       "Guyana                                   60.000000\n",
       "Swaziland                                57.142857\n",
       "Iceland                                  52.830189\n",
       "Finland                                  52.435530\n",
       "Uganda                                   51.851852\n",
       "Mauritania                               50.000000\n",
       "Timor-Leste                              50.000000\n",
       "Burkina Faso                             50.000000\n",
       "Belize                                   50.000000\n",
       "Jamaica                                  50.000000\n",
       "Solomon Islands                          50.000000\n",
       "Papua New Guinea                         50.000000\n",
       "Cameroon                                 48.000000\n",
       "United States                            47.830620\n",
       "Israel                                   47.013783\n",
       "Ecuador                                  46.938776\n",
       "Taiwan                                   46.202532\n",
       "Canada                                   46.143314\n",
       "Oman                                     45.454545\n",
       "Estonia                                  44.827586\n",
       "Ireland                                  44.819820\n",
       "Japan                                    44.444444\n",
       "Switzerland                              44.197138\n",
       "Germany                                  44.021599\n",
       "France                                   43.888303\n",
       "Costa Rica                               43.421053\n",
       "Singapore                                43.421053\n",
       "Australia                                43.377483\n",
       "Trinidad and Tobago                      42.857143\n",
       "Democratic Republic of the Congo         42.857143\n",
       "Lao People's Democratic Republic         42.857143\n",
       "China                                    42.587601\n",
       "Peru                                     42.574257\n",
       "Malta                                    42.553191\n",
       "Algeria                                  42.553191\n",
       "Zimbabwe                                 41.935484\n",
       "Norway                                   41.666667\n",
       "New Zealand                              41.643059\n",
       "United Kingdom                           41.606776\n",
       "Hong Kong (S.A.R.)                       41.441441\n",
       "Venezuela, Bolivarian Republic of...     41.428571\n",
       "Slovenia                                 41.401274\n",
       "Kenya                                    40.959410\n",
       "Netherlands                              40.506329\n",
       "Qatar                                    40.000000\n",
       "Name: LANGUAGEWORKEDWITH, dtype: float64"
      ]
     },
     "execution_count": 78,
     "metadata": {},
     "output_type": "execute_result"
    }
   ],
   "source": [
    "countery_python_percentage.head(50)"
   ]
  },
  {
   "cell_type": "code",
   "execution_count": 79,
   "metadata": {},
   "outputs": [
    {
     "data": {
      "text/plain": [
       "COUNTRY\n",
       "India      31.774366\n",
       "China      42.587601\n",
       "Germany    44.021599\n",
       "Name: LANGUAGEWORKEDWITH, dtype: float64"
      ]
     },
     "execution_count": 79,
     "metadata": {},
     "output_type": "execute_result"
    }
   ],
   "source": [
    "countery_python_percentage.loc[['India','China','Germany']]"
   ]
  },
  {
   "cell_type": "code",
   "execution_count": 81,
   "metadata": {},
   "outputs": [
    {
     "data": {
      "text/plain": [
       "dtype('O')"
      ]
     },
     "execution_count": 81,
     "metadata": {},
     "output_type": "execute_result"
    }
   ],
   "source": [
    "\n",
    "#Finding mean age of coders, but mean works with only numeric data types, currently its a string\n",
    "df['YEARSCODE'].dtype"
   ]
  },
  {
   "cell_type": "code",
   "execution_count": 88,
   "metadata": {},
   "outputs": [
    {
     "data": {
      "text/plain": [
       "array([36. ,  7. ,  4. , 15. ,  6. , 17. ,  8. , 10. , 35. ,  5. , 37. ,\n",
       "       19. ,  9. , 22. , 30. , 23. , 20. ,  2. ,  0.5,  3. , 13. , 25. ,\n",
       "       16. , 43. , 11. , 38. , 33. ,  nan, 24. , 21. , 12. , 40. , 27. ,\n",
       "       50. , 46. , 14. , 18. , 28. , 32. , 44. , 26. , 42. , 31. , 34. ,\n",
       "       29. ,  1. , 39. , 41. , 45. , 55. , 47. , 49. , 48. ])"
      ]
     },
     "execution_count": 88,
     "metadata": {},
     "output_type": "execute_result"
    }
   ],
   "source": [
    "df['YEARSCODE'].unique()"
   ]
  },
  {
   "cell_type": "code",
   "execution_count": 86,
   "metadata": {},
   "outputs": [],
   "source": [
    "#Reason for taking Float instead of Int is, there are some NaN values and NaN is acutally Float.\n",
    "df['YEARSCODE'].replace('Less than 1 year',0.5,inplace = True)\n",
    "df['YEARSCODE'].replace('More than 50 years',55,inplace = True)\n",
    "\n",
    "df['YEARSCODE'] = df['YEARSCODE'].astype(float)"
   ]
  },
  {
   "cell_type": "code",
   "execution_count": 87,
   "metadata": {},
   "outputs": [
    {
     "data": {
      "text/plain": [
       "12.7255304763886"
      ]
     },
     "execution_count": 87,
     "metadata": {},
     "output_type": "execute_result"
    }
   ],
   "source": [
    "df['YEARSCODE'].mean()"
   ]
  },
  {
   "cell_type": "code",
   "execution_count": null,
   "metadata": {},
   "outputs": [],
   "source": []
  }
 ],
 "metadata": {
  "kernelspec": {
   "display_name": "Python 3",
   "language": "python",
   "name": "python3"
  },
  "language_info": {
   "codemirror_mode": {
    "name": "ipython",
    "version": 3
   },
   "file_extension": ".py",
   "mimetype": "text/x-python",
   "name": "python",
   "nbconvert_exporter": "python",
   "pygments_lexer": "ipython3",
   "version": "3.7.6"
  }
 },
 "nbformat": 4,
 "nbformat_minor": 4
}
