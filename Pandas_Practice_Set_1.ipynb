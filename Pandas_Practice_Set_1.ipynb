{
  "nbformat": 4,
  "nbformat_minor": 0,
  "metadata": {
    "colab": {
      "name": "Pandas Practice Set 1.ipynb",
      "provenance": []
    },
    "kernelspec": {
      "name": "python3",
      "display_name": "Python 3"
    }
  },
  "cells": [
    {
      "cell_type": "code",
      "metadata": {
        "id": "p50_YWHTpjzU",
        "colab_type": "code",
        "colab": {}
      },
      "source": [
        "import numpy as np\n",
        "import pandas as pd\n"
      ],
      "execution_count": 1,
      "outputs": []
    },
    {
      "cell_type": "code",
      "metadata": {
        "id": "SmmlCjADplDy",
        "colab_type": "code",
        "colab": {
          "base_uri": "https://localhost:8080/",
          "height": 36
        },
        "outputId": "bb55985b-b574-42bb-9a2b-4da85c86912e"
      },
      "source": [
        "# How to create a series from a list, numpy array and dict?\n",
        "mylist = list('abcedfghijklmnopqrstuvwxyz')\n",
        "myarr = np.arange(26)\n",
        "mydict = dict(zip(mylist, myarr))\n",
        "\n",
        "pd.Series(mylist)\n",
        "pd.Series(myarr)\n",
        "pd.Series(mydict)\n",
        "print('Done')"
      ],
      "execution_count": 2,
      "outputs": [
        {
          "output_type": "stream",
          "text": [
            "Done\n"
          ],
          "name": "stdout"
        }
      ]
    },
    {
      "cell_type": "code",
      "metadata": {
        "id": "Gx1AWDLUfmuW",
        "colab_type": "code",
        "colab": {
          "base_uri": "https://localhost:8080/",
          "height": 36
        },
        "outputId": "d03956e9-8a6f-4580-b26f-75b29e861545"
      },
      "source": [
        "# How to convert the index of a series into a column of a dataframe?\n",
        "\n",
        "ser = pd.Series(mydict)\n",
        "\n",
        "pd.DataFrame(ser).reset_index()\n",
        "print('Done')\n"
      ],
      "execution_count": 3,
      "outputs": [
        {
          "output_type": "stream",
          "text": [
            "Done\n"
          ],
          "name": "stdout"
        }
      ]
    },
    {
      "cell_type": "code",
      "metadata": {
        "id": "M3GyvMdqf7Tw",
        "colab_type": "code",
        "colab": {
          "base_uri": "https://localhost:8080/",
          "height": 36
        },
        "outputId": "2cd7fbe5-2bc9-4684-d022-bcf39c464a11"
      },
      "source": [
        "# How to combine many series to form a dataframe?\n",
        "\n",
        "ser1 = pd.Series(list('abcedfghijklmnopqrstuvwxyz'))\n",
        "ser2 = pd.Series(np.arange(26))\n",
        "\n",
        "pd.concat([ser1,ser2],axis = 1)\n",
        "print('Done')\n"
      ],
      "execution_count": 4,
      "outputs": [
        {
          "output_type": "stream",
          "text": [
            "Done\n"
          ],
          "name": "stdout"
        }
      ]
    },
    {
      "cell_type": "code",
      "metadata": {
        "id": "aezFCEEphjAK",
        "colab_type": "code",
        "colab": {
          "base_uri": "https://localhost:8080/",
          "height": 36
        },
        "outputId": "26dd2922-748e-46f7-f18d-730bb87f6a89"
      },
      "source": [
        "# How to assign name to the series’ index?\n",
        "ser = pd.Series(list('abcedfghijklmnopqrstuvwxyz'))\n",
        "ser.rename_axis('name')\n",
        "print('Done')"
      ],
      "execution_count": 5,
      "outputs": [
        {
          "output_type": "stream",
          "text": [
            "Done\n"
          ],
          "name": "stdout"
        }
      ]
    },
    {
      "cell_type": "code",
      "metadata": {
        "id": "H35-vG3jmnhV",
        "colab_type": "code",
        "colab": {
          "base_uri": "https://localhost:8080/",
          "height": 92
        },
        "outputId": "9f070681-a244-40cc-a16d-17b3fa47c720"
      },
      "source": [
        "# How to get the items of series A not present in series B?\n",
        "\n",
        "ser1 = pd.Series([1, 2, 3, 4, 5])\n",
        "ser2 = pd.Series([4, 5, 6, 7, 8])\n",
        "\n",
        "ser1[~ser1.isin(ser2)]\n"
      ],
      "execution_count": 6,
      "outputs": [
        {
          "output_type": "execute_result",
          "data": {
            "text/plain": [
              "0    1\n",
              "1    2\n",
              "2    3\n",
              "dtype: int64"
            ]
          },
          "metadata": {
            "tags": []
          },
          "execution_count": 6
        }
      ]
    },
    {
      "cell_type": "code",
      "metadata": {
        "id": "p_fAdtnsn4QU",
        "colab_type": "code",
        "colab": {
          "base_uri": "https://localhost:8080/",
          "height": 148
        },
        "outputId": "73dd48eb-2bb6-4b9e-a39b-41a0c5ccfcc9"
      },
      "source": [
        "# How to get the items not common to both series A and series B?\n",
        "\n",
        "ser1 = pd.Series([1, 2, 3, 4, 5])\n",
        "ser2 = pd.Series([4, 5, 6, 7, 8])\n",
        "\n",
        "ser_u = pd.Series(np.union1d(ser1, ser2))  # union\n",
        "ser_i = pd.Series(np.intersect1d(ser1, ser2))  # intersect\n",
        "ser_u[~ser_u.isin(ser_i)]"
      ],
      "execution_count": 7,
      "outputs": [
        {
          "output_type": "execute_result",
          "data": {
            "text/plain": [
              "0    1\n",
              "1    2\n",
              "2    3\n",
              "5    6\n",
              "6    7\n",
              "7    8\n",
              "dtype: int64"
            ]
          },
          "metadata": {
            "tags": []
          },
          "execution_count": 7
        }
      ]
    },
    {
      "cell_type": "code",
      "metadata": {
        "id": "v9pwXJ4fogX8",
        "colab_type": "code",
        "colab": {
          "base_uri": "https://localhost:8080/",
          "height": 36
        },
        "outputId": "0ac37eba-9e71-4062-c71f-ef607629cc9e"
      },
      "source": [
        "# How to get the minimum, 25th percentile, median, 75th, and max of a numeric series?\n",
        "\n",
        "ser = pd.Series(np.random.normal(10, 5, 25))\n",
        "ser.describe()\n",
        "np.percentile(ser, q=[0, 25, 50, 75, 100])\n"
      ],
      "execution_count": 8,
      "outputs": [
        {
          "output_type": "execute_result",
          "data": {
            "text/plain": [
              "array([ 0.5997425 ,  8.72542316, 10.73401913, 12.91872793, 23.09914846])"
            ]
          },
          "metadata": {
            "tags": []
          },
          "execution_count": 8
        }
      ]
    },
    {
      "cell_type": "code",
      "metadata": {
        "id": "C-adwNruo5yI",
        "colab_type": "code",
        "colab": {
          "base_uri": "https://localhost:8080/",
          "height": 186
        },
        "outputId": "afedc611-52f3-4841-def4-91537c745ab7"
      },
      "source": [
        "# How to get frequency counts of unique items of a series?\n",
        "\n",
        "ser = pd.Series(np.take(list('abcdefgh'), np.random.randint(8, size=30)))\n",
        "ser.value_counts()\n"
      ],
      "execution_count": 9,
      "outputs": [
        {
          "output_type": "execute_result",
          "data": {
            "text/plain": [
              "d    6\n",
              "e    5\n",
              "g    4\n",
              "b    4\n",
              "f    4\n",
              "h    4\n",
              "c    2\n",
              "a    1\n",
              "dtype: int64"
            ]
          },
          "metadata": {
            "tags": []
          },
          "execution_count": 9
        }
      ]
    },
    {
      "cell_type": "code",
      "metadata": {
        "id": "Fb858WBopxmm",
        "colab_type": "code",
        "colab": {}
      },
      "source": [
        "# How to keep only top 2 most frequent values as it is and replace everything else as ‘Other’?\n",
        "\n",
        "ser = pd.Series(np.random.RandomState(100).randint(1, 5, [12]))\n",
        "\n",
        "print(ser.value_counts())\n",
        "\n",
        "topTwo = ser.value_counts().index[:2]\n",
        "\n",
        "print(\"Top 2 Frequent numbers: -> \",topTwo )\n",
        "\n",
        "# getting numbers that are not top two for assigning 'others'\n",
        "ser[~ser.isin(topTwo)] = 'Other'\n",
        "\n",
        "ser"
      ],
      "execution_count": null,
      "outputs": []
    },
    {
      "cell_type": "code",
      "metadata": {
        "id": "JD-GRYjFllO3",
        "colab_type": "code",
        "colab": {
          "base_uri": "https://localhost:8080/",
          "height": 542
        },
        "outputId": "0cde3ebc-203a-49ff-a61e-b22b1792eb5d"
      },
      "source": [
        "# How to bin a numeric series to 10 groups of equal size?\n",
        "ser = pd.Series(np.random.randint(1,100,20))\n",
        "print(ser)\n",
        "pd.qcut(ser, q=[0, .10, .20, .3, .4, .5, .6, .7, .8, .9, 1],labels=['1st', '2nd', '3rd', '4th', '5th', '6th', '7th', '8th', '9th', '10th']).head()"
      ],
      "execution_count": 25,
      "outputs": [
        {
          "output_type": "stream",
          "text": [
            "0     99\n",
            "1     67\n",
            "2      3\n",
            "3     94\n",
            "4     11\n",
            "5     95\n",
            "6     17\n",
            "7     71\n",
            "8     26\n",
            "9     92\n",
            "10    55\n",
            "11     8\n",
            "12    11\n",
            "13    45\n",
            "14    79\n",
            "15    95\n",
            "16    42\n",
            "17    44\n",
            "18    66\n",
            "19    54\n",
            "dtype: int64\n"
          ],
          "name": "stdout"
        },
        {
          "output_type": "execute_result",
          "data": {
            "text/plain": [
              "0    10th\n",
              "1     7th\n",
              "2     1st\n",
              "3     9th\n",
              "4     2nd\n",
              "dtype: category\n",
              "Categories (10, object): [1st < 2nd < 3rd < 4th ... 7th < 8th < 9th < 10th]"
            ]
          },
          "metadata": {
            "tags": []
          },
          "execution_count": 25
        }
      ]
    },
    {
      "cell_type": "code",
      "metadata": {
        "id": "XDICfID1m_9w",
        "colab_type": "code",
        "colab": {
          "base_uri": "https://localhost:8080/",
          "height": 167
        },
        "outputId": "1563eea8-b716-46d6-ea57-56689da3de58"
      },
      "source": [
        "# How to convert a numpy array to a dataframe of given shape? \n",
        "# Reshape the series ser into a dataframe with 7 rows and 5 columns\n",
        "\n",
        "ser = pd.Series(np.random.randint(1, 10, 35))\n",
        "\n",
        "df = pd.DataFrame(ser.values.reshape(7,5))\n",
        "print(df)"
      ],
      "execution_count": 31,
      "outputs": [
        {
          "output_type": "stream",
          "text": [
            "   0  1  2  3  4\n",
            "0  7  4  6  5  9\n",
            "1  3  4  2  9  6\n",
            "2  6  3  4  7  8\n",
            "3  3  1  5  3  7\n",
            "4  9  5  3  9  1\n",
            "5  6  5  5  5  9\n",
            "6  1  4  3  2  6\n"
          ],
          "name": "stdout"
        }
      ]
    },
    {
      "cell_type": "code",
      "metadata": {
        "id": "ZmkLZcLapKne",
        "colab_type": "code",
        "colab": {
          "base_uri": "https://localhost:8080/",
          "height": 92
        },
        "outputId": "7ee0ad10-5634-4ef7-ea15-b5ea7d1ed6b3"
      },
      "source": [
        "# How to find the positions of numbers that are multiples of 3 from a series?\n",
        "ser = pd.Series([6,8,6,7,6,2,4])\n",
        "\n",
        "print(ser[ser.apply(lambda x : x % 3 == 0)].index) #shape is 1,3\n",
        "# or\n",
        "\n",
        "print(np.argwhere(ser.values % 3 == 0)) # shape is 3,1\n",
        "\n"
      ],
      "execution_count": 50,
      "outputs": [
        {
          "output_type": "stream",
          "text": [
            "Int64Index([0, 2, 4], dtype='int64')\n",
            "[[0]\n",
            " [2]\n",
            " [4]]\n"
          ],
          "name": "stdout"
        }
      ]
    },
    {
      "cell_type": "code",
      "metadata": {
        "id": "4G-4yioRqOxq",
        "colab_type": "code",
        "colab": {
          "base_uri": "https://localhost:8080/",
          "height": 129
        },
        "outputId": "bce5a23e-02eb-433c-c984-249961d25f14"
      },
      "source": [
        "#  How to extract items at given positions from a series\n",
        "\n",
        "ser = pd.Series(list('abcdefghijklmnopqrstuvwxyz'))\n",
        "pos = [0, 4, 8, 14, 20]\n",
        "\n",
        "ser[pos]"
      ],
      "execution_count": 51,
      "outputs": [
        {
          "output_type": "execute_result",
          "data": {
            "text/plain": [
              "0     a\n",
              "4     e\n",
              "8     i\n",
              "14    o\n",
              "20    u\n",
              "dtype: object"
            ]
          },
          "metadata": {
            "tags": []
          },
          "execution_count": 51
        }
      ]
    },
    {
      "cell_type": "code",
      "metadata": {
        "id": "uYimnTzwshie",
        "colab_type": "code",
        "colab": {
          "base_uri": "https://localhost:8080/",
          "height": 206
        },
        "outputId": "69683a22-6b32-40db-bc9b-64a67c42696d"
      },
      "source": [
        "# How to stack two series vertically and horizontally ?\n",
        "\n",
        "ser1 = pd.Series(range(5))\n",
        "ser2 = pd.Series(list('abcde'))\n",
        "\n",
        "\n",
        "pd.concat([ser1,ser2],axis = 0 ) # vertically\n",
        "\n",
        "pd.concat([ser1,ser2],axis = 1 ) # horizontally"
      ],
      "execution_count": 56,
      "outputs": [
        {
          "output_type": "execute_result",
          "data": {
            "text/html": [
              "<div>\n",
              "<style scoped>\n",
              "    .dataframe tbody tr th:only-of-type {\n",
              "        vertical-align: middle;\n",
              "    }\n",
              "\n",
              "    .dataframe tbody tr th {\n",
              "        vertical-align: top;\n",
              "    }\n",
              "\n",
              "    .dataframe thead th {\n",
              "        text-align: right;\n",
              "    }\n",
              "</style>\n",
              "<table border=\"1\" class=\"dataframe\">\n",
              "  <thead>\n",
              "    <tr style=\"text-align: right;\">\n",
              "      <th></th>\n",
              "      <th>0</th>\n",
              "      <th>1</th>\n",
              "    </tr>\n",
              "  </thead>\n",
              "  <tbody>\n",
              "    <tr>\n",
              "      <th>0</th>\n",
              "      <td>0</td>\n",
              "      <td>a</td>\n",
              "    </tr>\n",
              "    <tr>\n",
              "      <th>1</th>\n",
              "      <td>1</td>\n",
              "      <td>b</td>\n",
              "    </tr>\n",
              "    <tr>\n",
              "      <th>2</th>\n",
              "      <td>2</td>\n",
              "      <td>c</td>\n",
              "    </tr>\n",
              "    <tr>\n",
              "      <th>3</th>\n",
              "      <td>3</td>\n",
              "      <td>d</td>\n",
              "    </tr>\n",
              "    <tr>\n",
              "      <th>4</th>\n",
              "      <td>4</td>\n",
              "      <td>e</td>\n",
              "    </tr>\n",
              "  </tbody>\n",
              "</table>\n",
              "</div>"
            ],
            "text/plain": [
              "   0  1\n",
              "0  0  a\n",
              "1  1  b\n",
              "2  2  c\n",
              "3  3  d\n",
              "4  4  e"
            ]
          },
          "metadata": {
            "tags": []
          },
          "execution_count": 56
        }
      ]
    },
    {
      "cell_type": "code",
      "metadata": {
        "id": "xkj2RJdxtF85",
        "colab_type": "code",
        "colab": {
          "base_uri": "https://localhost:8080/",
          "height": 36
        },
        "outputId": "aaf548d3-09bb-4c4d-a116-f3c37bffbbc8"
      },
      "source": [
        "# How to get the positions of items of series A in another series B?\n",
        "\n",
        "ser1 = pd.Series([10, 9, 6, 5, 3, 1, 12, 8, 13])\n",
        "ser2 = pd.Series([1, 3, 10, 13])\n",
        "\n",
        "#sol 1\n",
        "list(ser1[ser1.isin(ser2)].index)\n",
        "#sol 2 \n",
        "[pd.Index(ser1).get_loc(i) for i in ser2]\n",
        "\n"
      ],
      "execution_count": 66,
      "outputs": [
        {
          "output_type": "execute_result",
          "data": {
            "text/plain": [
              "[5, 4, 0, 8]"
            ]
          },
          "metadata": {
            "tags": []
          },
          "execution_count": 66
        }
      ]
    },
    {
      "cell_type": "code",
      "metadata": {
        "id": "ZPC5oAp0tlAg",
        "colab_type": "code",
        "colab": {
          "base_uri": "https://localhost:8080/",
          "height": 36
        },
        "outputId": "b14c834d-171e-4de5-d955-0cab09ec2d6e"
      },
      "source": [
        "# How to compute the mean squared error on a truth and predicted series?\n",
        "truth = pd.Series(range(10))\n",
        "pred = pd.Series(range(10)) + np.random.random(10)\n",
        "np.mean((truth-pred)**2)"
      ],
      "execution_count": 67,
      "outputs": [
        {
          "output_type": "execute_result",
          "data": {
            "text/plain": [
              "0.2736879508905311"
            ]
          },
          "metadata": {
            "tags": []
          },
          "execution_count": 67
        }
      ]
    },
    {
      "cell_type": "code",
      "metadata": {
        "id": "fSiYcpnuvSD4",
        "colab_type": "code",
        "colab": {
          "base_uri": "https://localhost:8080/",
          "height": 111
        },
        "outputId": "2b584e25-e24f-4c45-a81e-9caea4924dc0"
      },
      "source": [
        "# How to convert the first character of each element in a series to uppercase?\n",
        "ser = pd.Series(['how', 'to', 'kick', 'ass?'])\n",
        "# ser.apply(str.title)\n",
        "ser.map(lambda t : t.title())\n"
      ],
      "execution_count": 74,
      "outputs": [
        {
          "output_type": "execute_result",
          "data": {
            "text/plain": [
              "0     How\n",
              "1      To\n",
              "2    Kick\n",
              "3    Ass?\n",
              "dtype: object"
            ]
          },
          "metadata": {
            "tags": []
          },
          "execution_count": 74
        }
      ]
    },
    {
      "cell_type": "code",
      "metadata": {
        "id": "QKR47grLwNQ1",
        "colab_type": "code",
        "colab": {
          "base_uri": "https://localhost:8080/",
          "height": 111
        },
        "outputId": "d0f5d4af-f4ab-404d-f00a-77d9b8bdcdb2"
      },
      "source": [
        "# How to calculate the number of characters in each word in a series?\n",
        "ser = pd.Series(['how', 'to', 'kick', 'ass?'])\n",
        "ser.apply(len)"
      ],
      "execution_count": 75,
      "outputs": [
        {
          "output_type": "execute_result",
          "data": {
            "text/plain": [
              "0    3\n",
              "1    2\n",
              "2    4\n",
              "3    4\n",
              "dtype: int64"
            ]
          },
          "metadata": {
            "tags": []
          },
          "execution_count": 75
        }
      ]
    },
    {
      "cell_type": "code",
      "metadata": {
        "id": "ux5gfboqwzii",
        "colab_type": "code",
        "colab": {
          "base_uri": "https://localhost:8080/",
          "height": 36
        },
        "outputId": "62974a2f-e1d9-441f-c84c-172a391dd847"
      },
      "source": [
        "# How to compute difference of differences between consequtive numbers of a series?\n",
        "ser = pd.Series([1, 3, 6, 10, 15, 21, 27, 35])\n",
        "print(ser.diff().tolist())\n"
      ],
      "execution_count": 78,
      "outputs": [
        {
          "output_type": "stream",
          "text": [
            "[nan, 2.0, 3.0, 4.0, 5.0, 6.0, 6.0, 8.0]\n"
          ],
          "name": "stdout"
        }
      ]
    },
    {
      "cell_type": "code",
      "metadata": {
        "id": "x8mkLkmdxW8l",
        "colab_type": "code",
        "colab": {
          "base_uri": "https://localhost:8080/",
          "height": 148
        },
        "outputId": "7d3b4126-6876-4312-c9d6-232e04b759b9"
      },
      "source": [
        "# How to convert a series of date-strings to a timeseries?\n",
        "\n",
        "ser = pd.Series(['01 Jan 2010', '02-02-2011', '20120303', '2013/04/04', '2014-05-05', '2015-06-06T12:20'])\n",
        "\n",
        "pd.to_datetime(ser)\n",
        "# or\n",
        "from dateutil.parser import parse\n",
        "ser.map(lambda x: parse(x))\n"
      ],
      "execution_count": 80,
      "outputs": [
        {
          "output_type": "execute_result",
          "data": {
            "text/plain": [
              "0   2010-01-01 00:00:00\n",
              "1   2011-02-02 00:00:00\n",
              "2   2012-03-03 00:00:00\n",
              "3   2013-04-04 00:00:00\n",
              "4   2014-05-05 00:00:00\n",
              "5   2015-06-06 12:20:00\n",
              "dtype: datetime64[ns]"
            ]
          },
          "metadata": {
            "tags": []
          },
          "execution_count": 80
        }
      ]
    },
    {
      "cell_type": "code",
      "metadata": {
        "id": "Ziyays2t0WJx",
        "colab_type": "code",
        "colab": {
          "base_uri": "https://localhost:8080/",
          "height": 36
        },
        "outputId": "35b2cd7d-bcbc-433a-9e53-acca7557d48e"
      },
      "source": [
        "# How to get the day of month, week number, day of year and day of week from a series of date strings?\n",
        "ser = pd.Series(['01 Jan 2010', '02-02-2011', '20120303', '2013/04/04', '2014-05-05', '2015-06-06T12:20'])\n",
        "\n",
        "ser = pd.to_datetime(ser)\n",
        "ser.dt.day.values\n",
        "ser.dt.weekofyear.values\n",
        "ser.dt.dayofyear.values\n",
        "\n",
        "\n"
      ],
      "execution_count": 100,
      "outputs": [
        {
          "output_type": "execute_result",
          "data": {
            "text/plain": [
              "array([  1,  33,  63,  94, 125, 157])"
            ]
          },
          "metadata": {
            "tags": []
          },
          "execution_count": 100
        }
      ]
    },
    {
      "cell_type": "code",
      "metadata": {
        "id": "fSp8-JfW1aMl",
        "colab_type": "code",
        "colab": {
          "base_uri": "https://localhost:8080/",
          "height": 92
        },
        "outputId": "29de6bfa-2fa2-42c0-bb8c-d4d5910cefb8"
      },
      "source": [
        "# How to filter words that contain atleast 2 vowels from a series?\n",
        "\n",
        "ser = pd.Series(['Apple', 'Orange', 'Plan', 'Python', 'Money'])\n",
        "v = ['a','e','i','o','u']\n",
        "\n",
        "ser[ser.apply(lambda x:  sum( c in v for c in list(x.lower()))>= 2)]\n",
        "\n",
        "ser"
      ],
      "execution_count": 109,
      "outputs": [
        {
          "output_type": "execute_result",
          "data": {
            "text/plain": [
              "0     Apple\n",
              "1    Orange\n",
              "4     Money\n",
              "dtype: object"
            ]
          },
          "metadata": {
            "tags": []
          },
          "execution_count": 109
        }
      ]
    },
    {
      "cell_type": "code",
      "metadata": {
        "id": "MMs4HJyA52u_",
        "colab_type": "code",
        "colab": {
          "base_uri": "https://localhost:8080/",
          "height": 92
        },
        "outputId": "6cf1b19c-67ba-4738-eb09-17350fd76215"
      },
      "source": [
        "# How to filter valid emails from a series?\n",
        "emails = pd.Series(['buying books at amazom.com', 'rameses@egypt.com', 'matt@t.co', 'narendra@modi.com'])\n",
        "pattern ='[A-Za-z0-9._%+-]+@[A-Za-z0-9.-]+\\\\.[A-Za-z]{2,4}'\n",
        "\n",
        "import re\n",
        "mask = emails.map(lambda x: bool(re.match(pattern, x)))\n",
        "emails[mask]"
      ],
      "execution_count": 110,
      "outputs": [
        {
          "output_type": "execute_result",
          "data": {
            "text/plain": [
              "1    rameses@egypt.com\n",
              "2            matt@t.co\n",
              "3    narendra@modi.com\n",
              "dtype: object"
            ]
          },
          "metadata": {
            "tags": []
          },
          "execution_count": 110
        }
      ]
    },
    {
      "cell_type": "code",
      "metadata": {
        "id": "40gwFYFo8xVW",
        "colab_type": "code",
        "colab": {}
      },
      "source": [
        ""
      ],
      "execution_count": null,
      "outputs": []
    }
  ]
}