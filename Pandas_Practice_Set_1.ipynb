{
  "nbformat": 4,
  "nbformat_minor": 0,
  "metadata": {
    "colab": {
      "name": "Pandas Practice Set 1.ipynb",
      "provenance": [],
      "collapsed_sections": []
    },
    "kernelspec": {
      "name": "python3",
      "display_name": "Python 3"
    }
  },
  "cells": [
    {
      "cell_type": "code",
      "metadata": {
        "id": "p50_YWHTpjzU"
      },
      "source": [
        "import numpy as np\n",
        "import pandas as pd"
      ],
      "execution_count": 1,
      "outputs": []
    },
    {
      "cell_type": "code",
      "metadata": {
        "id": "SmmlCjADplDy",
        "colab": {
          "base_uri": "https://localhost:8080/"
        },
        "outputId": "aed9ac9a-e462-4482-f6ed-75eeef6e0958"
      },
      "source": [
        "# How to create a series from a list, numpy array and dict?\n",
        "mylist = list('abcedfghijklmnopqrstuvwxyz')\n",
        "myarr = np.arange(26)\n",
        "mydict = dict(zip(mylist, myarr))\n",
        "\n",
        "pd.Series(mylist)\n",
        "pd.Series(myarr)\n",
        "pd.Series(mydict)\n",
        "print('Done')"
      ],
      "execution_count": 2,
      "outputs": [
        {
          "output_type": "stream",
          "text": [
            "Done\n"
          ],
          "name": "stdout"
        }
      ]
    },
    {
      "cell_type": "code",
      "metadata": {
        "id": "Gx1AWDLUfmuW",
        "colab": {
          "base_uri": "https://localhost:8080/"
        },
        "outputId": "cbf1f6a3-bf6d-4c33-8aa6-d27e306a7af8"
      },
      "source": [
        "# How to convert the index of a series into a column of a dataframe?\n",
        "\n",
        "ser = pd.Series(mydict)\n",
        "\n",
        "pd.DataFrame(ser).reset_index()\n",
        "print('Done')\n"
      ],
      "execution_count": 3,
      "outputs": [
        {
          "output_type": "stream",
          "text": [
            "Done\n"
          ],
          "name": "stdout"
        }
      ]
    },
    {
      "cell_type": "code",
      "metadata": {
        "id": "M3GyvMdqf7Tw",
        "colab": {
          "base_uri": "https://localhost:8080/"
        },
        "outputId": "5df54a4b-0c86-43bb-ce9b-8791c149c9a7"
      },
      "source": [
        "# How to combine many series to form a dataframe?\n",
        "\n",
        "ser1 = pd.Series(list('abcedfghijklmnopqrstuvwxyz'))\n",
        "ser2 = pd.Series(np.arange(26))\n",
        "\n",
        "pd.concat([ser1,ser2],axis = 1)\n",
        "print('Done')\n"
      ],
      "execution_count": 4,
      "outputs": [
        {
          "output_type": "stream",
          "text": [
            "Done\n"
          ],
          "name": "stdout"
        }
      ]
    },
    {
      "cell_type": "code",
      "metadata": {
        "id": "aezFCEEphjAK",
        "colab": {
          "base_uri": "https://localhost:8080/"
        },
        "outputId": "cfccac8d-5ee7-494a-f331-4eebecd2267e"
      },
      "source": [
        "# How to assign name to the series’ index?\n",
        "ser = pd.Series(list('abcedfghijklmnopqrstuvwxyz'))\n",
        "ser.rename_axis('name')\n",
        "print('Done')"
      ],
      "execution_count": 5,
      "outputs": [
        {
          "output_type": "stream",
          "text": [
            "Done\n"
          ],
          "name": "stdout"
        }
      ]
    },
    {
      "cell_type": "code",
      "metadata": {
        "id": "H35-vG3jmnhV",
        "colab": {
          "base_uri": "https://localhost:8080/"
        },
        "outputId": "b1b246d0-6e9a-4349-cec3-35513512932e"
      },
      "source": [
        "# How to get the items of series A not present in series B?\n",
        "\n",
        "ser1 = pd.Series([1, 2, 3, 4, 5])\n",
        "ser2 = pd.Series([4, 5, 6, 7, 8])\n",
        "\n",
        "ser1[~ser1.isin(ser2)]\n"
      ],
      "execution_count": 6,
      "outputs": [
        {
          "output_type": "execute_result",
          "data": {
            "text/plain": [
              "0    1\n",
              "1    2\n",
              "2    3\n",
              "dtype: int64"
            ]
          },
          "metadata": {
            "tags": []
          },
          "execution_count": 6
        }
      ]
    },
    {
      "cell_type": "code",
      "metadata": {
        "id": "p_fAdtnsn4QU",
        "colab": {
          "base_uri": "https://localhost:8080/"
        },
        "outputId": "62befb3d-d148-4e4d-f128-d233fa1a1c00"
      },
      "source": [
        "# How to get the items not common to both series A and series B?\n",
        "\n",
        "ser1 = pd.Series([1, 2, 3, 4, 5])\n",
        "ser2 = pd.Series([4, 5, 6, 7, 8])\n",
        "\n",
        "ser_u = pd.Series(np.union1d(ser1, ser2))  # union\n",
        "ser_i = pd.Series(np.intersect1d(ser1, ser2))  # intersect\n",
        "ser_u[~ser_u.isin(ser_i)]"
      ],
      "execution_count": 7,
      "outputs": [
        {
          "output_type": "execute_result",
          "data": {
            "text/plain": [
              "0    1\n",
              "1    2\n",
              "2    3\n",
              "5    6\n",
              "6    7\n",
              "7    8\n",
              "dtype: int64"
            ]
          },
          "metadata": {
            "tags": []
          },
          "execution_count": 7
        }
      ]
    },
    {
      "cell_type": "code",
      "metadata": {
        "id": "v9pwXJ4fogX8",
        "colab": {
          "base_uri": "https://localhost:8080/"
        },
        "outputId": "206bc736-ae29-40d5-d1a8-9849d3757919"
      },
      "source": [
        "# How to get the minimum, 25th percentile, median, 75th, and max of a numeric series?\n",
        "\n",
        "ser = pd.Series(np.random.normal(10, 5, 25))\n",
        "ser.describe()\n",
        "np.percentile(ser, q=[0, 25, 50, 75, 100])\n"
      ],
      "execution_count": 8,
      "outputs": [
        {
          "output_type": "execute_result",
          "data": {
            "text/plain": [
              "array([-0.55414741,  9.68496924, 11.4073868 , 14.14013674, 19.97604742])"
            ]
          },
          "metadata": {
            "tags": []
          },
          "execution_count": 8
        }
      ]
    },
    {
      "cell_type": "code",
      "metadata": {
        "id": "C-adwNruo5yI",
        "colab": {
          "base_uri": "https://localhost:8080/"
        },
        "outputId": "ef507205-38f6-4a3e-a9c1-52f4a9b0c490"
      },
      "source": [
        "# How to get frequency counts of unique items of a series?\n",
        "\n",
        "ser = pd.Series(np.take(list('abcdefgh'), np.random.randint(8, size=30)))\n",
        "ser.value_counts()\n"
      ],
      "execution_count": 9,
      "outputs": [
        {
          "output_type": "execute_result",
          "data": {
            "text/plain": [
              "e    6\n",
              "b    5\n",
              "h    4\n",
              "g    4\n",
              "f    3\n",
              "a    3\n",
              "d    3\n",
              "c    2\n",
              "dtype: int64"
            ]
          },
          "metadata": {
            "tags": []
          },
          "execution_count": 9
        }
      ]
    },
    {
      "cell_type": "code",
      "metadata": {
        "id": "Fb858WBopxmm",
        "colab": {
          "base_uri": "https://localhost:8080/"
        },
        "outputId": "64e6cfae-856b-4b01-ff0c-511938c4946e"
      },
      "source": [
        "# How to keep only top 2 most frequent values as it is and replace everything else as ‘Other’?\n",
        "\n",
        "ser = pd.Series(np.random.RandomState(100).randint(1, 5, [12]))\n",
        "\n",
        "print(ser.value_counts())\n",
        "\n",
        "topTwo = ser.value_counts().head(2).index\n",
        "\n",
        "print(\"Top 2 Frequent numbers: -> \",topTwo )\n",
        "\n",
        "# getting numbers that are not top two for assigning 'others'\n",
        "\n",
        "ser = pd.Series(np.where(ser.isin(topTwo), ser, 'Other'))\n",
        "# OR \n",
        "# ser[~ser.isin(topTwo)] = 'Other'\n",
        "\n",
        "ser"
      ],
      "execution_count": 10,
      "outputs": [
        {
          "output_type": "stream",
          "text": [
            "4    4\n",
            "1    4\n",
            "3    3\n",
            "2    1\n",
            "dtype: int64\n",
            "Top 2 Frequent numbers: ->  Int64Index([4, 1], dtype='int64')\n"
          ],
          "name": "stdout"
        },
        {
          "output_type": "execute_result",
          "data": {
            "text/plain": [
              "0         1\n",
              "1         1\n",
              "2         4\n",
              "3         4\n",
              "4         4\n",
              "5         4\n",
              "6         1\n",
              "7     Other\n",
              "8     Other\n",
              "9         1\n",
              "10    Other\n",
              "11    Other\n",
              "dtype: object"
            ]
          },
          "metadata": {
            "tags": []
          },
          "execution_count": 10
        }
      ]
    },
    {
      "cell_type": "code",
      "metadata": {
        "id": "JD-GRYjFllO3",
        "colab": {
          "base_uri": "https://localhost:8080/"
        },
        "outputId": "b1779d60-e22f-4936-be8c-99dc261b1b55"
      },
      "source": [
        "# How to bin a numeric series to 10 groups of equal size?\n",
        "ser = pd.Series(np.random.randint(1,100,20))\n",
        "print(ser)\n",
        "pd.qcut(ser, q=[0, .10, .20, .3, .4, .5, .6, .7, .8, .9, 1],labels=['1st', '2nd', '3rd', '4th', '5th', '6th', '7th', '8th', '9th', '10th']).head()"
      ],
      "execution_count": 11,
      "outputs": [
        {
          "output_type": "stream",
          "text": [
            "0     78\n",
            "1     97\n",
            "2     33\n",
            "3      4\n",
            "4     24\n",
            "5     38\n",
            "6     72\n",
            "7     54\n",
            "8     95\n",
            "9     78\n",
            "10    17\n",
            "11    24\n",
            "12     3\n",
            "13    63\n",
            "14    32\n",
            "15     6\n",
            "16     7\n",
            "17    81\n",
            "18    28\n",
            "19    65\n",
            "dtype: int64\n"
          ],
          "name": "stdout"
        },
        {
          "output_type": "execute_result",
          "data": {
            "text/plain": [
              "0     8th\n",
              "1    10th\n",
              "2     5th\n",
              "3     1st\n",
              "4     3rd\n",
              "dtype: category\n",
              "Categories (10, object): ['1st' < '2nd' < '3rd' < '4th' ... '7th' < '8th' < '9th' < '10th']"
            ]
          },
          "metadata": {
            "tags": []
          },
          "execution_count": 11
        }
      ]
    },
    {
      "cell_type": "code",
      "metadata": {
        "id": "XDICfID1m_9w",
        "colab": {
          "base_uri": "https://localhost:8080/"
        },
        "outputId": "4e8e3217-817c-4727-af5d-3b6da3fa6bf1"
      },
      "source": [
        "# How to convert a numpy array to a dataframe of given shape? \n",
        "# Reshape the series ser into a dataframe with 7 rows and 5 columns\n",
        "\n",
        "ser = pd.Series(np.random.randint(1, 10, 35))\n",
        "\n",
        "df = pd.DataFrame(ser.values.reshape(7,5))\n",
        "print(df)"
      ],
      "execution_count": 12,
      "outputs": [
        {
          "output_type": "stream",
          "text": [
            "   0  1  2  3  4\n",
            "0  6  5  9  6  6\n",
            "1  4  7  1  5  4\n",
            "2  8  1  4  8  8\n",
            "3  1  2  2  5  9\n",
            "4  1  1  4  7  6\n",
            "5  4  7  5  2  7\n",
            "6  7  9  1  6  5\n"
          ],
          "name": "stdout"
        }
      ]
    },
    {
      "cell_type": "code",
      "metadata": {
        "id": "ZmkLZcLapKne",
        "colab": {
          "base_uri": "https://localhost:8080/"
        },
        "outputId": "f58b0028-3bb0-4bb1-f67e-98d87b39db15"
      },
      "source": [
        "# How to find the positions of numbers that are multiples of 3 from a series?\n",
        "ser = pd.Series([6,8,6,7,6,2,4])\n",
        "\n",
        "print(ser[ser.apply(lambda x : x % 3 == 0)].index) #shape is 1,3\n",
        "# or\n",
        "\n",
        "print(np.argwhere(ser.values % 3 == 0)) # shape is 3,1\n",
        "\n"
      ],
      "execution_count": 13,
      "outputs": [
        {
          "output_type": "stream",
          "text": [
            "Int64Index([0, 2, 4], dtype='int64')\n",
            "[[0]\n",
            " [2]\n",
            " [4]]\n"
          ],
          "name": "stdout"
        }
      ]
    },
    {
      "cell_type": "code",
      "metadata": {
        "id": "4G-4yioRqOxq",
        "colab": {
          "base_uri": "https://localhost:8080/"
        },
        "outputId": "64dda099-048d-496a-c4ef-6e98863b0802"
      },
      "source": [
        "#  How to extract items at given positions from a series\n",
        "\n",
        "ser = pd.Series(list('abcdefghijklmnopqrstuvwxyz'))\n",
        "pos = [0, 4, 8, 14, 20]\n",
        "\n",
        "ser[pos]"
      ],
      "execution_count": 14,
      "outputs": [
        {
          "output_type": "execute_result",
          "data": {
            "text/plain": [
              "0     a\n",
              "4     e\n",
              "8     i\n",
              "14    o\n",
              "20    u\n",
              "dtype: object"
            ]
          },
          "metadata": {
            "tags": []
          },
          "execution_count": 14
        }
      ]
    },
    {
      "cell_type": "code",
      "metadata": {
        "id": "uYimnTzwshie",
        "colab": {
          "base_uri": "https://localhost:8080/",
          "height": 206
        },
        "outputId": "808a2058-0c3d-4a8e-a6ff-9bdfee82774b"
      },
      "source": [
        "# How to stack two series vertically and horizontally ?\n",
        "\n",
        "ser1 = pd.Series(range(5))\n",
        "ser2 = pd.Series(list('abcde'))\n",
        "\n",
        "\n",
        "pd.concat([ser1,ser2],axis = 0 ) # vertically\n",
        "\n",
        "pd.concat([ser1,ser2],axis = 1 ) # horizontally"
      ],
      "execution_count": 15,
      "outputs": [
        {
          "output_type": "execute_result",
          "data": {
            "text/html": [
              "<div>\n",
              "<style scoped>\n",
              "    .dataframe tbody tr th:only-of-type {\n",
              "        vertical-align: middle;\n",
              "    }\n",
              "\n",
              "    .dataframe tbody tr th {\n",
              "        vertical-align: top;\n",
              "    }\n",
              "\n",
              "    .dataframe thead th {\n",
              "        text-align: right;\n",
              "    }\n",
              "</style>\n",
              "<table border=\"1\" class=\"dataframe\">\n",
              "  <thead>\n",
              "    <tr style=\"text-align: right;\">\n",
              "      <th></th>\n",
              "      <th>0</th>\n",
              "      <th>1</th>\n",
              "    </tr>\n",
              "  </thead>\n",
              "  <tbody>\n",
              "    <tr>\n",
              "      <th>0</th>\n",
              "      <td>0</td>\n",
              "      <td>a</td>\n",
              "    </tr>\n",
              "    <tr>\n",
              "      <th>1</th>\n",
              "      <td>1</td>\n",
              "      <td>b</td>\n",
              "    </tr>\n",
              "    <tr>\n",
              "      <th>2</th>\n",
              "      <td>2</td>\n",
              "      <td>c</td>\n",
              "    </tr>\n",
              "    <tr>\n",
              "      <th>3</th>\n",
              "      <td>3</td>\n",
              "      <td>d</td>\n",
              "    </tr>\n",
              "    <tr>\n",
              "      <th>4</th>\n",
              "      <td>4</td>\n",
              "      <td>e</td>\n",
              "    </tr>\n",
              "  </tbody>\n",
              "</table>\n",
              "</div>"
            ],
            "text/plain": [
              "   0  1\n",
              "0  0  a\n",
              "1  1  b\n",
              "2  2  c\n",
              "3  3  d\n",
              "4  4  e"
            ]
          },
          "metadata": {
            "tags": []
          },
          "execution_count": 15
        }
      ]
    },
    {
      "cell_type": "code",
      "metadata": {
        "id": "xkj2RJdxtF85",
        "colab": {
          "base_uri": "https://localhost:8080/"
        },
        "outputId": "394a0f99-31bd-43c0-a3d4-6f2667d0c794"
      },
      "source": [
        "# How to get the positions of items of series A in another series B?\n",
        "\n",
        "ser1 = pd.Series([10, 9, 6, 5, 3, 1, 12, 8, 13])\n",
        "ser2 = pd.Series([1, 3, 10, 13])\n",
        "\n",
        "#sol 1\n",
        "list(ser1[ser1.isin(ser2)].index)\n",
        "#sol 2 \n",
        "[pd.Index(ser1).get_loc(i) for i in ser2]\n",
        "\n"
      ],
      "execution_count": 16,
      "outputs": [
        {
          "output_type": "execute_result",
          "data": {
            "text/plain": [
              "[5, 4, 0, 8]"
            ]
          },
          "metadata": {
            "tags": []
          },
          "execution_count": 16
        }
      ]
    },
    {
      "cell_type": "code",
      "metadata": {
        "id": "ZPC5oAp0tlAg",
        "colab": {
          "base_uri": "https://localhost:8080/"
        },
        "outputId": "5865a3bc-0cc8-4415-c3c0-018cf797219c"
      },
      "source": [
        "# How to compute the mean squared error on a truth and predicted series?\n",
        "truth = pd.Series(range(10))\n",
        "pred = pd.Series(range(10)) + np.random.random(10)\n",
        "np.mean((truth-pred)**2)"
      ],
      "execution_count": 17,
      "outputs": [
        {
          "output_type": "execute_result",
          "data": {
            "text/plain": [
              "0.2562214168772538"
            ]
          },
          "metadata": {
            "tags": []
          },
          "execution_count": 17
        }
      ]
    },
    {
      "cell_type": "code",
      "metadata": {
        "id": "fSiYcpnuvSD4",
        "colab": {
          "base_uri": "https://localhost:8080/"
        },
        "outputId": "c1f99ce5-1e4f-42de-f71d-946daf52cb4c"
      },
      "source": [
        "# How to convert the first character of each element in a series to uppercase?\n",
        "ser = pd.Series(['how', 'to', 'kick', 'ass?'])\n",
        "# ser.apply(str.title)\n",
        "ser.map(lambda t : t.title())\n"
      ],
      "execution_count": 18,
      "outputs": [
        {
          "output_type": "execute_result",
          "data": {
            "text/plain": [
              "0     How\n",
              "1      To\n",
              "2    Kick\n",
              "3    Ass?\n",
              "dtype: object"
            ]
          },
          "metadata": {
            "tags": []
          },
          "execution_count": 18
        }
      ]
    },
    {
      "cell_type": "code",
      "metadata": {
        "id": "QKR47grLwNQ1",
        "colab": {
          "base_uri": "https://localhost:8080/"
        },
        "outputId": "066de753-4aa8-4930-ca4c-bc606b4f933c"
      },
      "source": [
        "# How to calculate the number of characters in each word in a series?\n",
        "ser = pd.Series(['how', 'to', 'kick', 'ass?'])\n",
        "ser.apply(len)"
      ],
      "execution_count": 19,
      "outputs": [
        {
          "output_type": "execute_result",
          "data": {
            "text/plain": [
              "0    3\n",
              "1    2\n",
              "2    4\n",
              "3    4\n",
              "dtype: int64"
            ]
          },
          "metadata": {
            "tags": []
          },
          "execution_count": 19
        }
      ]
    },
    {
      "cell_type": "code",
      "metadata": {
        "id": "ux5gfboqwzii",
        "colab": {
          "base_uri": "https://localhost:8080/"
        },
        "outputId": "f6fe1cea-059d-49a6-8fba-22fa8e8d0e8a"
      },
      "source": [
        "# How to compute difference of differences between consequtive numbers of a series?\n",
        "ser = pd.Series([1, 3, 6, 10, 15, 21, 27, 35])\n",
        "print(ser.diff().tolist())\n"
      ],
      "execution_count": 20,
      "outputs": [
        {
          "output_type": "stream",
          "text": [
            "[nan, 2.0, 3.0, 4.0, 5.0, 6.0, 6.0, 8.0]\n"
          ],
          "name": "stdout"
        }
      ]
    },
    {
      "cell_type": "code",
      "metadata": {
        "id": "x8mkLkmdxW8l",
        "colab": {
          "base_uri": "https://localhost:8080/"
        },
        "outputId": "ca09d137-ada4-47a4-c964-cc29100d1ee3"
      },
      "source": [
        "# How to convert a series of date-strings to a timeseries?\n",
        "\n",
        "ser = pd.Series(['01 Jan 2010', '02-02-2011', '20120303', '2013/04/04', '2014-05-05', '2015-06-06T12:20'])\n",
        "\n",
        "pd.to_datetime(ser)\n",
        "# or\n",
        "from dateutil.parser import parse\n",
        "ser.map(lambda x: parse(x))\n"
      ],
      "execution_count": 21,
      "outputs": [
        {
          "output_type": "execute_result",
          "data": {
            "text/plain": [
              "0   2010-01-01 00:00:00\n",
              "1   2011-02-02 00:00:00\n",
              "2   2012-03-03 00:00:00\n",
              "3   2013-04-04 00:00:00\n",
              "4   2014-05-05 00:00:00\n",
              "5   2015-06-06 12:20:00\n",
              "dtype: datetime64[ns]"
            ]
          },
          "metadata": {
            "tags": []
          },
          "execution_count": 21
        }
      ]
    },
    {
      "cell_type": "code",
      "metadata": {
        "id": "Ziyays2t0WJx",
        "colab": {
          "base_uri": "https://localhost:8080/"
        },
        "outputId": "2669f31a-0491-47d2-f2bd-f77dba2fae59"
      },
      "source": [
        "# How to get the day of month, week number, day of year and day of week from a series of date strings?\n",
        "ser = pd.Series(['01 Jan 2010', '02-02-2011', '20120303', '2013/04/04', '2014-05-05', '2015-06-06T12:20'])\n",
        "\n",
        "ser = pd.to_datetime(ser)\n",
        "ser.dt.day.values\n",
        "ser.dt.weekofyear.values\n",
        "ser.dt.dayofyear.values\n",
        "\n",
        "\n"
      ],
      "execution_count": 22,
      "outputs": [
        {
          "output_type": "stream",
          "text": [
            "/usr/local/lib/python3.6/dist-packages/ipykernel_launcher.py:6: FutureWarning: Series.dt.weekofyear and Series.dt.week have been deprecated.  Please use Series.dt.isocalendar().week instead.\n",
            "  \n"
          ],
          "name": "stderr"
        },
        {
          "output_type": "execute_result",
          "data": {
            "text/plain": [
              "array([  1,  33,  63,  94, 125, 157])"
            ]
          },
          "metadata": {
            "tags": []
          },
          "execution_count": 22
        }
      ]
    },
    {
      "cell_type": "code",
      "metadata": {
        "id": "fSp8-JfW1aMl",
        "colab": {
          "base_uri": "https://localhost:8080/"
        },
        "outputId": "5a763ef4-e7c7-4269-fa88-86622ff32283"
      },
      "source": [
        "# How to filter words that contain atleast 2 vowels from a series?\n",
        "\n",
        "ser = pd.Series(['Apple', 'Orange', 'Plan', 'Python', 'Money'])\n",
        "v = ['a','e','i','o','u']\n",
        "\n",
        "ser[ser.apply(lambda x:  sum( c in v for c in list(x.lower()))>= 2)]\n",
        "\n",
        "ser"
      ],
      "execution_count": 23,
      "outputs": [
        {
          "output_type": "execute_result",
          "data": {
            "text/plain": [
              "0     Apple\n",
              "1    Orange\n",
              "2      Plan\n",
              "3    Python\n",
              "4     Money\n",
              "dtype: object"
            ]
          },
          "metadata": {
            "tags": []
          },
          "execution_count": 23
        }
      ]
    },
    {
      "cell_type": "code",
      "metadata": {
        "id": "MMs4HJyA52u_",
        "colab": {
          "base_uri": "https://localhost:8080/"
        },
        "outputId": "72cf6423-45ad-4a63-e2cc-dbd3fb29e05c"
      },
      "source": [
        "# How to filter valid emails from a series?\n",
        "emails = pd.Series(['buying books at amazom.com', 'rameses@egypt.com', 'matt@t.co', 'narendra@modi.com'])\n",
        "pattern ='[A-Za-z0-9._%+-]+@[A-Za-z0-9.-]+\\\\.[A-Za-z]{2,4}'\n",
        "\n",
        "import re\n",
        "mask = emails.map(lambda x: bool(re.match(pattern, x)))\n",
        "emails[mask]"
      ],
      "execution_count": 24,
      "outputs": [
        {
          "output_type": "execute_result",
          "data": {
            "text/plain": [
              "1    rameses@egypt.com\n",
              "2            matt@t.co\n",
              "3    narendra@modi.com\n",
              "dtype: object"
            ]
          },
          "metadata": {
            "tags": []
          },
          "execution_count": 24
        }
      ]
    },
    {
      "cell_type": "code",
      "metadata": {
        "colab": {
          "base_uri": "https://localhost:8080/"
        },
        "id": "dLAe63rr1aP8",
        "outputId": "ac358270-80c1-47f1-b6d9-9b6b17bb535a"
      },
      "source": [
        "x = [[1,2],[3,4]]\n",
        "y = [[2,4],[6,8]]\n",
        "\n",
        "np.concatenate([x,y],axis =1)"
      ],
      "execution_count": 25,
      "outputs": [
        {
          "output_type": "execute_result",
          "data": {
            "text/plain": [
              "array([[1, 2, 2, 4],\n",
              "       [3, 4, 6, 8]])"
            ]
          },
          "metadata": {
            "tags": []
          },
          "execution_count": 25
        }
      ]
    },
    {
      "cell_type": "code",
      "metadata": {
        "id": "Hsv3X0EuhHX3",
        "colab": {
          "base_uri": "https://localhost:8080/"
        },
        "outputId": "d67ad1df-a49b-424f-d0ec-b009bf4296ae"
      },
      "source": [
        "x = [[1,2],[3,4]]\n",
        "y = [[2,4],[6,8]]\n",
        "\n",
        "np.concatenate([x,y],axis =0)"
      ],
      "execution_count": 26,
      "outputs": [
        {
          "output_type": "execute_result",
          "data": {
            "text/plain": [
              "array([[1, 2],\n",
              "       [3, 4],\n",
              "       [2, 4],\n",
              "       [6, 8]])"
            ]
          },
          "metadata": {
            "tags": []
          },
          "execution_count": 26
        }
      ]
    },
    {
      "cell_type": "code",
      "metadata": {
        "id": "ruNIjswmPka3",
        "colab": {
          "base_uri": "https://localhost:8080/"
        },
        "outputId": "aebf3606-92bc-4935-ce63-8a54fdcff6b0"
      },
      "source": [
        "ser1 = pd.Series(['A', 'B', 'C'], index=[1, 2, 3])\n",
        "ser2 = pd.Series(['D', 'E', 'F'], index=[1, 2, 3])\n",
        "\n",
        "pd.concat([ser1, ser2])\n",
        "\n"
      ],
      "execution_count": 27,
      "outputs": [
        {
          "output_type": "execute_result",
          "data": {
            "text/plain": [
              "1    A\n",
              "2    B\n",
              "3    C\n",
              "1    D\n",
              "2    E\n",
              "3    F\n",
              "dtype: object"
            ]
          },
          "metadata": {
            "tags": []
          },
          "execution_count": 27
        }
      ]
    },
    {
      "cell_type": "code",
      "metadata": {
        "id": "u7nFE7vtRkJU"
      },
      "source": [
        "def make_df(cols, ind):\n",
        " \"\"\"Quickly make a DataFrame\"\"\"\n",
        " data = {c: [str(c) + str(i) for i in ind]\n",
        " for c in cols}\n",
        " return pd.DataFrame(data, ind)"
      ],
      "execution_count": 28,
      "outputs": []
    },
    {
      "cell_type": "code",
      "metadata": {
        "id": "_NvQ5wSRSg9n"
      },
      "source": [
        "x = make_df('AB', [0, 1])\n",
        "y = make_df('AB', [2, 3])"
      ],
      "execution_count": 29,
      "outputs": []
    },
    {
      "cell_type": "code",
      "metadata": {
        "id": "v8iIeu83SpT2",
        "colab": {
          "base_uri": "https://localhost:8080/",
          "height": 112
        },
        "outputId": "a00abe1a-edf6-4b1f-c9c4-ff8cb8726cd1"
      },
      "source": [
        "y.index = x.index\n",
        "x\n"
      ],
      "execution_count": 30,
      "outputs": [
        {
          "output_type": "execute_result",
          "data": {
            "text/html": [
              "<div>\n",
              "<style scoped>\n",
              "    .dataframe tbody tr th:only-of-type {\n",
              "        vertical-align: middle;\n",
              "    }\n",
              "\n",
              "    .dataframe tbody tr th {\n",
              "        vertical-align: top;\n",
              "    }\n",
              "\n",
              "    .dataframe thead th {\n",
              "        text-align: right;\n",
              "    }\n",
              "</style>\n",
              "<table border=\"1\" class=\"dataframe\">\n",
              "  <thead>\n",
              "    <tr style=\"text-align: right;\">\n",
              "      <th></th>\n",
              "      <th>A</th>\n",
              "      <th>B</th>\n",
              "    </tr>\n",
              "  </thead>\n",
              "  <tbody>\n",
              "    <tr>\n",
              "      <th>0</th>\n",
              "      <td>A0</td>\n",
              "      <td>B0</td>\n",
              "    </tr>\n",
              "    <tr>\n",
              "      <th>1</th>\n",
              "      <td>A1</td>\n",
              "      <td>B1</td>\n",
              "    </tr>\n",
              "  </tbody>\n",
              "</table>\n",
              "</div>"
            ],
            "text/plain": [
              "    A   B\n",
              "0  A0  B0\n",
              "1  A1  B1"
            ]
          },
          "metadata": {
            "tags": []
          },
          "execution_count": 30
        }
      ]
    },
    {
      "cell_type": "code",
      "metadata": {
        "id": "3eguf_VjSrYT",
        "colab": {
          "base_uri": "https://localhost:8080/",
          "height": 112
        },
        "outputId": "8c7a3a5d-295b-4422-b3f6-8610bf2d9a4d"
      },
      "source": [
        "y"
      ],
      "execution_count": 31,
      "outputs": [
        {
          "output_type": "execute_result",
          "data": {
            "text/html": [
              "<div>\n",
              "<style scoped>\n",
              "    .dataframe tbody tr th:only-of-type {\n",
              "        vertical-align: middle;\n",
              "    }\n",
              "\n",
              "    .dataframe tbody tr th {\n",
              "        vertical-align: top;\n",
              "    }\n",
              "\n",
              "    .dataframe thead th {\n",
              "        text-align: right;\n",
              "    }\n",
              "</style>\n",
              "<table border=\"1\" class=\"dataframe\">\n",
              "  <thead>\n",
              "    <tr style=\"text-align: right;\">\n",
              "      <th></th>\n",
              "      <th>A</th>\n",
              "      <th>B</th>\n",
              "    </tr>\n",
              "  </thead>\n",
              "  <tbody>\n",
              "    <tr>\n",
              "      <th>0</th>\n",
              "      <td>A2</td>\n",
              "      <td>B2</td>\n",
              "    </tr>\n",
              "    <tr>\n",
              "      <th>1</th>\n",
              "      <td>A3</td>\n",
              "      <td>B3</td>\n",
              "    </tr>\n",
              "  </tbody>\n",
              "</table>\n",
              "</div>"
            ],
            "text/plain": [
              "    A   B\n",
              "0  A2  B2\n",
              "1  A3  B3"
            ]
          },
          "metadata": {
            "tags": []
          },
          "execution_count": 31
        }
      ]
    },
    {
      "cell_type": "code",
      "metadata": {
        "id": "fl7UUN6vSr_E",
        "colab": {
          "base_uri": "https://localhost:8080/",
          "height": 112
        },
        "outputId": "d9633475-5673-4a93-96a9-e98f3304a60a"
      },
      "source": [
        "z = pd.concat([x, y],axis=1)\n",
        "z"
      ],
      "execution_count": 32,
      "outputs": [
        {
          "output_type": "execute_result",
          "data": {
            "text/html": [
              "<div>\n",
              "<style scoped>\n",
              "    .dataframe tbody tr th:only-of-type {\n",
              "        vertical-align: middle;\n",
              "    }\n",
              "\n",
              "    .dataframe tbody tr th {\n",
              "        vertical-align: top;\n",
              "    }\n",
              "\n",
              "    .dataframe thead th {\n",
              "        text-align: right;\n",
              "    }\n",
              "</style>\n",
              "<table border=\"1\" class=\"dataframe\">\n",
              "  <thead>\n",
              "    <tr style=\"text-align: right;\">\n",
              "      <th></th>\n",
              "      <th>A</th>\n",
              "      <th>B</th>\n",
              "      <th>A</th>\n",
              "      <th>B</th>\n",
              "    </tr>\n",
              "  </thead>\n",
              "  <tbody>\n",
              "    <tr>\n",
              "      <th>0</th>\n",
              "      <td>A0</td>\n",
              "      <td>B0</td>\n",
              "      <td>A2</td>\n",
              "      <td>B2</td>\n",
              "    </tr>\n",
              "    <tr>\n",
              "      <th>1</th>\n",
              "      <td>A1</td>\n",
              "      <td>B1</td>\n",
              "      <td>A3</td>\n",
              "      <td>B3</td>\n",
              "    </tr>\n",
              "  </tbody>\n",
              "</table>\n",
              "</div>"
            ],
            "text/plain": [
              "    A   B   A   B\n",
              "0  A0  B0  A2  B2\n",
              "1  A1  B1  A3  B3"
            ]
          },
          "metadata": {
            "tags": []
          },
          "execution_count": 32
        }
      ]
    },
    {
      "cell_type": "code",
      "metadata": {
        "id": "6F62kJfXTAQV",
        "colab": {
          "base_uri": "https://localhost:8080/",
          "height": 112
        },
        "outputId": "adba9f76-2bdd-4d14-a2c5-818db54eeceb"
      },
      "source": [
        "z.loc[:,'A']"
      ],
      "execution_count": 33,
      "outputs": [
        {
          "output_type": "execute_result",
          "data": {
            "text/html": [
              "<div>\n",
              "<style scoped>\n",
              "    .dataframe tbody tr th:only-of-type {\n",
              "        vertical-align: middle;\n",
              "    }\n",
              "\n",
              "    .dataframe tbody tr th {\n",
              "        vertical-align: top;\n",
              "    }\n",
              "\n",
              "    .dataframe thead th {\n",
              "        text-align: right;\n",
              "    }\n",
              "</style>\n",
              "<table border=\"1\" class=\"dataframe\">\n",
              "  <thead>\n",
              "    <tr style=\"text-align: right;\">\n",
              "      <th></th>\n",
              "      <th>A</th>\n",
              "      <th>A</th>\n",
              "    </tr>\n",
              "  </thead>\n",
              "  <tbody>\n",
              "    <tr>\n",
              "      <th>0</th>\n",
              "      <td>A0</td>\n",
              "      <td>A2</td>\n",
              "    </tr>\n",
              "    <tr>\n",
              "      <th>1</th>\n",
              "      <td>A1</td>\n",
              "      <td>A3</td>\n",
              "    </tr>\n",
              "  </tbody>\n",
              "</table>\n",
              "</div>"
            ],
            "text/plain": [
              "    A   A\n",
              "0  A0  A2\n",
              "1  A1  A3"
            ]
          },
          "metadata": {
            "tags": []
          },
          "execution_count": 33
        }
      ]
    },
    {
      "cell_type": "code",
      "metadata": {
        "id": "DKG-kBJmThcl",
        "colab": {
          "base_uri": "https://localhost:8080/"
        },
        "outputId": "f551d0b9-df87-4ecf-fa93-ddfde29d84e5"
      },
      "source": [
        "\n",
        "ser = pd.Series(['shredder','shred','shrddr','shrdr'])\n",
        "ser"
      ],
      "execution_count": 34,
      "outputs": [
        {
          "output_type": "execute_result",
          "data": {
            "text/plain": [
              "0    shredder\n",
              "1       shred\n",
              "2      shrddr\n",
              "3       shrdr\n",
              "dtype: object"
            ]
          },
          "metadata": {
            "tags": []
          },
          "execution_count": 34
        }
      ]
    },
    {
      "cell_type": "code",
      "metadata": {
        "id": "bN-rvJrowrqd",
        "outputId": "8750c220-9be7-46ec-906a-787ee86b4f99",
        "colab": {
          "base_uri": "https://localhost:8080/"
        }
      },
      "source": [
        "\n",
        "ser = pd.Series(['01 Jan 2010', '02-02-2011', '20120303', '2013/04/04', '2014-05-05', '2015-06-06T12:20'])\n",
        "\n",
        "pd.to_datetime(ser)\n",
        "# or\n",
        "from dateutil.parser import parse\n",
        "ser.map(lambda x: parse(x))"
      ],
      "execution_count": 35,
      "outputs": [
        {
          "output_type": "execute_result",
          "data": {
            "text/plain": [
              "0   2010-01-01 00:00:00\n",
              "1   2011-02-02 00:00:00\n",
              "2   2012-03-03 00:00:00\n",
              "3   2013-04-04 00:00:00\n",
              "4   2014-05-05 00:00:00\n",
              "5   2015-06-06 12:20:00\n",
              "dtype: datetime64[ns]"
            ]
          },
          "metadata": {
            "tags": []
          },
          "execution_count": 35
        }
      ]
    }
  ]
}