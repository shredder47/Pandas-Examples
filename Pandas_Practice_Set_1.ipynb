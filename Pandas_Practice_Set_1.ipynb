{
  "nbformat": 4,
  "nbformat_minor": 0,
  "metadata": {
    "colab": {
      "name": "Pandas Practice Set 1.ipynb",
      "provenance": [],
      "collapsed_sections": []
    },
    "kernelspec": {
      "name": "python3",
      "display_name": "Python 3"
    }
  },
  "cells": [
    {
      "cell_type": "code",
      "metadata": {
        "id": "p50_YWHTpjzU"
      },
      "source": [
        "import numpy as np\n",
        "import pandas as pd"
      ],
      "execution_count": 1,
      "outputs": []
    },
    {
      "cell_type": "code",
      "metadata": {
        "id": "SmmlCjADplDy",
        "colab": {
          "base_uri": "https://localhost:8080/"
        },
        "outputId": "921626db-826f-4830-8ae3-b5aea3ee7271"
      },
      "source": [
        "# How to create a series from a list, numpy array and dict?\n",
        "mylist = list('abcedfghijklmnopqrstuvwxyz')\n",
        "myarr = np.arange(26)\n",
        "mydict = dict(zip(mylist, myarr))\n",
        "\n",
        "pd.Series(mylist)\n",
        "pd.Series(myarr)\n",
        "pd.Series(mydict)\n",
        "print('Done')"
      ],
      "execution_count": 2,
      "outputs": [
        {
          "output_type": "stream",
          "text": [
            "Done\n"
          ],
          "name": "stdout"
        }
      ]
    },
    {
      "cell_type": "code",
      "metadata": {
        "id": "Gx1AWDLUfmuW",
        "colab": {
          "base_uri": "https://localhost:8080/"
        },
        "outputId": "538bd719-4801-4c58-a1c3-d42054092a7b"
      },
      "source": [
        "# How to convert the index of a series into a column of a dataframe?\n",
        "\n",
        "ser = pd.Series(mydict)\n",
        "\n",
        "pd.DataFrame(ser).reset_index()\n",
        "print('Done')\n"
      ],
      "execution_count": 3,
      "outputs": [
        {
          "output_type": "stream",
          "text": [
            "Done\n"
          ],
          "name": "stdout"
        }
      ]
    },
    {
      "cell_type": "code",
      "metadata": {
        "id": "M3GyvMdqf7Tw",
        "colab": {
          "base_uri": "https://localhost:8080/"
        },
        "outputId": "0e72172e-ed8e-4b24-bde7-10aed1f82d2d"
      },
      "source": [
        "# How to combine many series to form a dataframe?\n",
        "\n",
        "ser1 = pd.Series(list('abcedfghijklmnopqrstuvwxyz'))\n",
        "ser2 = pd.Series(np.arange(26))\n",
        "\n",
        "pd.concat([ser1,ser2],axis = 1)\n",
        "print('Done')\n"
      ],
      "execution_count": 4,
      "outputs": [
        {
          "output_type": "stream",
          "text": [
            "Done\n"
          ],
          "name": "stdout"
        }
      ]
    },
    {
      "cell_type": "code",
      "metadata": {
        "id": "aezFCEEphjAK",
        "colab": {
          "base_uri": "https://localhost:8080/"
        },
        "outputId": "cb773228-ac58-4d9b-be90-3017347202b6"
      },
      "source": [
        "# How to assign name to the series’ index?\n",
        "ser = pd.Series(list('abcedfghijklmnopqrstuvwxyz'))\n",
        "ser.rename_axis('name')\n",
        "print('Done')"
      ],
      "execution_count": 5,
      "outputs": [
        {
          "output_type": "stream",
          "text": [
            "Done\n"
          ],
          "name": "stdout"
        }
      ]
    },
    {
      "cell_type": "code",
      "metadata": {
        "id": "H35-vG3jmnhV",
        "colab": {
          "base_uri": "https://localhost:8080/"
        },
        "outputId": "c65dc74b-e21d-4660-90d7-fc45257143a9"
      },
      "source": [
        "# How to get the items of series A not present in series B?\n",
        "\n",
        "ser1 = pd.Series([1, 2, 3, 4, 5])\n",
        "ser2 = pd.Series([4, 5, 6, 7, 8])\n",
        "\n",
        "ser1[~ser1.isin(ser2)]\n"
      ],
      "execution_count": 6,
      "outputs": [
        {
          "output_type": "execute_result",
          "data": {
            "text/plain": [
              "0    1\n",
              "1    2\n",
              "2    3\n",
              "dtype: int64"
            ]
          },
          "metadata": {
            "tags": []
          },
          "execution_count": 6
        }
      ]
    },
    {
      "cell_type": "code",
      "metadata": {
        "id": "p_fAdtnsn4QU",
        "colab": {
          "base_uri": "https://localhost:8080/"
        },
        "outputId": "569cda55-9ebc-47be-c7b1-8046169d9ec0"
      },
      "source": [
        "# How to get the items not common to both series A and series B?\n",
        "\n",
        "ser1 = pd.Series([1, 2, 3, 4, 5])\n",
        "ser2 = pd.Series([4, 5, 6, 7, 8])\n",
        "\n",
        "ser_u = pd.Series(np.union1d(ser1, ser2))  # union\n",
        "ser_i = pd.Series(np.intersect1d(ser1, ser2))  # intersect\n",
        "ser_u[~ser_u.isin(ser_i)]"
      ],
      "execution_count": 7,
      "outputs": [
        {
          "output_type": "execute_result",
          "data": {
            "text/plain": [
              "0    1\n",
              "1    2\n",
              "2    3\n",
              "5    6\n",
              "6    7\n",
              "7    8\n",
              "dtype: int64"
            ]
          },
          "metadata": {
            "tags": []
          },
          "execution_count": 7
        }
      ]
    },
    {
      "cell_type": "code",
      "metadata": {
        "id": "v9pwXJ4fogX8",
        "colab": {
          "base_uri": "https://localhost:8080/"
        },
        "outputId": "d21179a1-fb4f-470f-b1c0-0b3a0fb58630"
      },
      "source": [
        "# How to get the minimum, 25th percentile, median, 75th, and max of a numeric series?\n",
        "\n",
        "ser = pd.Series(np.random.normal(10, 5, 25))\n",
        "ser.describe()\n",
        "np.percentile(ser, q=[0, 25, 50, 75, 100])\n"
      ],
      "execution_count": 8,
      "outputs": [
        {
          "output_type": "execute_result",
          "data": {
            "text/plain": [
              "array([ 2.24957229,  5.83167962,  9.05114149, 13.57570986, 18.93251676])"
            ]
          },
          "metadata": {
            "tags": []
          },
          "execution_count": 8
        }
      ]
    },
    {
      "cell_type": "code",
      "metadata": {
        "id": "C-adwNruo5yI",
        "colab": {
          "base_uri": "https://localhost:8080/"
        },
        "outputId": "88cfda85-b220-4a0d-d908-70dff73efe79"
      },
      "source": [
        "# How to get frequency counts of unique items of a series?\n",
        "\n",
        "ser = pd.Series(np.take(list('abcdefgh'), np.random.randint(8, size=30)))\n",
        "ser.value_counts()\n"
      ],
      "execution_count": 9,
      "outputs": [
        {
          "output_type": "execute_result",
          "data": {
            "text/plain": [
              "h    7\n",
              "a    5\n",
              "g    4\n",
              "f    3\n",
              "b    3\n",
              "e    3\n",
              "d    3\n",
              "c    2\n",
              "dtype: int64"
            ]
          },
          "metadata": {
            "tags": []
          },
          "execution_count": 9
        }
      ]
    },
    {
      "cell_type": "code",
      "metadata": {
        "id": "Fb858WBopxmm",
        "colab": {
          "base_uri": "https://localhost:8080/"
        },
        "outputId": "70d1ba5f-1883-4b20-d63d-1a45a6a37cf2"
      },
      "source": [
        "# How to keep only top 2 most frequent values as it is and replace everything else as ‘Other’?\n",
        "\n",
        "ser = pd.Series(np.random.RandomState(100).randint(1, 5, [12]))\n",
        "\n",
        "print(ser.value_counts())\n",
        "\n",
        "topTwo = ser.value_counts().head(2).index\n",
        "\n",
        "print(\"Top 2 Frequent numbers: -> \",topTwo )\n",
        "\n",
        "# getting numbers that are not top two for assigning 'others'\n",
        "\n",
        "ser = pd.Series(np.where(ser.isin(topTwo), ser, 'Other'))\n",
        "# OR \n",
        "# ser[~ser.isin(topTwo)] = 'Other'\n",
        "\n",
        "ser"
      ],
      "execution_count": 10,
      "outputs": [
        {
          "output_type": "stream",
          "text": [
            "4    4\n",
            "1    4\n",
            "3    3\n",
            "2    1\n",
            "dtype: int64\n",
            "Top 2 Frequent numbers: ->  Int64Index([4, 1], dtype='int64')\n"
          ],
          "name": "stdout"
        },
        {
          "output_type": "execute_result",
          "data": {
            "text/plain": [
              "0         1\n",
              "1         1\n",
              "2         4\n",
              "3         4\n",
              "4         4\n",
              "5         4\n",
              "6         1\n",
              "7     Other\n",
              "8     Other\n",
              "9         1\n",
              "10    Other\n",
              "11    Other\n",
              "dtype: object"
            ]
          },
          "metadata": {
            "tags": []
          },
          "execution_count": 10
        }
      ]
    },
    {
      "cell_type": "code",
      "metadata": {
        "id": "JD-GRYjFllO3",
        "colab": {
          "base_uri": "https://localhost:8080/"
        },
        "outputId": "e0f61bfd-db1f-4951-93ae-448d089e85dd"
      },
      "source": [
        "# How to bin a numeric series to 10 groups of equal size?\n",
        "ser = pd.Series(np.random.randint(1,100,20))\n",
        "print(ser)\n",
        "pd.qcut(ser, q=[0, .10, .20, .3, .4, .5, .6, .7, .8, .9, 1],labels=['1st', '2nd', '3rd', '4th', '5th', '6th', '7th', '8th', '9th', '10th']).head()"
      ],
      "execution_count": 11,
      "outputs": [
        {
          "output_type": "stream",
          "text": [
            "0     89\n",
            "1     92\n",
            "2     81\n",
            "3     56\n",
            "4     25\n",
            "5     67\n",
            "6     86\n",
            "7     14\n",
            "8     27\n",
            "9     94\n",
            "10     3\n",
            "11    78\n",
            "12    82\n",
            "13    15\n",
            "14    41\n",
            "15    91\n",
            "16    86\n",
            "17    39\n",
            "18    58\n",
            "19    87\n",
            "dtype: int64\n"
          ],
          "name": "stdout"
        },
        {
          "output_type": "execute_result",
          "data": {
            "text/plain": [
              "0     9th\n",
              "1    10th\n",
              "2     6th\n",
              "3     4th\n",
              "4     2nd\n",
              "dtype: category\n",
              "Categories (10, object): ['1st' < '2nd' < '3rd' < '4th' ... '7th' < '8th' < '9th' < '10th']"
            ]
          },
          "metadata": {
            "tags": []
          },
          "execution_count": 11
        }
      ]
    },
    {
      "cell_type": "code",
      "metadata": {
        "id": "XDICfID1m_9w",
        "colab": {
          "base_uri": "https://localhost:8080/"
        },
        "outputId": "6e94e3a5-9e03-4ac2-a136-f488a53c5abb"
      },
      "source": [
        "# How to convert a numpy array to a dataframe of given shape? \n",
        "# Reshape the series ser into a dataframe with 7 rows and 5 columns\n",
        "\n",
        "ser = pd.Series(np.random.randint(1, 10, 35))\n",
        "\n",
        "df = pd.DataFrame(ser.values.reshape(7,5))\n",
        "print(df)"
      ],
      "execution_count": 12,
      "outputs": [
        {
          "output_type": "stream",
          "text": [
            "   0  1  2  3  4\n",
            "0  2  7  3  4  2\n",
            "1  6  5  4  7  3\n",
            "2  7  3  1  6  2\n",
            "3  8  7  7  2  6\n",
            "4  7  9  6  8  9\n",
            "5  3  6  4  5  5\n",
            "6  3  8  1  5  7\n"
          ],
          "name": "stdout"
        }
      ]
    },
    {
      "cell_type": "code",
      "metadata": {
        "id": "ZmkLZcLapKne",
        "colab": {
          "base_uri": "https://localhost:8080/"
        },
        "outputId": "7544e0f1-9310-4643-9eb5-e37ec23f98b4"
      },
      "source": [
        "# How to find the positions of numbers that are multiples of 3 from a series?\n",
        "ser = pd.Series([6,8,6,7,6,2,4])\n",
        "\n",
        "print(ser[ser.apply(lambda x : x % 3 == 0)].index) #shape is 1,3\n",
        "# or\n",
        "\n",
        "print(np.argwhere(ser.values % 3 == 0)) # shape is 3,1\n",
        "\n"
      ],
      "execution_count": 13,
      "outputs": [
        {
          "output_type": "stream",
          "text": [
            "Int64Index([0, 2, 4], dtype='int64')\n",
            "[[0]\n",
            " [2]\n",
            " [4]]\n"
          ],
          "name": "stdout"
        }
      ]
    },
    {
      "cell_type": "code",
      "metadata": {
        "id": "4G-4yioRqOxq",
        "colab": {
          "base_uri": "https://localhost:8080/"
        },
        "outputId": "0ebbe699-9234-475d-8d8f-3f48ff2c322f"
      },
      "source": [
        "#  How to extract items at given positions from a series\n",
        "\n",
        "ser = pd.Series(list('abcdefghijklmnopqrstuvwxyz'))\n",
        "pos = [0, 4, 8, 14, 20]\n",
        "\n",
        "ser[pos]"
      ],
      "execution_count": 14,
      "outputs": [
        {
          "output_type": "execute_result",
          "data": {
            "text/plain": [
              "0     a\n",
              "4     e\n",
              "8     i\n",
              "14    o\n",
              "20    u\n",
              "dtype: object"
            ]
          },
          "metadata": {
            "tags": []
          },
          "execution_count": 14
        }
      ]
    },
    {
      "cell_type": "code",
      "metadata": {
        "id": "uYimnTzwshie",
        "colab": {
          "base_uri": "https://localhost:8080/",
          "height": 206
        },
        "outputId": "147ba712-68ef-46b7-d579-331dc847a4c5"
      },
      "source": [
        "# How to stack two series vertically and horizontally ?\n",
        "\n",
        "ser1 = pd.Series(range(5))\n",
        "ser2 = pd.Series(list('abcde'))\n",
        "\n",
        "\n",
        "pd.concat([ser1,ser2],axis = 0 ) # vertically\n",
        "\n",
        "pd.concat([ser1,ser2],axis = 1 ) # horizontally"
      ],
      "execution_count": 15,
      "outputs": [
        {
          "output_type": "execute_result",
          "data": {
            "text/html": [
              "<div>\n",
              "<style scoped>\n",
              "    .dataframe tbody tr th:only-of-type {\n",
              "        vertical-align: middle;\n",
              "    }\n",
              "\n",
              "    .dataframe tbody tr th {\n",
              "        vertical-align: top;\n",
              "    }\n",
              "\n",
              "    .dataframe thead th {\n",
              "        text-align: right;\n",
              "    }\n",
              "</style>\n",
              "<table border=\"1\" class=\"dataframe\">\n",
              "  <thead>\n",
              "    <tr style=\"text-align: right;\">\n",
              "      <th></th>\n",
              "      <th>0</th>\n",
              "      <th>1</th>\n",
              "    </tr>\n",
              "  </thead>\n",
              "  <tbody>\n",
              "    <tr>\n",
              "      <th>0</th>\n",
              "      <td>0</td>\n",
              "      <td>a</td>\n",
              "    </tr>\n",
              "    <tr>\n",
              "      <th>1</th>\n",
              "      <td>1</td>\n",
              "      <td>b</td>\n",
              "    </tr>\n",
              "    <tr>\n",
              "      <th>2</th>\n",
              "      <td>2</td>\n",
              "      <td>c</td>\n",
              "    </tr>\n",
              "    <tr>\n",
              "      <th>3</th>\n",
              "      <td>3</td>\n",
              "      <td>d</td>\n",
              "    </tr>\n",
              "    <tr>\n",
              "      <th>4</th>\n",
              "      <td>4</td>\n",
              "      <td>e</td>\n",
              "    </tr>\n",
              "  </tbody>\n",
              "</table>\n",
              "</div>"
            ],
            "text/plain": [
              "   0  1\n",
              "0  0  a\n",
              "1  1  b\n",
              "2  2  c\n",
              "3  3  d\n",
              "4  4  e"
            ]
          },
          "metadata": {
            "tags": []
          },
          "execution_count": 15
        }
      ]
    },
    {
      "cell_type": "code",
      "metadata": {
        "id": "xkj2RJdxtF85",
        "colab": {
          "base_uri": "https://localhost:8080/"
        },
        "outputId": "0d171ba0-9e56-49a1-9106-d20c7422e2da"
      },
      "source": [
        "# How to get the positions of items of series A in another series B?\n",
        "\n",
        "ser1 = pd.Series([10, 9, 6, 5, 3, 1, 12, 8, 13])\n",
        "ser2 = pd.Series([1, 3, 10, 13])\n",
        "\n",
        "#sol 1\n",
        "list(ser1[ser1.isin(ser2)].index)\n",
        "#sol 2 \n",
        "[pd.Index(ser1).get_loc(i) for i in ser2]\n",
        "\n"
      ],
      "execution_count": 16,
      "outputs": [
        {
          "output_type": "execute_result",
          "data": {
            "text/plain": [
              "[5, 4, 0, 8]"
            ]
          },
          "metadata": {
            "tags": []
          },
          "execution_count": 16
        }
      ]
    },
    {
      "cell_type": "code",
      "metadata": {
        "id": "ZPC5oAp0tlAg",
        "colab": {
          "base_uri": "https://localhost:8080/"
        },
        "outputId": "cd45826b-1dd6-4698-954a-b5605d99c467"
      },
      "source": [
        "# How to compute the mean squared error on a truth and predicted series?\n",
        "truth = pd.Series(range(10))\n",
        "pred = pd.Series(range(10)) + np.random.random(10)\n",
        "np.mean((truth-pred)**2)"
      ],
      "execution_count": 17,
      "outputs": [
        {
          "output_type": "execute_result",
          "data": {
            "text/plain": [
              "0.29923742022726224"
            ]
          },
          "metadata": {
            "tags": []
          },
          "execution_count": 17
        }
      ]
    },
    {
      "cell_type": "code",
      "metadata": {
        "id": "fSiYcpnuvSD4",
        "colab": {
          "base_uri": "https://localhost:8080/"
        },
        "outputId": "11a7b51b-fd90-425a-88a4-cf9c0a2f0bc6"
      },
      "source": [
        "# How to convert the first character of each element in a series to uppercase?\n",
        "ser = pd.Series(['how', 'to', 'kick', 'ass?'])\n",
        "# ser.apply(str.title)\n",
        "ser.map(lambda t : t.title())\n"
      ],
      "execution_count": 18,
      "outputs": [
        {
          "output_type": "execute_result",
          "data": {
            "text/plain": [
              "0     How\n",
              "1      To\n",
              "2    Kick\n",
              "3    Ass?\n",
              "dtype: object"
            ]
          },
          "metadata": {
            "tags": []
          },
          "execution_count": 18
        }
      ]
    },
    {
      "cell_type": "code",
      "metadata": {
        "id": "QKR47grLwNQ1",
        "colab": {
          "base_uri": "https://localhost:8080/"
        },
        "outputId": "27638476-84aa-4aee-aadd-e136a345d85d"
      },
      "source": [
        "# How to calculate the number of characters in each word in a series?\n",
        "ser = pd.Series(['how', 'to', 'kick', 'ass?'])\n",
        "ser.apply(len)"
      ],
      "execution_count": 19,
      "outputs": [
        {
          "output_type": "execute_result",
          "data": {
            "text/plain": [
              "0    3\n",
              "1    2\n",
              "2    4\n",
              "3    4\n",
              "dtype: int64"
            ]
          },
          "metadata": {
            "tags": []
          },
          "execution_count": 19
        }
      ]
    },
    {
      "cell_type": "code",
      "metadata": {
        "id": "ux5gfboqwzii",
        "colab": {
          "base_uri": "https://localhost:8080/"
        },
        "outputId": "ca6dfc1c-5765-46e3-9216-2715415852e1"
      },
      "source": [
        "# How to compute difference of differences between consequtive numbers of a series?\n",
        "ser = pd.Series([1, 3, 6, 10, 15, 21, 27, 35])\n",
        "print(ser.diff().tolist())\n"
      ],
      "execution_count": 20,
      "outputs": [
        {
          "output_type": "stream",
          "text": [
            "[nan, 2.0, 3.0, 4.0, 5.0, 6.0, 6.0, 8.0]\n"
          ],
          "name": "stdout"
        }
      ]
    },
    {
      "cell_type": "code",
      "metadata": {
        "id": "x8mkLkmdxW8l",
        "colab": {
          "base_uri": "https://localhost:8080/"
        },
        "outputId": "d6a90bfa-1672-45ca-de4c-b43fd3778ca3"
      },
      "source": [
        "# How to convert a series of date-strings to a timeseries?\n",
        "\n",
        "ser = pd.Series(['01 Jan 2010', '02-02-2011', '20120303', '2013/04/04', '2014-05-05', '2015-06-06T12:20'])\n",
        "\n",
        "pd.to_datetime(ser)\n",
        "# or\n",
        "from dateutil.parser import parse\n",
        "ser.map(lambda x: parse(x))\n"
      ],
      "execution_count": 21,
      "outputs": [
        {
          "output_type": "execute_result",
          "data": {
            "text/plain": [
              "0   2010-01-01 00:00:00\n",
              "1   2011-02-02 00:00:00\n",
              "2   2012-03-03 00:00:00\n",
              "3   2013-04-04 00:00:00\n",
              "4   2014-05-05 00:00:00\n",
              "5   2015-06-06 12:20:00\n",
              "dtype: datetime64[ns]"
            ]
          },
          "metadata": {
            "tags": []
          },
          "execution_count": 21
        }
      ]
    },
    {
      "cell_type": "code",
      "metadata": {
        "id": "Ziyays2t0WJx",
        "colab": {
          "base_uri": "https://localhost:8080/"
        },
        "outputId": "07e2ad17-d00f-4e85-82b4-b53398cd3ab1"
      },
      "source": [
        "# How to get the day of month, week number, day of year and day of week from a series of date strings?\n",
        "ser = pd.Series(['01 Jan 2010', '02-02-2011', '20120303', '2013/04/04', '2014-05-05', '2015-06-06T12:20'])\n",
        "\n",
        "ser = pd.to_datetime(ser)\n",
        "ser.dt.day.values\n",
        "ser.dt.weekofyear.values\n",
        "ser.dt.dayofyear.values\n",
        "\n",
        "\n"
      ],
      "execution_count": 22,
      "outputs": [
        {
          "output_type": "stream",
          "text": [
            "/usr/local/lib/python3.6/dist-packages/ipykernel_launcher.py:6: FutureWarning: Series.dt.weekofyear and Series.dt.week have been deprecated.  Please use Series.dt.isocalendar().week instead.\n",
            "  \n"
          ],
          "name": "stderr"
        },
        {
          "output_type": "execute_result",
          "data": {
            "text/plain": [
              "array([  1,  33,  63,  94, 125, 157])"
            ]
          },
          "metadata": {
            "tags": []
          },
          "execution_count": 22
        }
      ]
    },
    {
      "cell_type": "code",
      "metadata": {
        "id": "fSp8-JfW1aMl",
        "colab": {
          "base_uri": "https://localhost:8080/"
        },
        "outputId": "58cd7534-0c94-4d2c-93d3-5ec56d55652f"
      },
      "source": [
        "# How to filter words that contain atleast 2 vowels from a series?\n",
        "\n",
        "ser = pd.Series(['Apple', 'Orange', 'Plan', 'Python', 'Money'])\n",
        "v = ['a','e','i','o','u']\n",
        "\n",
        "ser[ser.apply(lambda x:  sum( c in v for c in list(x.lower()))>= 2)]\n",
        "\n",
        "ser"
      ],
      "execution_count": 23,
      "outputs": [
        {
          "output_type": "execute_result",
          "data": {
            "text/plain": [
              "0     Apple\n",
              "1    Orange\n",
              "2      Plan\n",
              "3    Python\n",
              "4     Money\n",
              "dtype: object"
            ]
          },
          "metadata": {
            "tags": []
          },
          "execution_count": 23
        }
      ]
    },
    {
      "cell_type": "code",
      "metadata": {
        "id": "MMs4HJyA52u_",
        "colab": {
          "base_uri": "https://localhost:8080/"
        },
        "outputId": "35cd0627-207e-4e5a-f8bd-bfc87cd0780c"
      },
      "source": [
        "# How to filter valid emails from a series?\n",
        "emails = pd.Series(['buying books at amazom.com', 'rameses@egypt.com', 'matt@t.co', 'narendra@modi.com'])\n",
        "pattern ='[A-Za-z0-9._%+-]+@[A-Za-z0-9.-]+\\\\.[A-Za-z]{2,4}'\n",
        "\n",
        "import re\n",
        "mask = emails.map(lambda x: bool(re.match(pattern, x)))\n",
        "emails[mask]"
      ],
      "execution_count": 24,
      "outputs": [
        {
          "output_type": "execute_result",
          "data": {
            "text/plain": [
              "1    rameses@egypt.com\n",
              "2            matt@t.co\n",
              "3    narendra@modi.com\n",
              "dtype: object"
            ]
          },
          "metadata": {
            "tags": []
          },
          "execution_count": 24
        }
      ]
    },
    {
      "cell_type": "code",
      "metadata": {
        "colab": {
          "base_uri": "https://localhost:8080/"
        },
        "id": "dLAe63rr1aP8",
        "outputId": "5fcb2704-e01e-435d-9d96-f40e75dee2ac"
      },
      "source": [
        "x = [[1,2],[3,4]]\n",
        "y = [[2,4],[6,8]]\n",
        "\n",
        "np.concatenate([x,y],axis =1)"
      ],
      "execution_count": 35,
      "outputs": [
        {
          "output_type": "execute_result",
          "data": {
            "text/plain": [
              "array([[1, 2, 2, 4],\n",
              "       [3, 4, 6, 8]])"
            ]
          },
          "metadata": {
            "tags": []
          },
          "execution_count": 35
        }
      ]
    },
    {
      "cell_type": "code",
      "metadata": {
        "id": "Hsv3X0EuhHX3",
        "colab": {
          "base_uri": "https://localhost:8080/"
        },
        "outputId": "acea96b0-d913-42ea-b846-1e49b5b2a11b"
      },
      "source": [
        "x = [[1,2],[3,4]]\n",
        "y = [[2,4],[6,8]]\n",
        "\n",
        "np.concatenate([x,y],axis =0)"
      ],
      "execution_count": 25,
      "outputs": [
        {
          "output_type": "execute_result",
          "data": {
            "text/plain": [
              "array([[1, 2],\n",
              "       [3, 4],\n",
              "       [2, 4],\n",
              "       [6, 8]])"
            ]
          },
          "metadata": {
            "tags": []
          },
          "execution_count": 25
        }
      ]
    },
    {
      "cell_type": "code",
      "metadata": {
        "id": "ruNIjswmPka3",
        "colab": {
          "base_uri": "https://localhost:8080/"
        },
        "outputId": "da8150f9-40fd-459f-a716-0ba35eb9eb19"
      },
      "source": [
        "ser1 = pd.Series(['A', 'B', 'C'], index=[1, 2, 3])\n",
        "ser2 = pd.Series(['D', 'E', 'F'], index=[1, 2, 3])\n",
        "\n",
        "pd.concat([ser1, ser2])\n",
        "\n"
      ],
      "execution_count": 26,
      "outputs": [
        {
          "output_type": "execute_result",
          "data": {
            "text/plain": [
              "1    A\n",
              "2    B\n",
              "3    C\n",
              "1    D\n",
              "2    E\n",
              "3    F\n",
              "dtype: object"
            ]
          },
          "metadata": {
            "tags": []
          },
          "execution_count": 26
        }
      ]
    },
    {
      "cell_type": "code",
      "metadata": {
        "id": "u7nFE7vtRkJU"
      },
      "source": [
        "def make_df(cols, ind):\n",
        " \"\"\"Quickly make a DataFrame\"\"\"\n",
        " data = {c: [str(c) + str(i) for i in ind]\n",
        " for c in cols}\n",
        " return pd.DataFrame(data, ind)"
      ],
      "execution_count": 27,
      "outputs": []
    },
    {
      "cell_type": "code",
      "metadata": {
        "id": "_NvQ5wSRSg9n"
      },
      "source": [
        "x = make_df('AB', [0, 1])\n",
        "y = make_df('AB', [2, 3])"
      ],
      "execution_count": 28,
      "outputs": []
    },
    {
      "cell_type": "code",
      "metadata": {
        "id": "v8iIeu83SpT2",
        "colab": {
          "base_uri": "https://localhost:8080/",
          "height": 112
        },
        "outputId": "ec230c5c-29b4-4994-fa11-34a46fe376df"
      },
      "source": [
        "y.index = x.index\n",
        "x\n"
      ],
      "execution_count": 29,
      "outputs": [
        {
          "output_type": "execute_result",
          "data": {
            "text/html": [
              "<div>\n",
              "<style scoped>\n",
              "    .dataframe tbody tr th:only-of-type {\n",
              "        vertical-align: middle;\n",
              "    }\n",
              "\n",
              "    .dataframe tbody tr th {\n",
              "        vertical-align: top;\n",
              "    }\n",
              "\n",
              "    .dataframe thead th {\n",
              "        text-align: right;\n",
              "    }\n",
              "</style>\n",
              "<table border=\"1\" class=\"dataframe\">\n",
              "  <thead>\n",
              "    <tr style=\"text-align: right;\">\n",
              "      <th></th>\n",
              "      <th>A</th>\n",
              "      <th>B</th>\n",
              "    </tr>\n",
              "  </thead>\n",
              "  <tbody>\n",
              "    <tr>\n",
              "      <th>0</th>\n",
              "      <td>A0</td>\n",
              "      <td>B0</td>\n",
              "    </tr>\n",
              "    <tr>\n",
              "      <th>1</th>\n",
              "      <td>A1</td>\n",
              "      <td>B1</td>\n",
              "    </tr>\n",
              "  </tbody>\n",
              "</table>\n",
              "</div>"
            ],
            "text/plain": [
              "    A   B\n",
              "0  A0  B0\n",
              "1  A1  B1"
            ]
          },
          "metadata": {
            "tags": []
          },
          "execution_count": 29
        }
      ]
    },
    {
      "cell_type": "code",
      "metadata": {
        "id": "3eguf_VjSrYT",
        "colab": {
          "base_uri": "https://localhost:8080/",
          "height": 112
        },
        "outputId": "7a9ccde3-a565-4930-e4dc-f22b75f235fb"
      },
      "source": [
        "y"
      ],
      "execution_count": 30,
      "outputs": [
        {
          "output_type": "execute_result",
          "data": {
            "text/html": [
              "<div>\n",
              "<style scoped>\n",
              "    .dataframe tbody tr th:only-of-type {\n",
              "        vertical-align: middle;\n",
              "    }\n",
              "\n",
              "    .dataframe tbody tr th {\n",
              "        vertical-align: top;\n",
              "    }\n",
              "\n",
              "    .dataframe thead th {\n",
              "        text-align: right;\n",
              "    }\n",
              "</style>\n",
              "<table border=\"1\" class=\"dataframe\">\n",
              "  <thead>\n",
              "    <tr style=\"text-align: right;\">\n",
              "      <th></th>\n",
              "      <th>A</th>\n",
              "      <th>B</th>\n",
              "    </tr>\n",
              "  </thead>\n",
              "  <tbody>\n",
              "    <tr>\n",
              "      <th>0</th>\n",
              "      <td>A2</td>\n",
              "      <td>B2</td>\n",
              "    </tr>\n",
              "    <tr>\n",
              "      <th>1</th>\n",
              "      <td>A3</td>\n",
              "      <td>B3</td>\n",
              "    </tr>\n",
              "  </tbody>\n",
              "</table>\n",
              "</div>"
            ],
            "text/plain": [
              "    A   B\n",
              "0  A2  B2\n",
              "1  A3  B3"
            ]
          },
          "metadata": {
            "tags": []
          },
          "execution_count": 30
        }
      ]
    },
    {
      "cell_type": "code",
      "metadata": {
        "id": "fl7UUN6vSr_E",
        "colab": {
          "base_uri": "https://localhost:8080/",
          "height": 112
        },
        "outputId": "f4cae8bd-94cf-4412-e9da-11b3ccb29340"
      },
      "source": [
        "z = pd.concat([x, y],axis=1)\n",
        "z"
      ],
      "execution_count": 31,
      "outputs": [
        {
          "output_type": "execute_result",
          "data": {
            "text/html": [
              "<div>\n",
              "<style scoped>\n",
              "    .dataframe tbody tr th:only-of-type {\n",
              "        vertical-align: middle;\n",
              "    }\n",
              "\n",
              "    .dataframe tbody tr th {\n",
              "        vertical-align: top;\n",
              "    }\n",
              "\n",
              "    .dataframe thead th {\n",
              "        text-align: right;\n",
              "    }\n",
              "</style>\n",
              "<table border=\"1\" class=\"dataframe\">\n",
              "  <thead>\n",
              "    <tr style=\"text-align: right;\">\n",
              "      <th></th>\n",
              "      <th>A</th>\n",
              "      <th>B</th>\n",
              "      <th>A</th>\n",
              "      <th>B</th>\n",
              "    </tr>\n",
              "  </thead>\n",
              "  <tbody>\n",
              "    <tr>\n",
              "      <th>0</th>\n",
              "      <td>A0</td>\n",
              "      <td>B0</td>\n",
              "      <td>A2</td>\n",
              "      <td>B2</td>\n",
              "    </tr>\n",
              "    <tr>\n",
              "      <th>1</th>\n",
              "      <td>A1</td>\n",
              "      <td>B1</td>\n",
              "      <td>A3</td>\n",
              "      <td>B3</td>\n",
              "    </tr>\n",
              "  </tbody>\n",
              "</table>\n",
              "</div>"
            ],
            "text/plain": [
              "    A   B   A   B\n",
              "0  A0  B0  A2  B2\n",
              "1  A1  B1  A3  B3"
            ]
          },
          "metadata": {
            "tags": []
          },
          "execution_count": 31
        }
      ]
    },
    {
      "cell_type": "code",
      "metadata": {
        "id": "6F62kJfXTAQV",
        "colab": {
          "base_uri": "https://localhost:8080/",
          "height": 112
        },
        "outputId": "a1ed4199-ce3d-4702-f960-122c8c0b4fb1"
      },
      "source": [
        "z.loc[:,'A']"
      ],
      "execution_count": 32,
      "outputs": [
        {
          "output_type": "execute_result",
          "data": {
            "text/html": [
              "<div>\n",
              "<style scoped>\n",
              "    .dataframe tbody tr th:only-of-type {\n",
              "        vertical-align: middle;\n",
              "    }\n",
              "\n",
              "    .dataframe tbody tr th {\n",
              "        vertical-align: top;\n",
              "    }\n",
              "\n",
              "    .dataframe thead th {\n",
              "        text-align: right;\n",
              "    }\n",
              "</style>\n",
              "<table border=\"1\" class=\"dataframe\">\n",
              "  <thead>\n",
              "    <tr style=\"text-align: right;\">\n",
              "      <th></th>\n",
              "      <th>A</th>\n",
              "      <th>A</th>\n",
              "    </tr>\n",
              "  </thead>\n",
              "  <tbody>\n",
              "    <tr>\n",
              "      <th>0</th>\n",
              "      <td>A0</td>\n",
              "      <td>A2</td>\n",
              "    </tr>\n",
              "    <tr>\n",
              "      <th>1</th>\n",
              "      <td>A1</td>\n",
              "      <td>A3</td>\n",
              "    </tr>\n",
              "  </tbody>\n",
              "</table>\n",
              "</div>"
            ],
            "text/plain": [
              "    A   A\n",
              "0  A0  A2\n",
              "1  A1  A3"
            ]
          },
          "metadata": {
            "tags": []
          },
          "execution_count": 32
        }
      ]
    },
    {
      "cell_type": "code",
      "metadata": {
        "id": "DKG-kBJmThcl",
        "colab": {
          "base_uri": "https://localhost:8080/"
        },
        "outputId": "6fc89286-15b9-4e25-e64b-c047ec806df5"
      },
      "source": [
        "\n",
        "ser = pd.Series(['shredder','shred','shrddr','shrdr'])\n",
        "ser"
      ],
      "execution_count": 33,
      "outputs": [
        {
          "output_type": "execute_result",
          "data": {
            "text/plain": [
              "0    shredder\n",
              "1       shred\n",
              "2      shrddr\n",
              "3       shrdr\n",
              "dtype: object"
            ]
          },
          "metadata": {
            "tags": []
          },
          "execution_count": 33
        }
      ]
    },
    {
      "cell_type": "code",
      "metadata": {
        "id": "bN-rvJrowrqd"
      },
      "source": [
        ""
      ],
      "execution_count": null,
      "outputs": []
    }
  ]
}